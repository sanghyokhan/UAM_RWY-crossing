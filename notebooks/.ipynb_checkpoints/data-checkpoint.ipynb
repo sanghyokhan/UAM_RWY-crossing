{
 "cells": [
  {
   "cell_type": "code",
   "execution_count": 1,
   "id": "f2cf7d2a",
   "metadata": {
    "ExecuteTime": {
     "end_time": "2021-08-05T09:50:49.880711Z",
     "start_time": "2021-08-05T09:50:48.857252Z"
    }
   },
   "outputs": [],
   "source": [
    "import pandas as pd\n",
    "import numpy as np\n",
    "import matplotlib.pyplot as plt\n",
    "import warnings\n",
    "from datetime import datetime\n",
    "import re\n",
    "import warnings"
   ]
  },
  {
   "cell_type": "code",
   "execution_count": 2,
   "id": "5482a107",
   "metadata": {
    "ExecuteTime": {
     "end_time": "2021-08-05T09:50:53.092280Z",
     "start_time": "2021-08-05T09:50:53.083303Z"
    }
   },
   "outputs": [],
   "source": [
    "warnings.simplefilter('ignore')"
   ]
  },
  {
   "cell_type": "markdown",
   "id": "d73e8b5d",
   "metadata": {},
   "source": [
    "## Flightplan"
   ]
  },
  {
   "cell_type": "code",
   "execution_count": null,
   "id": "ea44af08",
   "metadata": {},
   "outputs": [],
   "source": [
    "arr_df = pd.DataFrame()\n",
    "dep_df = pd.DataFrame()"
   ]
  },
  {
   "cell_type": "code",
   "execution_count": null,
   "id": "873153ff",
   "metadata": {},
   "outputs": [],
   "source": [
    "daterange = pd.date_range(start='12/22/2019', end='12/28/2019').strftime('%Y%m%d')"
   ]
  },
  {
   "cell_type": "code",
   "execution_count": null,
   "id": "ad7cc427",
   "metadata": {},
   "outputs": [],
   "source": [
    "for date in daterange.tolist():\n",
    "    arr = pd.read_excel(f'../data/flightplan/arr_{date}.xlsx', header = 0)\n",
    "    dep = pd.read_excel(f'../data/flightplan/dep_{date}.xlsx', header = 0)\n",
    "    datee = datetime.strptime(date,'%Y%m%d').strftime('%Y-%m-%d')\n",
    "    arr['SDT'] = datee\n",
    "    dep['SDT'] = datee\n",
    "    arr_df = pd.concat([arr_df, arr])\n",
    "    dep_df = pd.concat([dep_df, dep])"
   ]
  },
  {
   "cell_type": "code",
   "execution_count": null,
   "id": "6c22b07e",
   "metadata": {},
   "outputs": [],
   "source": [
    "arr_df = arr_df.drop('Seq', axis = 1)\n",
    "dep_df = dep_df.drop('Seq', axis = 1)"
   ]
  },
  {
   "cell_type": "code",
   "execution_count": null,
   "id": "42594307",
   "metadata": {},
   "outputs": [],
   "source": [
    "arr_df.to_csv('../input/arr_fp_20191222-20191228.csv')\n",
    "dep_df.to_csv('../input/dep_fp_20191222-20191228.csv')"
   ]
  },
  {
   "cell_type": "code",
   "execution_count": null,
   "id": "e82399ad",
   "metadata": {},
   "outputs": [],
   "source": [
    "# ACDM하고 데이터를 합칠 수 있을까?? -> 활주로 정보 넣기\n",
    "# Traj0501 = io.loadmat(data_file)\n"
   ]
  },
  {
   "cell_type": "markdown",
   "id": "8445dcb8",
   "metadata": {},
   "source": [
    "## Takeoff Distance"
   ]
  },
  {
   "cell_type": "markdown",
   "id": "e5c1ac6e",
   "metadata": {
    "ExecuteTime": {
     "end_time": "2021-08-05T08:16:33.159586Z",
     "start_time": "2021-08-05T08:16:33.141292Z"
    }
   },
   "source": [
    "T/O Distance \n",
    "\n",
    "- OAT, Pressure Altitude <br>\n",
    "\t-> METAR에서 가져올 수 있을 듯\n",
    "\t-> Density Altitude를 구하고 변수로 넣기\n",
    "\n",
    "- Gross Weight <br>\n",
    "\t-> 이게 애매하단 말이지...\n",
    "\t-> 기종 별로는 할 수 있음\n",
    "\n",
    "- Wind components <br>\n",
    "\t-> METAR에서 가져오기\n",
    "\t-> Headwind, Tailwind 성분만 가지고 하기\n",
    "\n",
    "- RWY condition <br>\n",
    "\t-> METAR에서 가져오기\n",
    "\t-> Wet rwy \n",
    "\t-> RWY slope는 rksi = 0\n",
    "\n",
    "\n",
    "*** T/O speed varies with T/O Weight"
   ]
  },
  {
   "cell_type": "markdown",
   "id": "f860d226",
   "metadata": {},
   "source": [
    "### METAR"
   ]
  },
  {
   "cell_type": "code",
   "execution_count": 3,
   "id": "4dce2fee",
   "metadata": {
    "ExecuteTime": {
     "end_time": "2021-08-05T09:51:13.600305Z",
     "start_time": "2021-08-05T09:51:12.668442Z"
    }
   },
   "outputs": [],
   "source": [
    "metar_data = pd.read_excel('../data/METAR_20191222-20191228.xlsx', header = 0)"
   ]
  },
  {
   "cell_type": "code",
   "execution_count": 4,
   "id": "ffce67fd",
   "metadata": {
    "ExecuteTime": {
     "end_time": "2021-08-05T09:51:15.237696Z",
     "start_time": "2021-08-05T09:51:15.147605Z"
    }
   },
   "outputs": [],
   "source": [
    "# pressure column만들기\n",
    "\n",
    "metar_data['Pres'] = np.zeros(len(metar_data))\n",
    "pattern_pres = 'Q[0-9][0-9][0-9][0-9]'\n",
    "\n",
    "for i in range(len(metar_data)):\n",
    "    pres = re.search(pattern_pres, metar_data['Original Message'][i])\n",
    "    metar_data['Pres'][i] = int(pres.group()[1:])"
   ]
  },
  {
   "cell_type": "code",
   "execution_count": 5,
   "id": "fb16d437",
   "metadata": {
    "ExecuteTime": {
     "end_time": "2021-08-05T09:51:16.064658Z",
     "start_time": "2021-08-05T09:51:15.967666Z"
    }
   },
   "outputs": [],
   "source": [
    "# dewpoint column 만들기\n",
    "\n",
    "metar_data['Due'] = np.zeros(len(metar_data))\n",
    "pattern_due = '/..[0-9]|/.[0-9]'\n",
    "\n",
    "for i in range(len(metar_data)):\n",
    "    due = re.search(pattern_due, metar_data['Original Message'][i])\n",
    "    if due.group()[1] == 'M':\n",
    "        due = int(due.group()[2:]) * (-1)\n",
    "    else:\n",
    "        due = int(due.group()[1:])\n",
    "        \n",
    "    metar_data['Due'][i] = due"
   ]
  },
  {
   "cell_type": "code",
   "execution_count": 6,
   "id": "9a8b8915",
   "metadata": {
    "ExecuteTime": {
     "end_time": "2021-08-05T09:51:17.987128Z",
     "start_time": "2021-08-05T09:51:17.879379Z"
    }
   },
   "outputs": [],
   "source": [
    "# density altitude 계산하기\n",
    "\n",
    "metar_data['DA'] = np.zeros(len(metar_data))\n",
    "fe = 7    # field elevation in meters\n",
    "\n",
    "for i in range(len(metar_data)):\n",
    "    pres = metar_data['Pres'][i]\n",
    "    temp = metar_data['Temp'][i]\n",
    "    due = metar_data['Due'][i]\n",
    "\n",
    "    # station pressure (https://www.weather.gov/media/epz/wxcalc/stationPressure.pdf)\n",
    "    station_pressure_inHg = pres * 0.0295300  * (((288 - (0.0065 * fe))/288)**(5.2561))\n",
    "    station_pressure_mil = station_pressure_inHg * 33.8639\n",
    "\n",
    "    # density altitude (https://www.weather.gov/media/epz/wxcalc/densityAltitude.pdf)\n",
    "    vapor_pressure = 6.11 * (10 **((7.5 * due) / (237.7 + due)))\n",
    "    tv_kelvin = (temp + 273.15) / (1 - ((vapor_pressure / station_pressure_mil) * (1 - 0.622)))  # Kelvin\n",
    "    tv_rankine = (tv_kelvin * 9 / 5)\n",
    "    da = 145366 * ( 1 - ((17.326 * station_pressure_mil * 0.029530 / tv_rankine )**(0.235)))\n",
    "    \n",
    "    metar_data['DA'][i] = da\n"
   ]
  },
  {
   "cell_type": "code",
   "execution_count": 8,
   "id": "f4d6dbe8",
   "metadata": {
    "ExecuteTime": {
     "end_time": "2021-08-05T09:53:18.449482Z",
     "start_time": "2021-08-05T09:53:18.440949Z"
    }
   },
   "outputs": [],
   "source": [
    "# Headwind Components\n",
    "\n",
    "# rksi rwy true bearing = 144.66 degree\n",
    "\n",
    "metar_data['Headwind'] = np.zeros(len(metar_data))\n"
   ]
  },
  {
   "cell_type": "code",
   "execution_count": null,
   "id": "34859cb7",
   "metadata": {},
   "outputs": [],
   "source": [
    "# Wet Runway\n",
    "\n",
    "# 비, 눈 오면 wet으로 1로 넣기 ...... dz는?? \n",
    "\n",
    "metar_data['Wet'] = np.zeros(len(metar_data))\n"
   ]
  },
  {
   "cell_type": "code",
   "execution_count": null,
   "id": "42afcdab",
   "metadata": {},
   "outputs": [],
   "source": []
  },
  {
   "cell_type": "code",
   "execution_count": null,
   "id": "c1e62cba",
   "metadata": {},
   "outputs": [],
   "source": []
  },
  {
   "cell_type": "code",
   "execution_count": null,
   "id": "cdc8eb9d",
   "metadata": {},
   "outputs": [],
   "source": []
  },
  {
   "cell_type": "code",
   "execution_count": null,
   "id": "a3046f16",
   "metadata": {},
   "outputs": [],
   "source": []
  },
  {
   "cell_type": "code",
   "execution_count": null,
   "id": "7f99dda7",
   "metadata": {},
   "outputs": [],
   "source": []
  },
  {
   "cell_type": "code",
   "execution_count": null,
   "id": "c6574fef",
   "metadata": {},
   "outputs": [],
   "source": []
  },
  {
   "cell_type": "code",
   "execution_count": null,
   "id": "0b1c34d9",
   "metadata": {},
   "outputs": [],
   "source": []
  },
  {
   "cell_type": "code",
   "execution_count": null,
   "id": "ae174eaa",
   "metadata": {
    "ExecuteTime": {
     "end_time": "2021-08-05T09:16:04.441171Z",
     "start_time": "2021-08-05T09:16:04.426164Z"
    }
   },
   "outputs": [],
   "source": [
    "# DA in feets\n",
    "\n",
    "\"\"\"\n",
    "pres = 1016.2552\n",
    "temp = 24\n",
    "due = 23\n",
    "fe = 17\n",
    "\n",
    "# station pressure (https://www.weather.gov/media/epz/wxcalc/stationPressure.pdf)\n",
    "station_pressure_inHg = pres * 0.0295300  * (((288 - (0.0065 * fe))/288)**(5.2561))\n",
    "station_pressure_mil = station_pressure_inHg * 33.8639\n",
    "\n",
    "# density altitude (https://www.weather.gov/media/epz/wxcalc/densityAltitude.pdf)\n",
    "vapor_pressure = 6.11 * (10 **((7.5 * due) / (237.7 + due)))\n",
    "tv_kelvin = (temp + 273.15) / (1 - ((vapor_pressure / station_pressure_mil) * (1 - 0.622)))  # Kelvin\n",
    "tv_rankine = (tv_kelvin * 9 / 5)\n",
    "da = 145366 * ( 1 - ((17.326 * station_pressure_mil * 0.029530 / tv_rankine )**(0.235)))\n",
    "\"\"\""
   ]
  }
 ],
 "metadata": {
  "kernelspec": {
   "display_name": "Python 3",
   "language": "python",
   "name": "python3"
  },
  "language_info": {
   "codemirror_mode": {
    "name": "ipython",
    "version": 3
   },
   "file_extension": ".py",
   "mimetype": "text/x-python",
   "name": "python",
   "nbconvert_exporter": "python",
   "pygments_lexer": "ipython3",
   "version": "3.8.10"
  },
  "toc": {
   "base_numbering": 1,
   "nav_menu": {},
   "number_sections": true,
   "sideBar": true,
   "skip_h1_title": false,
   "title_cell": "Table of Contents",
   "title_sidebar": "Contents",
   "toc_cell": false,
   "toc_position": {},
   "toc_section_display": true,
   "toc_window_display": false
  },
  "varInspector": {
   "cols": {
    "lenName": 16,
    "lenType": 16,
    "lenVar": 40
   },
   "kernels_config": {
    "python": {
     "delete_cmd_postfix": "",
     "delete_cmd_prefix": "del ",
     "library": "var_list.py",
     "varRefreshCmd": "print(var_dic_list())"
    },
    "r": {
     "delete_cmd_postfix": ") ",
     "delete_cmd_prefix": "rm(",
     "library": "var_list.r",
     "varRefreshCmd": "cat(var_dic_list()) "
    }
   },
   "types_to_exclude": [
    "module",
    "function",
    "builtin_function_or_method",
    "instance",
    "_Feature"
   ],
   "window_display": false
  }
 },
 "nbformat": 4,
 "nbformat_minor": 5
}
