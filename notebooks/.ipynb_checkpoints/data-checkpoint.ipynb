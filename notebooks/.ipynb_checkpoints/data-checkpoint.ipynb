{
 "cells": [
  {
   "cell_type": "code",
   "execution_count": 1,
   "id": "e2f33700",
   "metadata": {
    "ExecuteTime": {
     "end_time": "2021-08-06T01:18:58.974071Z",
     "start_time": "2021-08-06T01:18:57.586924Z"
    }
   },
   "outputs": [],
   "source": [
    "import pandas as pd\n",
    "import numpy as np\n",
    "import matplotlib.pyplot as plt\n",
    "import warnings\n",
    "from datetime import datetime, timedelta\n",
    "import re\n",
    "import warnings\n",
    "import math"
   ]
  },
  {
   "cell_type": "code",
   "execution_count": 2,
   "id": "657c9cc1",
   "metadata": {
    "ExecuteTime": {
     "end_time": "2021-08-06T01:18:59.005076Z",
     "start_time": "2021-08-06T01:18:58.993039Z"
    }
   },
   "outputs": [],
   "source": [
    "warnings.simplefilter('ignore')"
   ]
  },
  {
   "cell_type": "markdown",
   "id": "3b5860f0",
   "metadata": {},
   "source": [
    "## Flightplan"
   ]
  },
  {
   "cell_type": "code",
   "execution_count": null,
   "id": "ea5719be",
   "metadata": {
    "ExecuteTime": {
     "end_time": "2021-08-05T13:08:06.981731Z",
     "start_time": "2021-08-05T13:08:06.963144Z"
    }
   },
   "outputs": [],
   "source": [
    "arr_df = pd.DataFrame()\n",
    "dep_df = pd.DataFrame()"
   ]
  },
  {
   "cell_type": "code",
   "execution_count": null,
   "id": "7fb38990",
   "metadata": {
    "ExecuteTime": {
     "end_time": "2021-08-05T13:08:07.343903Z",
     "start_time": "2021-08-05T13:08:07.337909Z"
    }
   },
   "outputs": [],
   "source": [
    "daterange = pd.date_range(start='12/22/2019', end='12/28/2019').strftime('%Y%m%d')"
   ]
  },
  {
   "cell_type": "code",
   "execution_count": null,
   "id": "c4416e4a",
   "metadata": {
    "ExecuteTime": {
     "end_time": "2021-08-05T13:08:10.142885Z",
     "start_time": "2021-08-05T13:08:07.732910Z"
    }
   },
   "outputs": [],
   "source": [
    "for date in daterange.tolist():\n",
    "    arr = pd.read_excel(f'../data/flightplan/arr_{date}.xlsx', header = 0)\n",
    "    dep = pd.read_excel(f'../data/flightplan/dep_{date}.xlsx', header = 0)\n",
    "    datee = datetime.strptime(date,'%Y%m%d').strftime('%Y-%m-%d')\n",
    "    arr['SDT'] = datee\n",
    "    dep['SDT'] = datee\n",
    "    arr_df = pd.concat([arr_df, arr])\n",
    "    dep_df = pd.concat([dep_df, dep])"
   ]
  },
  {
   "cell_type": "code",
   "execution_count": null,
   "id": "4b4db7e2",
   "metadata": {
    "ExecuteTime": {
     "end_time": "2021-08-05T13:08:10.236861Z",
     "start_time": "2021-08-05T13:08:10.221885Z"
    }
   },
   "outputs": [],
   "source": [
    "arr_df = arr_df.drop('Seq', axis = 1)\n",
    "dep_df = dep_df.drop('Seq', axis = 1)"
   ]
  },
  {
   "cell_type": "code",
   "execution_count": null,
   "id": "83b69427",
   "metadata": {
    "ExecuteTime": {
     "end_time": "2021-08-05T13:09:20.179297Z",
     "start_time": "2021-08-05T13:09:20.160264Z"
    }
   },
   "outputs": [],
   "source": [
    "arr_df[arr_df['FLT'] == 'UAL893']"
   ]
  },
  {
   "cell_type": "code",
   "execution_count": null,
   "id": "574f9afe",
   "metadata": {},
   "outputs": [],
   "source": [
    "arr_df.to_csv('../input/arr_fp_20191222-20191228.csv')\n",
    "dep_df.to_csv('../input/dep_fp_20191222-20191228.csv')"
   ]
  },
  {
   "cell_type": "code",
   "execution_count": null,
   "id": "76dc1b75",
   "metadata": {},
   "outputs": [],
   "source": [
    "# ACDM하고 데이터를 합칠 수 있을까?? -> 활주로 정보 넣기\n",
    "# Traj0501 = io.loadmat(data_file)\n"
   ]
  },
  {
   "cell_type": "markdown",
   "id": "9fe8f258",
   "metadata": {},
   "source": [
    "## Takeoff Distance"
   ]
  },
  {
   "cell_type": "markdown",
   "id": "47f40fc7",
   "metadata": {
    "ExecuteTime": {
     "end_time": "2021-08-05T08:16:33.159586Z",
     "start_time": "2021-08-05T08:16:33.141292Z"
    }
   },
   "source": [
    "T/O Distance \n",
    "\n",
    "- OAT, Pressure Altitude <br>\n",
    "\t-> METAR에서 가져올 수 있을 듯\n",
    "\t-> Density Altitude를 구하고 변수로 넣기\n",
    "\n",
    "- Gross Weight <br>\n",
    "\t-> 이게 애매하단 말이지...\n",
    "\t-> 기종 별로는 할 수 있음\n",
    "\n",
    "- Wind components <br>\n",
    "\t-> METAR에서 가져오기\n",
    "\t-> Headwind, Tailwind 성분만 가지고 하기\n",
    "\n",
    "- RWY condition <br>\n",
    "\t-> METAR에서 가져오기\n",
    "\t-> Wet rwy \n",
    "\t-> RWY slope는 rksi = 0\n",
    "\n",
    "\n",
    "*** T/O speed varies with T/O Weight"
   ]
  },
  {
   "cell_type": "markdown",
   "id": "e57f9ab9",
   "metadata": {},
   "source": [
    "### METAR"
   ]
  },
  {
   "cell_type": "code",
   "execution_count": 3,
   "id": "14e6a13b",
   "metadata": {
    "ExecuteTime": {
     "end_time": "2021-08-06T01:19:01.607028Z",
     "start_time": "2021-08-06T01:19:00.524117Z"
    }
   },
   "outputs": [],
   "source": [
    "metar_data = pd.read_excel('../data/METAR_20191222-20191228.xlsx', header = 0)\n",
    "metar_data = metar_data.iloc[::-1].reset_index(drop=True).drop('Seq', axis = 1)"
   ]
  },
  {
   "cell_type": "code",
   "execution_count": 4,
   "id": "9d9fe99f",
   "metadata": {
    "ExecuteTime": {
     "end_time": "2021-08-06T01:19:01.671007Z",
     "start_time": "2021-08-06T01:19:01.644011Z"
    }
   },
   "outputs": [],
   "source": [
    "# time\n",
    "\n",
    "metar_data['IssueTime'] = np.zeros(len(metar_data))\n",
    "pattern_time = '[0-9][0-9][0-9][0-9][0-9][0-9]Z'\n",
    "\n",
    "for i in range(len(metar_data)):\n",
    "    time = re.search(pattern_time, metar_data['Original Message'][i])\n",
    "    time = time.group()[:-1]\n",
    "    time = datetime.strptime('201912'+time, '%Y%m%d%H%M') + timedelta(hours=9)\n",
    "    metar_data['IssueTime'][i] = time"
   ]
  },
  {
   "cell_type": "code",
   "execution_count": 5,
   "id": "c4716490",
   "metadata": {
    "ExecuteTime": {
     "end_time": "2021-08-06T01:19:01.799007Z",
     "start_time": "2021-08-06T01:19:01.704006Z"
    }
   },
   "outputs": [],
   "source": [
    "# pressure column만들기\n",
    "\n",
    "metar_data['Pressure'] = np.zeros(len(metar_data))\n",
    "pattern_pres = 'Q[0-9][0-9][0-9][0-9]'\n",
    "\n",
    "for i in range(len(metar_data)):\n",
    "    pres = re.search(pattern_pres, metar_data['Original Message'][i])\n",
    "    metar_data['Pressure'][i] = int(pres.group()[1:])"
   ]
  },
  {
   "cell_type": "code",
   "execution_count": 6,
   "id": "affd9478",
   "metadata": {
    "ExecuteTime": {
     "end_time": "2021-08-06T01:19:02.158376Z",
     "start_time": "2021-08-06T01:19:02.058382Z"
    }
   },
   "outputs": [],
   "source": [
    "# dewpoint column 만들기\n",
    "\n",
    "metar_data['DuePoint'] = np.zeros(len(metar_data))\n",
    "pattern_due = '/..[0-9]|/.[0-9]'\n",
    "\n",
    "for i in range(len(metar_data)):\n",
    "    due = re.search(pattern_due, metar_data['Original Message'][i])\n",
    "    if due.group()[1] == 'M':\n",
    "        due = int(due.group()[2:]) * (-1)\n",
    "    else:\n",
    "        due = int(due.group()[1:])\n",
    "        \n",
    "    metar_data['DuePoint'][i] = due"
   ]
  },
  {
   "cell_type": "code",
   "execution_count": 7,
   "id": "8269ce3a",
   "metadata": {
    "ExecuteTime": {
     "end_time": "2021-08-06T01:19:03.361443Z",
     "start_time": "2021-08-06T01:19:03.258447Z"
    }
   },
   "outputs": [],
   "source": [
    "# density altitude 계산하기\n",
    "\n",
    "metar_data['DensityAltitude'] = np.zeros(len(metar_data))\n",
    "fe = 7    # field elevation in meters\n",
    "\n",
    "for i in range(len(metar_data)):\n",
    "    pres = metar_data['Pressure'][i]\n",
    "    temp = metar_data['Temp'][i]\n",
    "    due = metar_data['DuePoint'][i]\n",
    "\n",
    "    # station pressure (https://www.weather.gov/media/epz/wxcalc/stationPressure.pdf)\n",
    "    station_pressure_inHg = pres * 0.0295300  * (((288 - (0.0065 * fe))/288)**(5.2561))\n",
    "    station_pressure_mil = station_pressure_inHg * 33.8639\n",
    "\n",
    "    # density altitude (https://www.weather.gov/media/epz/wxcalc/densityAltitude.pdf)\n",
    "    vapor_pressure = 6.11 * (10 **((7.5 * due) / (237.7 + due)))\n",
    "    tv_kelvin = (temp + 273.15) / (1 - ((vapor_pressure / station_pressure_mil) * (1 - 0.622)))  # Kelvin\n",
    "    tv_rankine = (tv_kelvin * 9 / 5)\n",
    "    da = 145366 * ( 1 - ((17.326 * station_pressure_mil * 0.029530 / tv_rankine )**(0.235)))\n",
    "    \n",
    "    metar_data['DensityAltitude'][i] = da\n"
   ]
  },
  {
   "cell_type": "code",
   "execution_count": 8,
   "id": "b29056f5",
   "metadata": {
    "ExecuteTime": {
     "end_time": "2021-08-06T01:19:14.613553Z",
     "start_time": "2021-08-06T01:19:14.371395Z"
    }
   },
   "outputs": [],
   "source": [
    "# Headwind Components - 아마 바람 방향 바뀌면 바로 활주로 방향 바꾸니까 그냥 cos 때리자\n",
    "\n",
    "# rksi rwy15,16 true bearing = 144.66 degree\n",
    "\n",
    "metar_data['Headwind'] = np.zeros(len(metar_data))\n",
    "metar_data['Crosswind'] = np.zeros(len(metar_data))\n",
    "\n",
    "pattern_wind = '[0-9]...[0-9]KT'\n",
    "\n",
    "for i in range(len(metar_data)):\n",
    "    wind = re.search(pattern_wind, metar_data['Original Message'][i])\n",
    "    metar_data['WD'][i] = int(wind.group()[0:3])\n",
    "    deg = metar_data['WD'][i] - 144.66\n",
    "    headwind = metar_data['WS'][i] * np.cos(deg * math.pi/180)\n",
    "    crosswind = metar_data['WS'][i] * np.sin(deg * math.pi/180)\n",
    "    metar_data['Headwind'][i] = abs(headwind)\n",
    "    metar_data['Crosswind'][i] = abs(crosswind)"
   ]
  },
  {
   "cell_type": "code",
   "execution_count": 9,
   "id": "6d96ccea",
   "metadata": {
    "ExecuteTime": {
     "end_time": "2021-08-06T01:19:16.390754Z",
     "start_time": "2021-08-06T01:19:16.297586Z"
    }
   },
   "outputs": [],
   "source": [
    "# Wet Runway\n",
    "\n",
    "# 비, 눈 등 있으면 wet으로 1로 넣기 \n",
    "\n",
    "metar_data['Wet'] = np.zeros(len(metar_data))\n",
    "pattern_wc = 'TS|DZ|RA|SN|SG|IC|PL|GR|GS'\n",
    "\n",
    "for i in range(len(metar_data)):\n",
    "    try:\n",
    "        wc = re.search(pattern_wc, metar_data['Original Message'][i])\n",
    "        wc.group()\n",
    "        wc = 1\n",
    "    except:\n",
    "        wc = 0    \n",
    "        \n",
    "    metar_data['Wet'][i] = wc"
   ]
  },
  {
   "cell_type": "code",
   "execution_count": null,
   "id": "8f04b1b5",
   "metadata": {},
   "outputs": [],
   "source": []
  },
  {
   "cell_type": "code",
   "execution_count": null,
   "id": "13497fde",
   "metadata": {},
   "outputs": [],
   "source": []
  },
  {
   "cell_type": "code",
   "execution_count": 16,
   "id": "ee64c549",
   "metadata": {
    "ExecuteTime": {
     "end_time": "2021-08-06T08:07:20.444957Z",
     "start_time": "2021-08-06T08:07:20.415963Z"
    }
   },
   "outputs": [
    {
     "data": {
      "text/html": [
       "<div>\n",
       "<style scoped>\n",
       "    .dataframe tbody tr th:only-of-type {\n",
       "        vertical-align: middle;\n",
       "    }\n",
       "\n",
       "    .dataframe tbody tr th {\n",
       "        vertical-align: top;\n",
       "    }\n",
       "\n",
       "    .dataframe thead th {\n",
       "        text-align: right;\n",
       "    }\n",
       "</style>\n",
       "<table border=\"1\" class=\"dataframe\">\n",
       "  <thead>\n",
       "    <tr style=\"text-align: right;\">\n",
       "      <th></th>\n",
       "      <th>Type</th>\n",
       "      <th>Port</th>\n",
       "      <th>STS</th>\n",
       "      <th>VIS</th>\n",
       "      <th>WD</th>\n",
       "      <th>WS</th>\n",
       "      <th>Temp</th>\n",
       "      <th>Original Message</th>\n",
       "      <th>IssueTime</th>\n",
       "      <th>Pressure</th>\n",
       "      <th>DuePoint</th>\n",
       "      <th>DensityAltitude</th>\n",
       "      <th>Headwind</th>\n",
       "      <th>Crosswind</th>\n",
       "      <th>Wet</th>\n",
       "    </tr>\n",
       "  </thead>\n",
       "  <tbody>\n",
       "    <tr>\n",
       "      <th>0</th>\n",
       "      <td>METAR</td>\n",
       "      <td>RKSI</td>\n",
       "      <td>7</td>\n",
       "      <td>5000</td>\n",
       "      <td>130</td>\n",
       "      <td>6</td>\n",
       "      <td>3</td>\n",
       "      <td>211500Z 13006KT 5000 BR FEW015 SCT040 BKN200 0...</td>\n",
       "      <td>2019-12-22 00:00:00</td>\n",
       "      <td>1024.0</td>\n",
       "      <td>0.0</td>\n",
       "      <td>-1701.232595</td>\n",
       "      <td>5.804668</td>\n",
       "      <td>1.518496</td>\n",
       "      <td>0.0</td>\n",
       "    </tr>\n",
       "    <tr>\n",
       "      <th>1</th>\n",
       "      <td>METAR</td>\n",
       "      <td>RKSI</td>\n",
       "      <td>7</td>\n",
       "      <td>5000</td>\n",
       "      <td>140</td>\n",
       "      <td>6</td>\n",
       "      <td>2</td>\n",
       "      <td>211530Z 14006KT 5000 BR FEW015 SCT040 BKN200 0...</td>\n",
       "      <td>2019-12-22 00:30:00</td>\n",
       "      <td>1024.0</td>\n",
       "      <td>0.0</td>\n",
       "      <td>-1826.665476</td>\n",
       "      <td>5.980166</td>\n",
       "      <td>0.487456</td>\n",
       "      <td>0.0</td>\n",
       "    </tr>\n",
       "    <tr>\n",
       "      <th>2</th>\n",
       "      <td>METAR</td>\n",
       "      <td>RKSI</td>\n",
       "      <td>7</td>\n",
       "      <td>5000</td>\n",
       "      <td>130</td>\n",
       "      <td>6</td>\n",
       "      <td>3</td>\n",
       "      <td>211600Z 13006KT 5000 BR FEW015 SCT040 BKN200 0...</td>\n",
       "      <td>2019-12-22 01:00:00</td>\n",
       "      <td>1024.0</td>\n",
       "      <td>0.0</td>\n",
       "      <td>-1701.232595</td>\n",
       "      <td>5.804668</td>\n",
       "      <td>1.518496</td>\n",
       "      <td>0.0</td>\n",
       "    </tr>\n",
       "    <tr>\n",
       "      <th>3</th>\n",
       "      <td>METAR</td>\n",
       "      <td>RKSI</td>\n",
       "      <td>0</td>\n",
       "      <td>6000</td>\n",
       "      <td>90</td>\n",
       "      <td>5</td>\n",
       "      <td>3</td>\n",
       "      <td>211630Z 09005KT 040V130 6000 FEW015 SCT040 BKN...</td>\n",
       "      <td>2019-12-22 01:30:00</td>\n",
       "      <td>1024.0</td>\n",
       "      <td>0.0</td>\n",
       "      <td>-1701.232595</td>\n",
       "      <td>2.892136</td>\n",
       "      <td>4.078670</td>\n",
       "      <td>0.0</td>\n",
       "    </tr>\n",
       "    <tr>\n",
       "      <th>4</th>\n",
       "      <td>METAR</td>\n",
       "      <td>RKSI</td>\n",
       "      <td>0</td>\n",
       "      <td>6000</td>\n",
       "      <td>70</td>\n",
       "      <td>4</td>\n",
       "      <td>2</td>\n",
       "      <td>211700Z 07004KT 6000 SCT040 BKN200 02/M00 Q102...</td>\n",
       "      <td>2019-12-22 02:00:00</td>\n",
       "      <td>1024.0</td>\n",
       "      <td>0.0</td>\n",
       "      <td>-1826.665476</td>\n",
       "      <td>1.058185</td>\n",
       "      <td>3.857492</td>\n",
       "      <td>0.0</td>\n",
       "    </tr>\n",
       "    <tr>\n",
       "      <th>...</th>\n",
       "      <td>...</td>\n",
       "      <td>...</td>\n",
       "      <td>...</td>\n",
       "      <td>...</td>\n",
       "      <td>...</td>\n",
       "      <td>...</td>\n",
       "      <td>...</td>\n",
       "      <td>...</td>\n",
       "      <td>...</td>\n",
       "      <td>...</td>\n",
       "      <td>...</td>\n",
       "      <td>...</td>\n",
       "      <td>...</td>\n",
       "      <td>...</td>\n",
       "      <td>...</td>\n",
       "    </tr>\n",
       "    <tr>\n",
       "      <th>331</th>\n",
       "      <td>METAR</td>\n",
       "      <td>RKSI</td>\n",
       "      <td>0</td>\n",
       "      <td>9000</td>\n",
       "      <td>160</td>\n",
       "      <td>11</td>\n",
       "      <td>5</td>\n",
       "      <td>281230Z 16011KT 9000 NSC 05/M01 Q1028 NOSIG=</td>\n",
       "      <td>2019-12-28 21:30:00</td>\n",
       "      <td>1028.0</td>\n",
       "      <td>-1.0</td>\n",
       "      <td>-1592.394508</td>\n",
       "      <td>10.608103</td>\n",
       "      <td>2.910010</td>\n",
       "      <td>0.0</td>\n",
       "    </tr>\n",
       "    <tr>\n",
       "      <th>332</th>\n",
       "      <td>METAR</td>\n",
       "      <td>RKSI</td>\n",
       "      <td>0</td>\n",
       "      <td>8000</td>\n",
       "      <td>150</td>\n",
       "      <td>9</td>\n",
       "      <td>4</td>\n",
       "      <td>281300Z 15009KT 8000 NSC 04/M01 Q1029 NOSIG=</td>\n",
       "      <td>2019-12-28 22:00:00</td>\n",
       "      <td>1029.0</td>\n",
       "      <td>-1.0</td>\n",
       "      <td>-1750.512210</td>\n",
       "      <td>8.960940</td>\n",
       "      <td>0.837591</td>\n",
       "      <td>0.0</td>\n",
       "    </tr>\n",
       "    <tr>\n",
       "      <th>333</th>\n",
       "      <td>METAR</td>\n",
       "      <td>RKSI</td>\n",
       "      <td>0</td>\n",
       "      <td>9000</td>\n",
       "      <td>150</td>\n",
       "      <td>7</td>\n",
       "      <td>4</td>\n",
       "      <td>281330Z 15007KT 9000 NSC 04/M02 Q1029 NOSIG=</td>\n",
       "      <td>2019-12-28 22:30:00</td>\n",
       "      <td>1029.0</td>\n",
       "      <td>-2.0</td>\n",
       "      <td>-1755.644056</td>\n",
       "      <td>6.969620</td>\n",
       "      <td>0.651460</td>\n",
       "      <td>0.0</td>\n",
       "    </tr>\n",
       "    <tr>\n",
       "      <th>334</th>\n",
       "      <td>METAR</td>\n",
       "      <td>RKSI</td>\n",
       "      <td>0</td>\n",
       "      <td>10000</td>\n",
       "      <td>120</td>\n",
       "      <td>6</td>\n",
       "      <td>4</td>\n",
       "      <td>281400Z 12006KT 090V160 CAVOK 04/M03 Q1028 NOSIG=</td>\n",
       "      <td>2019-12-28 23:00:00</td>\n",
       "      <td>1028.0</td>\n",
       "      <td>-3.0</td>\n",
       "      <td>-1726.776994</td>\n",
       "      <td>5.452798</td>\n",
       "      <td>2.503396</td>\n",
       "      <td>0.0</td>\n",
       "    </tr>\n",
       "    <tr>\n",
       "      <th>335</th>\n",
       "      <td>METAR</td>\n",
       "      <td>RKSI</td>\n",
       "      <td>0</td>\n",
       "      <td>10000</td>\n",
       "      <td>140</td>\n",
       "      <td>9</td>\n",
       "      <td>4</td>\n",
       "      <td>281430Z 14009KT CAVOK 04/M03 Q1028 NOSIG=</td>\n",
       "      <td>2019-12-28 23:30:00</td>\n",
       "      <td>1028.0</td>\n",
       "      <td>-3.0</td>\n",
       "      <td>-1726.776994</td>\n",
       "      <td>8.970249</td>\n",
       "      <td>0.731184</td>\n",
       "      <td>0.0</td>\n",
       "    </tr>\n",
       "  </tbody>\n",
       "</table>\n",
       "<p>336 rows × 15 columns</p>\n",
       "</div>"
      ],
      "text/plain": [
       "      Type  Port  STS    VIS   WD  WS  Temp  \\\n",
       "0    METAR  RKSI    7   5000  130   6     3   \n",
       "1    METAR  RKSI    7   5000  140   6     2   \n",
       "2    METAR  RKSI    7   5000  130   6     3   \n",
       "3    METAR  RKSI    0   6000   90   5     3   \n",
       "4    METAR  RKSI    0   6000   70   4     2   \n",
       "..     ...   ...  ...    ...  ...  ..   ...   \n",
       "331  METAR  RKSI    0   9000  160  11     5   \n",
       "332  METAR  RKSI    0   8000  150   9     4   \n",
       "333  METAR  RKSI    0   9000  150   7     4   \n",
       "334  METAR  RKSI    0  10000  120   6     4   \n",
       "335  METAR  RKSI    0  10000  140   9     4   \n",
       "\n",
       "                                      Original Message            IssueTime  \\\n",
       "0    211500Z 13006KT 5000 BR FEW015 SCT040 BKN200 0...  2019-12-22 00:00:00   \n",
       "1    211530Z 14006KT 5000 BR FEW015 SCT040 BKN200 0...  2019-12-22 00:30:00   \n",
       "2    211600Z 13006KT 5000 BR FEW015 SCT040 BKN200 0...  2019-12-22 01:00:00   \n",
       "3    211630Z 09005KT 040V130 6000 FEW015 SCT040 BKN...  2019-12-22 01:30:00   \n",
       "4    211700Z 07004KT 6000 SCT040 BKN200 02/M00 Q102...  2019-12-22 02:00:00   \n",
       "..                                                 ...                  ...   \n",
       "331       281230Z 16011KT 9000 NSC 05/M01 Q1028 NOSIG=  2019-12-28 21:30:00   \n",
       "332       281300Z 15009KT 8000 NSC 04/M01 Q1029 NOSIG=  2019-12-28 22:00:00   \n",
       "333       281330Z 15007KT 9000 NSC 04/M02 Q1029 NOSIG=  2019-12-28 22:30:00   \n",
       "334  281400Z 12006KT 090V160 CAVOK 04/M03 Q1028 NOSIG=  2019-12-28 23:00:00   \n",
       "335          281430Z 14009KT CAVOK 04/M03 Q1028 NOSIG=  2019-12-28 23:30:00   \n",
       "\n",
       "     Pressure  DuePoint  DensityAltitude   Headwind  Crosswind  Wet  \n",
       "0      1024.0       0.0     -1701.232595   5.804668   1.518496  0.0  \n",
       "1      1024.0       0.0     -1826.665476   5.980166   0.487456  0.0  \n",
       "2      1024.0       0.0     -1701.232595   5.804668   1.518496  0.0  \n",
       "3      1024.0       0.0     -1701.232595   2.892136   4.078670  0.0  \n",
       "4      1024.0       0.0     -1826.665476   1.058185   3.857492  0.0  \n",
       "..        ...       ...              ...        ...        ...  ...  \n",
       "331    1028.0      -1.0     -1592.394508  10.608103   2.910010  0.0  \n",
       "332    1029.0      -1.0     -1750.512210   8.960940   0.837591  0.0  \n",
       "333    1029.0      -2.0     -1755.644056   6.969620   0.651460  0.0  \n",
       "334    1028.0      -3.0     -1726.776994   5.452798   2.503396  0.0  \n",
       "335    1028.0      -3.0     -1726.776994   8.970249   0.731184  0.0  \n",
       "\n",
       "[336 rows x 15 columns]"
      ]
     },
     "execution_count": 16,
     "metadata": {},
     "output_type": "execute_result"
    }
   ],
   "source": [
    "metar_data"
   ]
  },
  {
   "cell_type": "code",
   "execution_count": 11,
   "id": "49e2a08b",
   "metadata": {
    "ExecuteTime": {
     "end_time": "2021-08-06T01:19:23.723972Z",
     "start_time": "2021-08-06T01:19:23.696013Z"
    }
   },
   "outputs": [],
   "source": [
    "metar_data.to_csv('../input/metar_20191222-20191228.csv')"
   ]
  },
  {
   "cell_type": "code",
   "execution_count": null,
   "id": "5d6e3258",
   "metadata": {
    "ExecuteTime": {
     "end_time": "2021-08-05T09:16:04.441171Z",
     "start_time": "2021-08-05T09:16:04.426164Z"
    }
   },
   "outputs": [],
   "source": [
    "# DA in feets\n",
    "\n",
    "\"\"\"\n",
    "pres = 1016.2552\n",
    "temp = 24\n",
    "due = 23\n",
    "fe = 17\n",
    "\n",
    "# station pressure (https://www.weather.gov/media/epz/wxcalc/stationPressure.pdf)\n",
    "station_pressure_inHg = pres * 0.0295300  * (((288 - (0.0065 * fe))/288)**(5.2561))\n",
    "station_pressure_mil = station_pressure_inHg * 33.8639\n",
    "\n",
    "# density altitude (https://www.weather.gov/media/epz/wxcalc/densityAltitude.pdf)\n",
    "vapor_pressure = 6.11 * (10 **((7.5 * due) / (237.7 + due)))\n",
    "tv_kelvin = (temp + 273.15) / (1 - ((vapor_pressure / station_pressure_mil) * (1 - 0.622)))  # Kelvin\n",
    "tv_rankine = (tv_kelvin * 9 / 5)\n",
    "da = 145366 * ( 1 - ((17.326 * station_pressure_mil * 0.029530 / tv_rankine )**(0.235)))\n",
    "\"\"\""
   ]
  }
 ],
 "metadata": {
  "kernelspec": {
   "display_name": "Python 3",
   "language": "python",
   "name": "python3"
  },
  "language_info": {
   "codemirror_mode": {
    "name": "ipython",
    "version": 3
   },
   "file_extension": ".py",
   "mimetype": "text/x-python",
   "name": "python",
   "nbconvert_exporter": "python",
   "pygments_lexer": "ipython3",
   "version": "3.8.10"
  },
  "toc": {
   "base_numbering": 1,
   "nav_menu": {},
   "number_sections": true,
   "sideBar": true,
   "skip_h1_title": false,
   "title_cell": "Table of Contents",
   "title_sidebar": "Contents",
   "toc_cell": false,
   "toc_position": {},
   "toc_section_display": true,
   "toc_window_display": false
  },
  "varInspector": {
   "cols": {
    "lenName": 16,
    "lenType": 16,
    "lenVar": 40
   },
   "kernels_config": {
    "python": {
     "delete_cmd_postfix": "",
     "delete_cmd_prefix": "del ",
     "library": "var_list.py",
     "varRefreshCmd": "print(var_dic_list())"
    },
    "r": {
     "delete_cmd_postfix": ") ",
     "delete_cmd_prefix": "rm(",
     "library": "var_list.r",
     "varRefreshCmd": "cat(var_dic_list()) "
    }
   },
   "types_to_exclude": [
    "module",
    "function",
    "builtin_function_or_method",
    "instance",
    "_Feature"
   ],
   "window_display": false
  }
 },
 "nbformat": 4,
 "nbformat_minor": 5
}
