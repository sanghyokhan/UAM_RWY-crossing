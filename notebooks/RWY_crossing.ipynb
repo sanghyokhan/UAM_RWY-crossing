{
 "cells": [
  {
   "cell_type": "markdown",
   "id": "cd522671",
   "metadata": {},
   "source": [
    "* 이륙, 착륙 항공기, 안움직이는 항공기를 나누어야 함 \n",
    "* A-CDM 파일로 기종 등 정보 가져오기\n",
    "* metar에서 pressure 가져오기 -> Wheel On/Off의 기준이 되는 altitude 찾게하기\n",
    "* wheel on/off 지점 지도에 찍기??"
   ]
  },
  {
   "cell_type": "code",
   "execution_count": 75,
   "id": "f31b0c23",
   "metadata": {
    "ExecuteTime": {
     "end_time": "2021-08-03T11:16:00.777813Z",
     "start_time": "2021-08-03T11:16:00.768159Z"
    }
   },
   "outputs": [],
   "source": [
    "import pandas as pd\n",
    "import numpy as np\n",
    "import warnings\n",
    "\n",
    "from datetime import datetime"
   ]
  },
  {
   "cell_type": "code",
   "execution_count": 55,
   "id": "1e008cb5",
   "metadata": {
    "ExecuteTime": {
     "end_time": "2021-08-03T11:02:50.226898Z",
     "start_time": "2021-08-03T11:02:50.216207Z"
    }
   },
   "outputs": [],
   "source": [
    "# options\n",
    "pd.set_option('max_columns',100)\n",
    "warnings.simplefilter('ignore')"
   ]
  },
  {
   "cell_type": "code",
   "execution_count": 80,
   "id": "bae39666",
   "metadata": {
    "ExecuteTime": {
     "end_time": "2021-08-03T11:19:20.639548Z",
     "start_time": "2021-08-03T11:19:20.371943Z"
    }
   },
   "outputs": [],
   "source": [
    "daterange = pd.date_range(start='12/21/2019 15:00', end='12/28/2019 14:00', freq='1H').strftime('%Y%m%d_%H%M%S')\n",
    "\n",
    "df = df = pd.read_csv(f'../input/tp1_20191221_150000_Cat20.ast_Mlat.csv', index_col=False, header = 1)\n",
    "\n",
    "# 여기서 date를 concat하면 같은 c/s인 항공기가 있어서 안 좋을 것 같음 -> 가장 큰 for loop으로 쓰기\n",
    "# for i in daterange:\n",
    "#    df = pd.read_csv(f'../input/tp1_{i}_Cat20.ast_Mlat.csv', index_col=False, header = 1)\n",
    "    \n"
   ]
  },
  {
   "cell_type": "code",
   "execution_count": 81,
   "id": "5b599ee0",
   "metadata": {
    "ExecuteTime": {
     "end_time": "2021-08-03T11:19:23.885098Z",
     "start_time": "2021-08-03T11:19:23.622052Z"
    }
   },
   "outputs": [],
   "source": [
    "ident = list(set(df['ModeSIdent'].values))\n",
    "\n",
    "for i in ident:\n",
    "    temp_df = df[df['ModeSIdent'] == i]\n",
    "    temp_df = temp_df[temp_df['BAlt'] == '-76']"
   ]
  },
  {
   "cell_type": "code",
   "execution_count": null,
   "id": "86722636",
   "metadata": {},
   "outputs": [],
   "source": []
  }
 ],
 "metadata": {
  "kernelspec": {
   "display_name": "Python 3",
   "language": "python",
   "name": "python3"
  },
  "language_info": {
   "codemirror_mode": {
    "name": "ipython",
    "version": 3
   },
   "file_extension": ".py",
   "mimetype": "text/x-python",
   "name": "python",
   "nbconvert_exporter": "python",
   "pygments_lexer": "ipython3",
   "version": "3.8.10"
  },
  "toc": {
   "base_numbering": 1,
   "nav_menu": {},
   "number_sections": true,
   "sideBar": true,
   "skip_h1_title": false,
   "title_cell": "Table of Contents",
   "title_sidebar": "Contents",
   "toc_cell": false,
   "toc_position": {},
   "toc_section_display": true,
   "toc_window_display": false
  },
  "varInspector": {
   "cols": {
    "lenName": 16,
    "lenType": 16,
    "lenVar": 40
   },
   "kernels_config": {
    "python": {
     "delete_cmd_postfix": "",
     "delete_cmd_prefix": "del ",
     "library": "var_list.py",
     "varRefreshCmd": "print(var_dic_list())"
    },
    "r": {
     "delete_cmd_postfix": ") ",
     "delete_cmd_prefix": "rm(",
     "library": "var_list.r",
     "varRefreshCmd": "cat(var_dic_list()) "
    }
   },
   "types_to_exclude": [
    "module",
    "function",
    "builtin_function_or_method",
    "instance",
    "_Feature"
   ],
   "window_display": false
  }
 },
 "nbformat": 4,
 "nbformat_minor": 5
}
