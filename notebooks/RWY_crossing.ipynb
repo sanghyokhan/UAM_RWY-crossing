{
 "cells": [
  {
   "cell_type": "markdown",
   "id": "cd522671",
   "metadata": {},
   "source": [
    "* 이륙, 착륙 항공기, 안움직이는 항공기를 나누어야 함 \n",
    "* A-CDM 파일로 기종 등 정보 가져오기\n",
    "* metar에서 pressure 가져오기 -> Wheel On/Off의 기준이 되는 altitude 찾게하기\n",
    "* wheel on/off 지점 지도에 찍기??"
   ]
  },
  {
   "cell_type": "code",
   "execution_count": 1,
   "id": "f31b0c23",
   "metadata": {
    "ExecuteTime": {
     "end_time": "2021-08-05T07:33:58.694622Z",
     "start_time": "2021-08-05T07:33:57.841464Z"
    }
   },
   "outputs": [],
   "source": [
    "import pandas as pd\n",
    "import numpy as np\n",
    "import matplotlib.pyplot as plt\n",
    "import warnings\n",
    "from datetime import datetime"
   ]
  },
  {
   "cell_type": "code",
   "execution_count": null,
   "id": "1e008cb5",
   "metadata": {
    "ExecuteTime": {
     "end_time": "2021-08-04T09:44:48.433148Z",
     "start_time": "2021-08-04T09:44:48.420138Z"
    }
   },
   "outputs": [],
   "source": [
    "# options\n",
    "pd.set_option('max_columns',100)\n",
    "warnings.simplefilter('ignore')"
   ]
  },
  {
   "cell_type": "code",
   "execution_count": null,
   "id": "cb18586d",
   "metadata": {
    "ExecuteTime": {
     "end_time": "2021-08-04T09:44:48.544867Z",
     "start_time": "2021-08-04T09:44:48.530649Z"
    }
   },
   "outputs": [],
   "source": [
    "# initialize\n",
    "absolute_difference = lambda datalist : abs(datalist - pressure_altitude)\n",
    "\n",
    "to = pd.DataFrame()\n",
    "ld = pd.DataFrame()\n",
    "others = pd.DataFrame()"
   ]
  },
  {
   "cell_type": "code",
   "execution_count": null,
   "id": "bae39666",
   "metadata": {
    "ExecuteTime": {
     "end_time": "2021-08-04T09:44:48.903872Z",
     "start_time": "2021-08-04T09:44:48.638875Z"
    }
   },
   "outputs": [],
   "source": [
    "# load data\n",
    "daterange = pd.date_range(start='12/21/2019 15:00', end='12/28/2019 14:00', freq='1H').strftime('%Y%m%d_%H%M%S')\n",
    "date = daterange[0]\n",
    "print(date)\n",
    "df = pd.read_csv(f'../input/MLAT/tp1_{date}_Cat20.ast_Mlat.csv', index_col=False, header = 1)\n",
    "\n",
    "# 여기서 date를 concat하면 같은 c/s인 항공기가 있어서 안 좋을 것 같음 -> 가장 큰 for loop으로 쓰기\n",
    "# for date in daterange:\n",
    "#    df = pd.read_csv(f'../input/tp1_{i}_Cat20.ast_Mlat.csv', index_col=False, header = 1)"
   ]
  },
  {
   "cell_type": "code",
   "execution_count": null,
   "id": "c13f15e4",
   "metadata": {
    "ExecuteTime": {
     "end_time": "2021-08-04T09:44:53.282557Z",
     "start_time": "2021-08-04T09:44:49.090880Z"
    }
   },
   "outputs": [],
   "source": [
    "# calculate pressure altitude\n",
    "current_pressure = float(input('Current pressure : '))\n",
    "fe_m = 7\n",
    "msl_ft = 145366.45 * (1 - (current_pressure/1013.25)**0.190284)\n",
    "msl_m = msl_ft * 0.3048\n",
    "pressure_altitude = msl_m + fe_m\n",
    "print('RKSI Field Elevation : 7 m')\n",
    "print(f'Pressure Altitude : {pressure_altitude} m')"
   ]
  },
  {
   "cell_type": "code",
   "execution_count": null,
   "id": "c8b5be5e",
   "metadata": {
    "ExecuteTime": {
     "end_time": "2021-08-04T09:44:54.080497Z",
     "start_time": "2021-08-04T09:44:53.470304Z"
    }
   },
   "outputs": [],
   "source": [
    "# Wheel On/Off 지점 찾기\n",
    "\n",
    "ident = np.unique(df['ModeSIdent'].values).tolist()\n",
    "\n",
    "\n",
    "for i in ident:\n",
    "    # c/s별로 wheel on/off 지점인 데이터만 넣기\n",
    "    temp_df = df[df['ModeSIdent'] == i]\n",
    "    temp_df['BAlt'] = temp_df['BAlt'].replace('----', 10000).astype(float)         # '----'값은 의미없도록 10000으로 바꿈\n",
    "    temp_altitude_list = temp_df['BAlt']\n",
    "    temp_closest_value = min(temp_altitude_list, key = absolute_difference)        # absolute_difference 으로 가장 가까운 값 찾기\n",
    "    temp_df = temp_df[temp_df['BAlt'] == temp_closest_value]\n",
    "    \n",
    "    # ops로 arr / dep나누기\n",
    "    if temp_df['GroudSpeed'].iloc[0] < temp_df['GroudSpeed'].iloc[-1]:\n",
    "        temp_df['ops'] = 'departure'\n",
    "    elif temp_df['GroudSpeed'].iloc[0] > temp_df['GroudSpeed'].iloc[-1]:\n",
    "        temp_df['ops'] = 'arrival'\n",
    "    else:\n",
    "        temp_df['ops'] = 'others'\n",
    "    \n",
    "    # arr / dep 각각 저장 - # landing은 0, takeoff는 -1로 해야함\n",
    "    if abs(temp_df['BAlt'].iloc[0] - pressure_altitude) > 100:    # 너무 큰 이상한 것은 버림\n",
    "        others = others.append(temp_df)\n",
    "    elif (temp_df['ops'].iloc[0] == 'departure') & (temp_df['GroudSpeed'].iloc[-1] > 50):    \n",
    "        to = to.append(temp_df.iloc[-1,:])    \n",
    "    elif (temp_df['ops'].iloc[0] == 'arrival') & (temp_df['GroudSpeed'].iloc[0] > 50):\n",
    "        ld = ld.append(temp_df.iloc[0,:])\n",
    "    else:\n",
    "        others = others.append(temp_df)"
   ]
  },
  {
   "cell_type": "code",
   "execution_count": null,
   "id": "bf6e89fa",
   "metadata": {
    "ExecuteTime": {
     "end_time": "2021-08-04T09:44:55.207582Z",
     "start_time": "2021-08-04T09:44:54.552613Z"
    }
   },
   "outputs": [],
   "source": [
    "base_map = plt.imread('../data/map.png')\n",
    "BBox = (126.3940, 126.4743, 37.4414, 37.4856)\n",
    "\n",
    "fig, ax = plt.subplots(figsize = (25,20))\n",
    "ax.scatter(to['Longitude'], to['Latitude'], alpha= 0.6, c='b', s=15, marker = 'o')\n",
    "ax.scatter(ld['Longitude'], ld['Latitude'], alpha= 0.6, c='r', s=15, marker = 'x')\n",
    "ax.set_xlim(BBox[0],BBox[1])\n",
    "ax.set_ylim(BBox[2],BBox[3])\n",
    "ax.imshow(base_map, zorder = 0, extent = BBox, aspect= 'equal')"
   ]
  },
  {
   "cell_type": "code",
   "execution_count": null,
   "id": "ccc3aee6",
   "metadata": {
    "ExecuteTime": {
     "end_time": "2021-08-04T09:44:55.799563Z",
     "start_time": "2021-08-04T09:44:55.738566Z"
    }
   },
   "outputs": [],
   "source": [
    "to"
   ]
  },
  {
   "cell_type": "code",
   "execution_count": null,
   "id": "0ff5ebc5",
   "metadata": {},
   "outputs": [],
   "source": []
  }
 ],
 "metadata": {
  "kernelspec": {
   "display_name": "Python 3",
   "language": "python",
   "name": "python3"
  },
  "language_info": {
   "codemirror_mode": {
    "name": "ipython",
    "version": 3
   },
   "file_extension": ".py",
   "mimetype": "text/x-python",
   "name": "python",
   "nbconvert_exporter": "python",
   "pygments_lexer": "ipython3",
   "version": "3.8.10"
  },
  "toc": {
   "base_numbering": 1,
   "nav_menu": {},
   "number_sections": true,
   "sideBar": true,
   "skip_h1_title": false,
   "title_cell": "Table of Contents",
   "title_sidebar": "Contents",
   "toc_cell": false,
   "toc_position": {},
   "toc_section_display": true,
   "toc_window_display": false
  },
  "varInspector": {
   "cols": {
    "lenName": 16,
    "lenType": 16,
    "lenVar": 40
   },
   "kernels_config": {
    "python": {
     "delete_cmd_postfix": "",
     "delete_cmd_prefix": "del ",
     "library": "var_list.py",
     "varRefreshCmd": "print(var_dic_list())"
    },
    "r": {
     "delete_cmd_postfix": ") ",
     "delete_cmd_prefix": "rm(",
     "library": "var_list.r",
     "varRefreshCmd": "cat(var_dic_list()) "
    }
   },
   "types_to_exclude": [
    "module",
    "function",
    "builtin_function_or_method",
    "instance",
    "_Feature"
   ],
   "window_display": false
  }
 },
 "nbformat": 4,
 "nbformat_minor": 5
}
