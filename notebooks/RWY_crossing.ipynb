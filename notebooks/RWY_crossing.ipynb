{
 "cells": [
  {
   "cell_type": "code",
   "execution_count": null,
   "id": "f31b0c23",
   "metadata": {
    "ExecuteTime": {
     "end_time": "2021-08-03T10:27:12.412686Z",
     "start_time": "2021-08-03T10:27:12.393539Z"
    }
   },
   "outputs": [],
   "source": [
    "import pandas as pd\n",
    "import numpy as np"
   ]
  },
  {
   "cell_type": "code",
   "execution_count": null,
   "id": "bae39666",
   "metadata": {
    "ExecuteTime": {
     "end_time": "2021-08-03T10:29:40.922512Z",
     "start_time": "2021-08-03T10:29:40.490894Z"
    }
   },
   "outputs": [],
   "source": [
    "df = pd.read_csv('../input/tp1_20191221_150000_Cat20.ast_Mlat.csv', index_col=False, header = 1)"
   ]
  },
  {
   "cell_type": "code",
   "execution_count": null,
   "id": "72c34ed6",
   "metadata": {
    "ExecuteTime": {
     "end_time": "2021-08-03T10:29:56.178069Z",
     "start_time": "2021-08-03T10:29:56.091613Z"
    }
   },
   "outputs": [],
   "source": [
    "df.info()"
   ]
  },
  {
   "cell_type": "code",
   "execution_count": null,
   "id": "8f5c7d3d",
   "metadata": {
    "ExecuteTime": {
     "end_time": "2021-08-03T10:37:14.423013Z",
     "start_time": "2021-08-03T10:37:14.405762Z"
    }
   },
   "outputs": [],
   "source": [
    "ident = list(set(df['ModeSIdent'].values))\n",
    "\n",
    "for i in ident:\n",
    "    temp_df = df[df['ModeSIdent'] == i]"
   ]
  }
 ],
 "metadata": {
  "kernelspec": {
   "display_name": "Python 3",
   "language": "python",
   "name": "python3"
  },
  "language_info": {
   "codemirror_mode": {
    "name": "ipython",
    "version": 3
   },
   "file_extension": ".py",
   "mimetype": "text/x-python",
   "name": "python",
   "nbconvert_exporter": "python",
   "pygments_lexer": "ipython3",
   "version": "3.8.10"
  },
  "toc": {
   "base_numbering": 1,
   "nav_menu": {},
   "number_sections": true,
   "sideBar": true,
   "skip_h1_title": false,
   "title_cell": "Table of Contents",
   "title_sidebar": "Contents",
   "toc_cell": false,
   "toc_position": {},
   "toc_section_display": true,
   "toc_window_display": false
  },
  "varInspector": {
   "cols": {
    "lenName": 16,
    "lenType": 16,
    "lenVar": 40
   },
   "kernels_config": {
    "python": {
     "delete_cmd_postfix": "",
     "delete_cmd_prefix": "del ",
     "library": "var_list.py",
     "varRefreshCmd": "print(var_dic_list())"
    },
    "r": {
     "delete_cmd_postfix": ") ",
     "delete_cmd_prefix": "rm(",
     "library": "var_list.r",
     "varRefreshCmd": "cat(var_dic_list()) "
    }
   },
   "types_to_exclude": [
    "module",
    "function",
    "builtin_function_or_method",
    "instance",
    "_Feature"
   ],
   "window_display": false
  }
 },
 "nbformat": 4,
 "nbformat_minor": 5
}
