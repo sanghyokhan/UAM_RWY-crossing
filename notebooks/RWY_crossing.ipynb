{
 "cells": [
  {
   "cell_type": "code",
   "execution_count": 1,
   "id": "f31b0c23",
   "metadata": {
    "ExecuteTime": {
     "end_time": "2021-08-12T07:59:37.611255Z",
     "start_time": "2021-08-12T07:59:35.665170Z"
    }
   },
   "outputs": [],
   "source": [
    "import pandas as pd\n",
    "import numpy as np\n",
    "import matplotlib.pyplot as plt\n",
    "import warnings\n",
    "import re\n",
    "import math\n",
    "import seaborn as sns\n",
    "from datetime import datetime, timedelta, date\n",
    "from fitter import Fitter, get_common_distributions, get_distributions"
   ]
  },
  {
   "cell_type": "code",
   "execution_count": 2,
   "id": "1e008cb5",
   "metadata": {
    "ExecuteTime": {
     "end_time": "2021-08-12T07:59:37.674849Z",
     "start_time": "2021-08-12T07:59:37.660257Z"
    }
   },
   "outputs": [],
   "source": [
    "# options\n",
    "pd.set_option('max_columns',100)\n",
    "warnings.simplefilter('ignore')\n",
    "plt.style.use('seaborn-whitegrid')"
   ]
  },
  {
   "cell_type": "code",
   "execution_count": 3,
   "id": "25fb6f8f",
   "metadata": {
    "ExecuteTime": {
     "end_time": "2021-08-12T07:59:37.737511Z",
     "start_time": "2021-08-12T07:59:37.724486Z"
    }
   },
   "outputs": [],
   "source": [
    "save_dir = '../result/notebook/'"
   ]
  },
  {
   "cell_type": "markdown",
   "id": "f29cf4cb",
   "metadata": {},
   "source": [
    "# 내꺼"
   ]
  },
  {
   "cell_type": "code",
   "execution_count": 4,
   "id": "cb18586d",
   "metadata": {
    "ExecuteTime": {
     "end_time": "2021-08-12T07:59:37.800651Z",
     "start_time": "2021-08-12T07:59:37.786489Z"
    }
   },
   "outputs": [],
   "source": [
    "# initialize\n",
    "absolute_difference = lambda datalist : abs(datalist - pressure_altitude)\n",
    "\n",
    "to = pd.DataFrame()\n",
    "ld = pd.DataFrame()\n",
    "others = pd.DataFrame()"
   ]
  },
  {
   "cell_type": "code",
   "execution_count": 5,
   "id": "bae39666",
   "metadata": {
    "ExecuteTime": {
     "end_time": "2021-08-12T07:59:38.578513Z",
     "start_time": "2021-08-12T07:59:37.850488Z"
    }
   },
   "outputs": [
    {
     "name": "stdout",
     "output_type": "stream",
     "text": [
      "20191222_030000\n",
      "20191222_040000\n"
     ]
    }
   ],
   "source": [
    "# load data\n",
    "daterange = pd.date_range(start='12/21/2019 15:00', end='12/28/2019 14:00', freq='1H').strftime('%Y%m%d_%H%M%S')  # Zulu time\n",
    "dff = pd.DataFrame()\n",
    "\n",
    "for i in range(12,14):\n",
    "    date = daterange[i]\n",
    "    print(date)\n",
    "    df = pd.read_csv(f'../input/MLAT/tp1_{date}_Cat20.ast_Mlat.csv', index_col=False, header = 1)\n",
    "    dff = pd.concat([dff, df])\n",
    "\n",
    "# 여기서 date를 concat하면 같은 c/s인 항공기가 있어서 안 좋을 것 같음 -> 가장 큰 for loop으로 쓰기\n",
    "# for date in daterange:\n",
    "#    df = pd.read_csv(f'../input/tp1_{i}_Cat20.ast_Mlat.csv', index_col=False, header = 1)"
   ]
  },
  {
   "cell_type": "code",
   "execution_count": 6,
   "id": "ca153c1a",
   "metadata": {
    "ExecuteTime": {
     "end_time": "2021-08-12T07:59:38.834485Z",
     "start_time": "2021-08-12T07:59:38.726495Z"
    }
   },
   "outputs": [
    {
     "data": {
      "text/html": [
       "<div>\n",
       "<style scoped>\n",
       "    .dataframe tbody tr th:only-of-type {\n",
       "        vertical-align: middle;\n",
       "    }\n",
       "\n",
       "    .dataframe tbody tr th {\n",
       "        vertical-align: top;\n",
       "    }\n",
       "\n",
       "    .dataframe thead th {\n",
       "        text-align: right;\n",
       "    }\n",
       "</style>\n",
       "<table border=\"1\" class=\"dataframe\">\n",
       "  <thead>\n",
       "    <tr style=\"text-align: right;\">\n",
       "      <th></th>\n",
       "      <th>#Type</th>\n",
       "      <th>TimeGet</th>\n",
       "      <th>TimeStamp</th>\n",
       "      <th>Index</th>\n",
       "      <th>Hour</th>\n",
       "      <th>Min</th>\n",
       "      <th>Sec</th>\n",
       "      <th>Latitude</th>\n",
       "      <th>Longitude</th>\n",
       "      <th>BAlt</th>\n",
       "      <th>MeasuredFL</th>\n",
       "      <th>GroudSpeed</th>\n",
       "      <th>TrackAngle</th>\n",
       "      <th>Mode3A</th>\n",
       "      <th>ModeSIdent</th>\n",
       "      <th>TimeOfDay</th>\n",
       "      <th>TrackNo</th>\n",
       "      <th>X(m)</th>\n",
       "      <th>Y(m)</th>\n",
       "      <th>SpeedX(m/s)</th>\n",
       "      <th>SpeedY(m/s)</th>\n",
       "      <th>VRate(m/s)</th>\n",
       "      <th>AccelX(m/s2)</th>\n",
       "      <th>AccelY(m/s2)</th>\n",
       "      <th>SAC</th>\n",
       "      <th>SIC</th>\n",
       "      <th>CODE</th>\n",
       "      <th>FDPCallSign</th>\n",
       "    </tr>\n",
       "  </thead>\n",
       "  <tbody>\n",
       "    <tr>\n",
       "      <th>66589</th>\n",
       "      <td>MLAT</td>\n",
       "      <td>2019.12.22 03:39:31.798840</td>\n",
       "      <td>2019.12.22 03:39:31.798840</td>\n",
       "      <td>66589</td>\n",
       "      <td>3</td>\n",
       "      <td>39</td>\n",
       "      <td>31</td>\n",
       "      <td>37.555684</td>\n",
       "      <td>126.220851</td>\n",
       "      <td>1066</td>\n",
       "      <td>1198</td>\n",
       "      <td>89.474158</td>\n",
       "      <td>46.358539</td>\n",
       "      <td>3721</td>\n",
       "      <td>AAR131</td>\n",
       "      <td>13171</td>\n",
       "      <td>1775</td>\n",
       "      <td>-19294.0</td>\n",
       "      <td>10366.5</td>\n",
       "      <td>64.75</td>\n",
       "      <td>61.75</td>\n",
       "      <td>----</td>\n",
       "      <td>----</td>\n",
       "      <td>----</td>\n",
       "      <td>116</td>\n",
       "      <td>101</td>\n",
       "      <td>71BF92</td>\n",
       "      <td>----</td>\n",
       "    </tr>\n",
       "    <tr>\n",
       "      <th>66618</th>\n",
       "      <td>MLAT</td>\n",
       "      <td>2019.12.22 03:39:32.798840</td>\n",
       "      <td>2019.12.22 03:39:32.798840</td>\n",
       "      <td>66618</td>\n",
       "      <td>3</td>\n",
       "      <td>39</td>\n",
       "      <td>32</td>\n",
       "      <td>37.556242</td>\n",
       "      <td>126.221559</td>\n",
       "      <td>1066</td>\n",
       "      <td>1194</td>\n",
       "      <td>89.286407</td>\n",
       "      <td>46.021005</td>\n",
       "      <td>3721</td>\n",
       "      <td>AAR131</td>\n",
       "      <td>13172</td>\n",
       "      <td>1775</td>\n",
       "      <td>-19231.0</td>\n",
       "      <td>10428.0</td>\n",
       "      <td>64.25</td>\n",
       "      <td>62.00</td>\n",
       "      <td>----</td>\n",
       "      <td>----</td>\n",
       "      <td>----</td>\n",
       "      <td>116</td>\n",
       "      <td>101</td>\n",
       "      <td>71BF92</td>\n",
       "      <td>----</td>\n",
       "    </tr>\n",
       "    <tr>\n",
       "      <th>66647</th>\n",
       "      <td>MLAT</td>\n",
       "      <td>2019.12.22 03:39:33.798840</td>\n",
       "      <td>2019.12.22 03:39:33.798840</td>\n",
       "      <td>66647</td>\n",
       "      <td>3</td>\n",
       "      <td>39</td>\n",
       "      <td>33</td>\n",
       "      <td>37.556747</td>\n",
       "      <td>126.222203</td>\n",
       "      <td>1059</td>\n",
       "      <td>1162</td>\n",
       "      <td>83.465562</td>\n",
       "      <td>46.456359</td>\n",
       "      <td>3721</td>\n",
       "      <td>AAR131</td>\n",
       "      <td>13173</td>\n",
       "      <td>1775</td>\n",
       "      <td>-19174.0</td>\n",
       "      <td>10484.5</td>\n",
       "      <td>60.50</td>\n",
       "      <td>57.50</td>\n",
       "      <td>----</td>\n",
       "      <td>----</td>\n",
       "      <td>----</td>\n",
       "      <td>116</td>\n",
       "      <td>101</td>\n",
       "      <td>71BF92</td>\n",
       "      <td>----</td>\n",
       "    </tr>\n",
       "    <tr>\n",
       "      <th>66676</th>\n",
       "      <td>MLAT</td>\n",
       "      <td>2019.12.22 03:39:34.798840</td>\n",
       "      <td>2019.12.22 03:39:34.798840</td>\n",
       "      <td>66676</td>\n",
       "      <td>3</td>\n",
       "      <td>39</td>\n",
       "      <td>34</td>\n",
       "      <td>37.557358</td>\n",
       "      <td>126.222847</td>\n",
       "      <td>1059</td>\n",
       "      <td>1171</td>\n",
       "      <td>88.052541</td>\n",
       "      <td>43.849637</td>\n",
       "      <td>3721</td>\n",
       "      <td>AAR131</td>\n",
       "      <td>13174</td>\n",
       "      <td>1775</td>\n",
       "      <td>-19117.0</td>\n",
       "      <td>10552.0</td>\n",
       "      <td>61.00</td>\n",
       "      <td>63.50</td>\n",
       "      <td>----</td>\n",
       "      <td>----</td>\n",
       "      <td>----</td>\n",
       "      <td>116</td>\n",
       "      <td>101</td>\n",
       "      <td>71BF92</td>\n",
       "      <td>----</td>\n",
       "    </tr>\n",
       "    <tr>\n",
       "      <th>66705</th>\n",
       "      <td>MLAT</td>\n",
       "      <td>2019.12.22 03:39:35.274552</td>\n",
       "      <td>2019.12.22 03:39:35.274552</td>\n",
       "      <td>66705</td>\n",
       "      <td>3</td>\n",
       "      <td>39</td>\n",
       "      <td>35</td>\n",
       "      <td>37.557954</td>\n",
       "      <td>126.223522</td>\n",
       "      <td>1051</td>\n",
       "      <td>1276</td>\n",
       "      <td>89.858917</td>\n",
       "      <td>42.970684</td>\n",
       "      <td>3721</td>\n",
       "      <td>AAR131</td>\n",
       "      <td>13175</td>\n",
       "      <td>1775</td>\n",
       "      <td>-19057.5</td>\n",
       "      <td>10618.0</td>\n",
       "      <td>61.25</td>\n",
       "      <td>65.75</td>\n",
       "      <td>----</td>\n",
       "      <td>----</td>\n",
       "      <td>----</td>\n",
       "      <td>116</td>\n",
       "      <td>101</td>\n",
       "      <td>71BF92</td>\n",
       "      <td>----</td>\n",
       "    </tr>\n",
       "    <tr>\n",
       "      <th>...</th>\n",
       "      <td>...</td>\n",
       "      <td>...</td>\n",
       "      <td>...</td>\n",
       "      <td>...</td>\n",
       "      <td>...</td>\n",
       "      <td>...</td>\n",
       "      <td>...</td>\n",
       "      <td>...</td>\n",
       "      <td>...</td>\n",
       "      <td>...</td>\n",
       "      <td>...</td>\n",
       "      <td>...</td>\n",
       "      <td>...</td>\n",
       "      <td>...</td>\n",
       "      <td>...</td>\n",
       "      <td>...</td>\n",
       "      <td>...</td>\n",
       "      <td>...</td>\n",
       "      <td>...</td>\n",
       "      <td>...</td>\n",
       "      <td>...</td>\n",
       "      <td>...</td>\n",
       "      <td>...</td>\n",
       "      <td>...</td>\n",
       "      <td>...</td>\n",
       "      <td>...</td>\n",
       "      <td>...</td>\n",
       "      <td>...</td>\n",
       "    </tr>\n",
       "    <tr>\n",
       "      <th>10704</th>\n",
       "      <td>MLAT</td>\n",
       "      <td>2019.12.22 04:06:41.684728</td>\n",
       "      <td>2019.12.22 04:06:41.684728</td>\n",
       "      <td>10704</td>\n",
       "      <td>4</td>\n",
       "      <td>6</td>\n",
       "      <td>41</td>\n",
       "      <td>37.451416</td>\n",
       "      <td>126.451290</td>\n",
       "      <td>-45</td>\n",
       "      <td>87</td>\n",
       "      <td>0.559017</td>\n",
       "      <td>243.434949</td>\n",
       "      <td>3721</td>\n",
       "      <td>AAR131</td>\n",
       "      <td>14801</td>\n",
       "      <td>1775</td>\n",
       "      <td>1072.5</td>\n",
       "      <td>-1230.0</td>\n",
       "      <td>-0.50</td>\n",
       "      <td>-0.25</td>\n",
       "      <td>----</td>\n",
       "      <td>----</td>\n",
       "      <td>----</td>\n",
       "      <td>116</td>\n",
       "      <td>101</td>\n",
       "      <td>71BF92</td>\n",
       "      <td>----</td>\n",
       "    </tr>\n",
       "    <tr>\n",
       "      <th>10730</th>\n",
       "      <td>MLAT</td>\n",
       "      <td>2019.12.22 04:06:42.684728</td>\n",
       "      <td>2019.12.22 04:06:42.684728</td>\n",
       "      <td>10730</td>\n",
       "      <td>4</td>\n",
       "      <td>6</td>\n",
       "      <td>42</td>\n",
       "      <td>37.451416</td>\n",
       "      <td>126.451285</td>\n",
       "      <td>-45</td>\n",
       "      <td>87</td>\n",
       "      <td>0.559017</td>\n",
       "      <td>243.434949</td>\n",
       "      <td>3721</td>\n",
       "      <td>AAR131</td>\n",
       "      <td>14802</td>\n",
       "      <td>1775</td>\n",
       "      <td>1072.0</td>\n",
       "      <td>-1230.5</td>\n",
       "      <td>-0.50</td>\n",
       "      <td>-0.25</td>\n",
       "      <td>----</td>\n",
       "      <td>----</td>\n",
       "      <td>----</td>\n",
       "      <td>116</td>\n",
       "      <td>101</td>\n",
       "      <td>71BF92</td>\n",
       "      <td>----</td>\n",
       "    </tr>\n",
       "    <tr>\n",
       "      <th>10756</th>\n",
       "      <td>MLAT</td>\n",
       "      <td>2019.12.22 04:06:43.684728</td>\n",
       "      <td>2019.12.22 04:06:43.684728</td>\n",
       "      <td>10756</td>\n",
       "      <td>4</td>\n",
       "      <td>6</td>\n",
       "      <td>43</td>\n",
       "      <td>37.451411</td>\n",
       "      <td>126.451280</td>\n",
       "      <td>-45</td>\n",
       "      <td>85</td>\n",
       "      <td>0.559017</td>\n",
       "      <td>243.434949</td>\n",
       "      <td>3721</td>\n",
       "      <td>AAR131</td>\n",
       "      <td>14803</td>\n",
       "      <td>1775</td>\n",
       "      <td>1071.5</td>\n",
       "      <td>-1230.5</td>\n",
       "      <td>-0.50</td>\n",
       "      <td>-0.25</td>\n",
       "      <td>----</td>\n",
       "      <td>----</td>\n",
       "      <td>----</td>\n",
       "      <td>116</td>\n",
       "      <td>101</td>\n",
       "      <td>71BF92</td>\n",
       "      <td>----</td>\n",
       "    </tr>\n",
       "    <tr>\n",
       "      <th>10782</th>\n",
       "      <td>MLAT</td>\n",
       "      <td>2019.12.22 04:06:44.684728</td>\n",
       "      <td>2019.12.22 04:06:44.684728</td>\n",
       "      <td>10782</td>\n",
       "      <td>4</td>\n",
       "      <td>6</td>\n",
       "      <td>44</td>\n",
       "      <td>37.451406</td>\n",
       "      <td>126.451274</td>\n",
       "      <td>-45</td>\n",
       "      <td>85</td>\n",
       "      <td>0.559017</td>\n",
       "      <td>243.434949</td>\n",
       "      <td>3721</td>\n",
       "      <td>AAR131</td>\n",
       "      <td>14804</td>\n",
       "      <td>1775</td>\n",
       "      <td>1071.0</td>\n",
       "      <td>-1231.0</td>\n",
       "      <td>-0.50</td>\n",
       "      <td>-0.25</td>\n",
       "      <td>----</td>\n",
       "      <td>----</td>\n",
       "      <td>----</td>\n",
       "      <td>116</td>\n",
       "      <td>101</td>\n",
       "      <td>71BF92</td>\n",
       "      <td>----</td>\n",
       "    </tr>\n",
       "    <tr>\n",
       "      <th>10808</th>\n",
       "      <td>MLAT</td>\n",
       "      <td>2019.12.22 04:06:45.488120</td>\n",
       "      <td>2019.12.22 04:06:45.488120</td>\n",
       "      <td>10808</td>\n",
       "      <td>4</td>\n",
       "      <td>6</td>\n",
       "      <td>45</td>\n",
       "      <td>37.451406</td>\n",
       "      <td>126.451269</td>\n",
       "      <td>----</td>\n",
       "      <td>87</td>\n",
       "      <td>0.559017</td>\n",
       "      <td>243.434949</td>\n",
       "      <td>3721</td>\n",
       "      <td>AAR131</td>\n",
       "      <td>14805</td>\n",
       "      <td>1775</td>\n",
       "      <td>1071.0</td>\n",
       "      <td>-1231.5</td>\n",
       "      <td>-0.50</td>\n",
       "      <td>-0.25</td>\n",
       "      <td>----</td>\n",
       "      <td>----</td>\n",
       "      <td>----</td>\n",
       "      <td>116</td>\n",
       "      <td>101</td>\n",
       "      <td>71BF92</td>\n",
       "      <td>----</td>\n",
       "    </tr>\n",
       "  </tbody>\n",
       "</table>\n",
       "<p>1437 rows × 28 columns</p>\n",
       "</div>"
      ],
      "text/plain": [
       "      #Type                     TimeGet                   TimeStamp  Index  \\\n",
       "66589  MLAT  2019.12.22 03:39:31.798840  2019.12.22 03:39:31.798840  66589   \n",
       "66618  MLAT  2019.12.22 03:39:32.798840  2019.12.22 03:39:32.798840  66618   \n",
       "66647  MLAT  2019.12.22 03:39:33.798840  2019.12.22 03:39:33.798840  66647   \n",
       "66676  MLAT  2019.12.22 03:39:34.798840  2019.12.22 03:39:34.798840  66676   \n",
       "66705  MLAT  2019.12.22 03:39:35.274552  2019.12.22 03:39:35.274552  66705   \n",
       "...     ...                         ...                         ...    ...   \n",
       "10704  MLAT  2019.12.22 04:06:41.684728  2019.12.22 04:06:41.684728  10704   \n",
       "10730  MLAT  2019.12.22 04:06:42.684728  2019.12.22 04:06:42.684728  10730   \n",
       "10756  MLAT  2019.12.22 04:06:43.684728  2019.12.22 04:06:43.684728  10756   \n",
       "10782  MLAT  2019.12.22 04:06:44.684728  2019.12.22 04:06:44.684728  10782   \n",
       "10808  MLAT  2019.12.22 04:06:45.488120  2019.12.22 04:06:45.488120  10808   \n",
       "\n",
       "       Hour  Min  Sec   Latitude   Longitude  BAlt MeasuredFL  GroudSpeed  \\\n",
       "66589     3   39   31  37.555684  126.220851  1066       1198   89.474158   \n",
       "66618     3   39   32  37.556242  126.221559  1066       1194   89.286407   \n",
       "66647     3   39   33  37.556747  126.222203  1059       1162   83.465562   \n",
       "66676     3   39   34  37.557358  126.222847  1059       1171   88.052541   \n",
       "66705     3   39   35  37.557954  126.223522  1051       1276   89.858917   \n",
       "...     ...  ...  ...        ...         ...   ...        ...         ...   \n",
       "10704     4    6   41  37.451416  126.451290   -45         87    0.559017   \n",
       "10730     4    6   42  37.451416  126.451285   -45         87    0.559017   \n",
       "10756     4    6   43  37.451411  126.451280   -45         85    0.559017   \n",
       "10782     4    6   44  37.451406  126.451274   -45         85    0.559017   \n",
       "10808     4    6   45  37.451406  126.451269  ----         87    0.559017   \n",
       "\n",
       "       TrackAngle Mode3A ModeSIdent  TimeOfDay  TrackNo     X(m)     Y(m)  \\\n",
       "66589   46.358539   3721     AAR131      13171     1775 -19294.0  10366.5   \n",
       "66618   46.021005   3721     AAR131      13172     1775 -19231.0  10428.0   \n",
       "66647   46.456359   3721     AAR131      13173     1775 -19174.0  10484.5   \n",
       "66676   43.849637   3721     AAR131      13174     1775 -19117.0  10552.0   \n",
       "66705   42.970684   3721     AAR131      13175     1775 -19057.5  10618.0   \n",
       "...           ...    ...        ...        ...      ...      ...      ...   \n",
       "10704  243.434949   3721     AAR131      14801     1775   1072.5  -1230.0   \n",
       "10730  243.434949   3721     AAR131      14802     1775   1072.0  -1230.5   \n",
       "10756  243.434949   3721     AAR131      14803     1775   1071.5  -1230.5   \n",
       "10782  243.434949   3721     AAR131      14804     1775   1071.0  -1231.0   \n",
       "10808  243.434949   3721     AAR131      14805     1775   1071.0  -1231.5   \n",
       "\n",
       "       SpeedX(m/s)  SpeedY(m/s) VRate(m/s) AccelX(m/s2) AccelY(m/s2)  SAC  \\\n",
       "66589        64.75        61.75       ----         ----         ----  116   \n",
       "66618        64.25        62.00       ----         ----         ----  116   \n",
       "66647        60.50        57.50       ----         ----         ----  116   \n",
       "66676        61.00        63.50       ----         ----         ----  116   \n",
       "66705        61.25        65.75       ----         ----         ----  116   \n",
       "...            ...          ...        ...          ...          ...  ...   \n",
       "10704        -0.50        -0.25       ----         ----         ----  116   \n",
       "10730        -0.50        -0.25       ----         ----         ----  116   \n",
       "10756        -0.50        -0.25       ----         ----         ----  116   \n",
       "10782        -0.50        -0.25       ----         ----         ----  116   \n",
       "10808        -0.50        -0.25       ----         ----         ----  116   \n",
       "\n",
       "       SIC    CODE FDPCallSign  \n",
       "66589  101  71BF92        ----  \n",
       "66618  101  71BF92        ----  \n",
       "66647  101  71BF92        ----  \n",
       "66676  101  71BF92        ----  \n",
       "66705  101  71BF92        ----  \n",
       "...    ...     ...         ...  \n",
       "10704  101  71BF92        ----  \n",
       "10730  101  71BF92        ----  \n",
       "10756  101  71BF92        ----  \n",
       "10782  101  71BF92        ----  \n",
       "10808  101  71BF92        ----  \n",
       "\n",
       "[1437 rows x 28 columns]"
      ]
     },
     "execution_count": 6,
     "metadata": {},
     "output_type": "execute_result"
    }
   ],
   "source": [
    "dff[dff['ModeSIdent']  == 'AAR131']"
   ]
  },
  {
   "cell_type": "code",
   "execution_count": 7,
   "id": "c13f15e4",
   "metadata": {
    "ExecuteTime": {
     "end_time": "2021-08-12T07:59:44.940100Z",
     "start_time": "2021-08-12T07:59:38.976730Z"
    }
   },
   "outputs": [
    {
     "name": "stdout",
     "output_type": "stream",
     "text": [
      "Current pressure : 1013\n",
      "RKSI Field Elevation : 7 m\n",
      "Pressure Altitude : 9.080406500847426 m\n"
     ]
    }
   ],
   "source": [
    "# calculate pressure altitude\n",
    "\n",
    "current_pressure = float(input('Current pressure : '))\n",
    "fe_m = 7\n",
    "msl_ft = 145366.45 * (1 - (current_pressure/1013.25)**0.190284)\n",
    "msl_m = msl_ft * 0.3048\n",
    "pressure_altitude = msl_m + fe_m\n",
    "print('RKSI Field Elevation : 7 m')\n",
    "print(f'Pressure Altitude : {pressure_altitude} m')"
   ]
  },
  {
   "cell_type": "code",
   "execution_count": 8,
   "id": "c8b5be5e",
   "metadata": {
    "ExecuteTime": {
     "end_time": "2021-08-12T07:59:46.343000Z",
     "start_time": "2021-08-12T07:59:45.086108Z"
    }
   },
   "outputs": [],
   "source": [
    "# Wheel On/Off 지점 찾기\n",
    "\n",
    "ident = np.unique(df['ModeSIdent'].values).tolist()\n",
    "\n",
    "\n",
    "for i in ident:\n",
    "    # c/s별로 wheel on/off 지점인 데이터만 넣기\n",
    "    temp_df = df[df['ModeSIdent'] == i]\n",
    "    temp_df['BAlt'] = temp_df['BAlt'].replace('----', 10000).astype(float)         # '----'값은 의미없도록 10000으로 바꿈\n",
    "    temp_altitude_list = temp_df['BAlt']\n",
    "    temp_closest_value = min(temp_altitude_list, key = absolute_difference)        # absolute_difference 으로 가장 가까운 값 찾기\n",
    "    temp_df = temp_df[temp_df['BAlt'] == temp_closest_value]\n",
    "    \n",
    "    # ops로 arr / dep나누기\n",
    "    if temp_df['GroudSpeed'].iloc[0] < temp_df['GroudSpeed'].iloc[-1]:\n",
    "        temp_df['ops'] = 'departure'\n",
    "    elif temp_df['GroudSpeed'].iloc[0] > temp_df['GroudSpeed'].iloc[-1]:\n",
    "        temp_df['ops'] = 'arrival'\n",
    "    else:\n",
    "        temp_df['ops'] = 'others'\n",
    "    \n",
    "    # arr / dep 각각 저장 - # landing은 0, takeoff는 -1로 해야함\n",
    "    if abs(temp_df['BAlt'].iloc[0] - pressure_altitude) > 100:    # 너무 큰 이상한 것은 버림\n",
    "        others = others.append(temp_df)\n",
    "    elif (temp_df['ops'].iloc[0] == 'departure') & (temp_df['GroudSpeed'].iloc[-1] > 50):    \n",
    "        to = to.append(temp_df.iloc[-1,:])    \n",
    "    elif (temp_df['ops'].iloc[0] == 'arrival') & (temp_df['GroudSpeed'].iloc[0] > 50):\n",
    "        ld = ld.append(temp_df.iloc[0,:])\n",
    "    else:\n",
    "        others = others.append(temp_df)"
   ]
  },
  {
   "cell_type": "code",
   "execution_count": null,
   "id": "bf6e89fa",
   "metadata": {
    "ExecuteTime": {
     "end_time": "2021-08-06T07:00:22.786406Z",
     "start_time": "2021-08-06T07:00:22.042323Z"
    }
   },
   "outputs": [],
   "source": [
    "base_map = plt.imread('../data/map.png')\n",
    "BBox = (126.3940, 126.4743, 37.4414, 37.4856)\n",
    "\n",
    "fig, ax = plt.subplots(figsize = (25,20))\n",
    "ax.scatter(to['Longitude'], to['Latitude'], alpha= 0.6, c='b', s=15, marker = 'o')\n",
    "ax.scatter(ld['Longitude'], ld['Latitude'], alpha= 0.6, c='r', s=15, marker = 'x')\n",
    "ax.set_xlim(BBox[0],BBox[1])\n",
    "ax.set_ylim(BBox[2],BBox[3])\n",
    "ax.imshow(base_map, zorder = 0, extent = BBox, aspect= 'equal')"
   ]
  },
  {
   "cell_type": "markdown",
   "id": "a0769e1e",
   "metadata": {},
   "source": [
    "\n",
    "\n",
    "# 교수님 데이터"
   ]
  },
  {
   "cell_type": "code",
   "execution_count": 9,
   "id": "95e7b01a",
   "metadata": {
    "ExecuteTime": {
     "end_time": "2021-08-12T07:59:48.097048Z",
     "start_time": "2021-08-12T07:59:48.088027Z"
    }
   },
   "outputs": [],
   "source": [
    "def datenum_to_datetime(datenum):\n",
    "    \"\"\"\n",
    "    Convert Matlab datenum into Python datetime.\n",
    "    :param datenum: Date in datenum format\n",
    "    :return:        Datetime object corresponding to datenum.\n",
    "    \"\"\"\n",
    "    days = datenum % 1\n",
    "    hours = days % 1 * 24\n",
    "    minutes = hours % 1 * 60\n",
    "    seconds = minutes % 1 * 60\n",
    "    return datetime.fromordinal(int(datenum)) \\\n",
    "           + timedelta(days=int(days)) \\\n",
    "           + timedelta(hours=int(hours)) \\\n",
    "           + timedelta(minutes=int(minutes)) \\\n",
    "           + timedelta(seconds=round(seconds)) \\\n",
    "           - timedelta(days=366)"
   ]
  },
  {
   "cell_type": "code",
   "execution_count": 10,
   "id": "2c6acf3f",
   "metadata": {
    "ExecuteTime": {
     "end_time": "2021-08-12T07:59:48.440180Z",
     "start_time": "2021-08-12T07:59:48.427043Z"
    }
   },
   "outputs": [],
   "source": [
    "# RWY : '33L', '33R', 34, '15R', '15L', 16  -->>  1-3 : Northflow / 4-6 : Southflow\n",
    "\n",
    "columns = ['Time', 'Callsign', 'AC', 'Lat', 'Lon', 'RWY', 'DIST', 'ROT1', 'ROT2']"
   ]
  },
  {
   "cell_type": "code",
   "execution_count": 11,
   "id": "eac00023",
   "metadata": {
    "ExecuteTime": {
     "end_time": "2021-08-12T07:59:48.752244Z",
     "start_time": "2021-08-12T07:59:48.707179Z"
    }
   },
   "outputs": [],
   "source": [
    "arr_df = pd.read_csv(f'../input/arr_data.csv', index_col=False, header = 0)\n",
    "dep_df = pd.read_csv(f'../input/dep_data.csv', index_col=False, header = 0)\n",
    "freetime_df = pd.read_csv(f'../input/freetime.csv', index_col=False, header = 0)"
   ]
  },
  {
   "cell_type": "code",
   "execution_count": 12,
   "id": "c234f289",
   "metadata": {
    "ExecuteTime": {
     "end_time": "2021-08-12T07:59:49.890205Z",
     "start_time": "2021-08-12T07:59:49.118181Z"
    }
   },
   "outputs": [],
   "source": [
    "arr_df.columns = columns\n",
    "dep_df.columns = columns\n",
    "arr_df['Time']= pd.to_datetime(arr_df['Time'])\n",
    "dep_df['Time']= pd.to_datetime(dep_df['Time'])"
   ]
  },
  {
   "cell_type": "code",
   "execution_count": 13,
   "id": "9a40a8a5",
   "metadata": {
    "ExecuteTime": {
     "end_time": "2021-08-12T07:59:50.269619Z",
     "start_time": "2021-08-12T07:59:50.255559Z"
    }
   },
   "outputs": [],
   "source": [
    "arr_df_north = arr_df[arr_df['RWY'] <= 3]\n",
    "dep_df_north = dep_df[dep_df['RWY'] <= 3]\n",
    "arr_df_south = arr_df[arr_df['RWY'] > 3]\n",
    "dep_df_south = dep_df[dep_df['RWY'] > 3]"
   ]
  },
  {
   "cell_type": "code",
   "execution_count": 14,
   "id": "322ef99f",
   "metadata": {
    "ExecuteTime": {
     "end_time": "2021-08-12T07:59:50.715783Z",
     "start_time": "2021-08-12T07:59:50.688765Z"
    }
   },
   "outputs": [],
   "source": [
    "freetime = pd.DataFrame()\n",
    "for j in range(0,35,7):\n",
    "    temp = pd.concat([freetime_df[i] for i in freetime_df.columns[j:j+7]]).reset_index(drop = True)\n",
    "    freetime = pd.concat([freetime, pd.DataFrame(temp)], axis = 1)\n",
    "freetime.columns = ['Time', 'Total', 'Num', 'Mean', 'Std']"
   ]
  },
  {
   "cell_type": "markdown",
   "id": "97d6b549",
   "metadata": {},
   "source": [
    "## Scatter on the map"
   ]
  },
  {
   "cell_type": "code",
   "execution_count": null,
   "id": "9581d798",
   "metadata": {
    "ExecuteTime": {
     "end_time": "2021-08-12T05:32:03.556173Z",
     "start_time": "2021-08-12T05:32:03.507719Z"
    }
   },
   "outputs": [],
   "source": [
    "base_map = plt.imread('../data/map.png')\n",
    "BBox = (126.3940, 126.4743, 37.4414, 37.4856)"
   ]
  },
  {
   "cell_type": "code",
   "execution_count": null,
   "id": "25c74a4d",
   "metadata": {
    "ExecuteTime": {
     "end_time": "2021-08-09T05:25:44.349280Z",
     "start_time": "2021-08-09T05:25:42.742758Z"
    }
   },
   "outputs": [],
   "source": [
    "# North flow\n",
    "\n",
    "fig, ax = plt.subplots(figsize = (25,20))\n",
    "ax.scatter(dep_df_north['Lon'], dep_df_north['Lat'], alpha= 0.6, c='b', s=30, marker = 'o', label = 'Departure')\n",
    "ax.scatter(arr_df_north['Lon'], arr_df_north['Lat'], alpha= 0.6, c='r', s=30, marker = 'x', label = 'Arrival')\n",
    "ax.set_xlim(BBox[0],BBox[1])\n",
    "ax.set_ylim(BBox[2],BBox[3])\n",
    "ax.legend(fontsize=20)\n",
    "ax.imshow(base_map, zorder = 0, extent = BBox, aspect= 'equal')\n",
    "\n",
    "plt.savefig(save_dir + 'northflow.png', bbox_inches='tight', pad_inches=1)"
   ]
  },
  {
   "cell_type": "code",
   "execution_count": null,
   "id": "5b95f992",
   "metadata": {
    "ExecuteTime": {
     "end_time": "2021-08-09T05:25:51.494470Z",
     "start_time": "2021-08-09T05:25:50.000181Z"
    }
   },
   "outputs": [],
   "source": [
    "# South flow\n",
    "fig, ax = plt.subplots(figsize = (25,20))\n",
    "ax.scatter(dep_df_south['Lon'], dep_df_south['Lat'], alpha= 0.6, c='b', s=30, marker = 'o', label = 'Departure')\n",
    "ax.scatter(arr_df_south['Lon'], arr_df_south['Lat'], alpha= 0.6, c='r', s=30, marker = 'x', label = 'Arrival')\n",
    "ax.set_xlim(BBox[0],BBox[1])\n",
    "ax.set_ylim(BBox[2],BBox[3])\n",
    "ax.legend(fontsize=20)\n",
    "ax.imshow(base_map, zorder = 0, extent = BBox, aspect= 'equal')\n",
    "\n",
    "plt.savefig(save_dir + 'southflow.png', bbox_inches='tight', pad_inches=1)"
   ]
  },
  {
   "cell_type": "code",
   "execution_count": null,
   "id": "145243bf",
   "metadata": {
    "ExecuteTime": {
     "end_time": "2021-08-10T08:34:04.801438Z",
     "start_time": "2021-08-10T08:34:02.393442Z"
    }
   },
   "outputs": [],
   "source": [
    "plt.figure(figsize=(15, 15))\n",
    "\n",
    "# northflow\n",
    "plt.subplot(2,1,1)\n",
    "sns.histplot(data = arr_df_north, x=\"DIST\", kde=True, hue=\"RWY\", multiple='layer', bins = 50)\n",
    "plt.annotate(round(np.mean(arr_df_north['DIST'])), \n",
    "             xy = (np.mean(arr_df_north['DIST']), 10),\n",
    "             xytext = (np.mean(arr_df_north['DIST']), 0))\n",
    "\n",
    "plt.subplot(2,1,1)\n",
    "sns.histplot(data = dep_df_north, x=\"DIST\", kde=True, hue=\"RWY\", multiple='layer', bins = 50)\n",
    "plt.annotate(round(np.mean(dep_df_north['DIST'])), \n",
    "             xy = (np.mean(dep_df_north['DIST']), 10),\n",
    "             xytext = (np.mean(dep_df_north['DIST']), 0))\n",
    "plt.legend(labels = [ '33L', '33R', '34', '33L', '33R', '34'])\n",
    "plt.axvline(np.mean(arr_df_north['DIST']), color='crimson', linestyle = '--', linewidth = 2, label = 'mean')\n",
    "plt.axvline(np.mean(dep_df_north['DIST']), color='crimson', linestyle = '--', linewidth = 2, label = 'mean')\n",
    "plt.title('North')\n",
    "\n",
    "\n",
    "# southflow\n",
    "plt.subplot(2,1,2)\n",
    "sns.histplot(data = arr_df_south, x=\"DIST\", kde=True, hue=\"RWY\", multiple='layer', bins = 50)\n",
    "plt.annotate(round(np.mean(arr_df_south['DIST'])), \n",
    "             xy = (np.mean(arr_df_south['DIST']), 10),\n",
    "             xytext = (np.mean(arr_df_south['DIST']), 0))\n",
    "\n",
    "plt.subplot(2,1,2)\n",
    "sns.histplot(data = dep_df_south, x=\"DIST\", kde=True, hue=\"RWY\", multiple='layer', bins = 50)\n",
    "plt.annotate(round(np.mean(dep_df_south['DIST'])), \n",
    "             xy = (np.mean(dep_df_south['DIST']), 10),\n",
    "             xytext = (np.mean(dep_df_south['DIST']), 0))\n",
    "plt.legend(labels = ['15R', '15L', '16', '15R', '15L', '16'])\n",
    "plt.axvline(np.mean(arr_df_south['DIST']), color='crimson', linestyle = '--', linewidth = 2, label = 'mean')\n",
    "plt.axvline(np.mean(dep_df_south['DIST']), color='crimson', linestyle = '--', linewidth = 2, label = 'mean')\n",
    "plt.title('South')\n",
    "\n",
    "plt.savefig(save_dir + 'entire_dist.png', bbox_inches='tight', pad_inches=1)"
   ]
  },
  {
   "cell_type": "markdown",
   "id": "bddf3645",
   "metadata": {},
   "source": [
    "***\n",
    "***\n",
    "***\n",
    "\n",
    "## Aircraft Weight Class"
   ]
  },
  {
   "cell_type": "markdown",
   "id": "41ce3d63",
   "metadata": {},
   "source": [
    "payload를 알 수 있다면 gross weight으로 적용하고, 더 정확할 듯"
   ]
  },
  {
   "cell_type": "markdown",
   "id": "f1597080",
   "metadata": {},
   "source": [
    "<b>FAA Order JO 7360.1E Aircraft Type Designators</b> <br>\n",
    "RECAT 2.0 Wake Category apdx.B <br>\n",
    "\n",
    "(1) Category A – Upper Heavy Aircraft <br>\n",
    "(2) Category B – Lower Heavy Aircraft <br>\n",
    "(3) Category C – Upper Large Aircraft <br>\n",
    "(4) Category D – Lower Large Aircraft <br>\n",
    "(5) Category E – Small Plus aircraft with a maximum takeoff weight of more than 15,400 pounds up to 41,000 pounds <br>\n",
    "(6) Category F – Small aircraft with a maximum takeoff weight of 15,400 pounds or less <br>\n",
    "(7) Category G – Heavy aircraft not included in Category A or B <br>"
   ]
  },
  {
   "cell_type": "code",
   "execution_count": 15,
   "id": "4077a0d9",
   "metadata": {
    "ExecuteTime": {
     "end_time": "2021-08-12T07:59:52.628198Z",
     "start_time": "2021-08-12T07:59:52.611172Z"
    }
   },
   "outputs": [],
   "source": [
    "# dep_df_south['AC'].value_counts()\n",
    "\n",
    "mapping = {'B738':'C', 'A321':'C', 'A333':'A', 'A320':'C', 'B772':'A', 'B77W':'A', 'B744':'A',\n",
    "           'B748':'A', 'A359':'A', 'B739':'C', 'A332':'A', 'B789':'A', 'A21N':'C', 'B763':'B',\n",
    "           'B773':'A', 'B77L':'A', 'B737':'C', 'B788':'A', 'A20N':'C', 'A319':'C', 'B787':'A',\n",
    "           'A339':'G', 'B767':'B', 'MD11':'B', 'B78X':'G', 'A306':'C', 'B747':'A', 'A330':'A', \n",
    "           'B752':'C', 'B777':'A', 'A124':'G', 'A388':'NOWGT', 'A380':'NOWGT'}"
   ]
  },
  {
   "cell_type": "code",
   "execution_count": 16,
   "id": "9cf25c24",
   "metadata": {
    "ExecuteTime": {
     "end_time": "2021-08-12T07:59:53.101876Z",
     "start_time": "2021-08-12T07:59:53.091207Z"
    }
   },
   "outputs": [],
   "source": [
    "AC_cat = ['NOWGT', 'A', 'B', 'G', 'C']"
   ]
  },
  {
   "cell_type": "code",
   "execution_count": 17,
   "id": "af281827",
   "metadata": {
    "ExecuteTime": {
     "end_time": "2021-08-12T07:59:53.529752Z",
     "start_time": "2021-08-12T07:59:53.515646Z"
    }
   },
   "outputs": [],
   "source": [
    "# 기종에서 무게 구분으로 바꾸기\n",
    "dep_df_north.loc[:,'AC'] = dep_df_north['AC'].map(mapping)\n",
    "dep_df_south.loc[:,'AC'] = dep_df_south['AC'].map(mapping)\n",
    "arr_df_north.loc[:,'AC'] = arr_df_north['AC'].map(mapping)\n",
    "arr_df_south.loc[:,'AC'] = arr_df_south['AC'].map(mapping)\n",
    "arr_df.loc[:,'AC'] = arr_df['AC'].map(mapping)\n",
    "dep_df.loc[:,'AC'] = dep_df['AC'].map(mapping)"
   ]
  },
  {
   "cell_type": "markdown",
   "id": "1405cda1",
   "metadata": {},
   "source": [
    "### Distribution fitting"
   ]
  },
  {
   "cell_type": "code",
   "execution_count": 117,
   "id": "3c8cb743",
   "metadata": {
    "ExecuteTime": {
     "end_time": "2021-08-13T07:32:30.485871Z",
     "start_time": "2021-08-13T07:32:29.828729Z"
    }
   },
   "outputs": [
    {
     "data": {
      "text/plain": [
       "<seaborn.axisgrid.FacetGrid at 0x212462d4190>"
      ]
     },
     "execution_count": 117,
     "metadata": {},
     "output_type": "execute_result"
    },
    {
     "data": {
      "image/png": "[encoded data removed]",
      "text/plain": [
       "<Figure size 540x360 with 1 Axes>"
      ]
     },
     "metadata": {},
     "output_type": "display_data"
    },
    {
     "data": {
      "image/png": "[encoded data removed]",
      "text/plain": [
       "<Figure size 540x360 with 1 Axes>"
      ]
     },
     "metadata": {},
     "output_type": "display_data"
    }
   ],
   "source": [
    "sns.displot(data = arr_df, x = \"DIST\", kde = True, color = 'r', kind=\"hist\", bins = 100, aspect = 1.5)\n",
    "sns.displot(data = dep_df, x = \"DIST\", kde = True, color = 'b', kind=\"hist\", bins = 100, aspect = 1.5)"
   ]
  },
  {
   "cell_type": "code",
   "execution_count": null,
   "id": "b22f60b3",
   "metadata": {
    "ExecuteTime": {
     "end_time": "2021-08-12T07:58:51.455276Z",
     "start_time": "2021-08-12T07:58:51.440250Z"
    }
   },
   "outputs": [],
   "source": [
    "f.get_best(method = 'sumsquare_error')"
   ]
  },
  {
   "cell_type": "code",
   "execution_count": null,
   "id": "c20f849b",
   "metadata": {},
   "outputs": [],
   "source": [
    "f.fitted_param[\"norm\"]"
   ]
  },
  {
   "cell_type": "code",
   "execution_count": null,
   "id": "2b7595f7",
   "metadata": {},
   "outputs": [],
   "source": []
  },
  {
   "cell_type": "code",
   "execution_count": null,
   "id": "c232a03e",
   "metadata": {},
   "outputs": [],
   "source": []
  },
  {
   "cell_type": "code",
   "execution_count": null,
   "id": "7cacbea2",
   "metadata": {},
   "outputs": [],
   "source": []
  },
  {
   "cell_type": "code",
   "execution_count": 114,
   "id": "f37ef6fa",
   "metadata": {
    "ExecuteTime": {
     "end_time": "2021-08-13T07:30:58.460987Z",
     "start_time": "2021-08-13T07:30:54.066267Z"
    },
    "collapsed": true
   },
   "outputs": [
    {
     "data": {
      "text/html": [
       "\n",
       "            <div style=\"float: left; border: 1px solid black; width:500px\">\n",
       "              <div id=\"354dac59-b6f1-47e8-b7f1-2a0d4d89e0c7\" style=\"background-color:blue; width:0%\">&nbsp;</div>\n",
       "            </div>\n",
       "            <label id=\"06f3389b-553f-45d9-a112-1a3b12696c42\" style=\"padding-left: 10px;\" text = \"\"/>\n",
       "            "
      ],
      "text/plain": [
       "<IPython.core.display.HTML object>"
      ]
     },
     "metadata": {},
     "output_type": "display_data"
    },
    {
     "name": "stdout",
     "output_type": "stream",
     "text": [
      "Arrival Total Distribution\n",
      "          sumsquare_error           aic           bic  kl_div\n",
      "rayleigh         0.000003  31943.398749 -83613.455283     inf\n",
      "cauchy           0.000005   2439.030256 -81414.765704     inf\n",
      "norm             0.000007  43594.996269 -79896.576577     inf\n",
      "expon            0.000016   4219.192645 -76539.738827     inf\n",
      "exponpow         0.000018  12103.985233 -76102.218784     inf\n"
     ]
    },
    {
     "data": {
      "text/html": [
       "\n",
       "            <div style=\"float: left; border: 1px solid black; width:500px\">\n",
       "              <div id=\"91c3e18d-dd56-4cbe-9cbe-2a1d01983d0d\" style=\"background-color:blue; width:0%\">&nbsp;</div>\n",
       "            </div>\n",
       "            <label id=\"4c0d7f59-dc72-4007-967d-9a21134206f3\" style=\"padding-left: 10px;\" text = \"\"/>\n",
       "            "
      ],
      "text/plain": [
       "<IPython.core.display.HTML object>"
      ]
     },
     "metadata": {},
     "output_type": "display_data"
    },
    {
     "name": "stdout",
     "output_type": "stream",
     "text": [
      "A\n",
      "          sumsquare_error          aic         bic  kl_div\n",
      "powerlaw         0.005852  1159.569850 -109.611619     inf\n",
      "exponpow         0.005912  1189.099821 -109.457543     inf\n",
      "expon            0.005975  1222.140589 -112.006269     inf\n",
      "rayleigh         0.006174  1202.714096 -111.514978     inf\n",
      "cauchy           0.006177  1294.109475 -111.507573     inf\n"
     ]
    },
    {
     "data": {
      "image/png": "[encoded data removed]",
      "text/plain": [
       "<Figure size 432x288 with 1 Axes>"
      ]
     },
     "metadata": {},
     "output_type": "display_data"
    },
    {
     "data": {
      "text/html": [
       "\n",
       "            <div style=\"float: left; border: 1px solid black; width:500px\">\n",
       "              <div id=\"05cdd196-e888-4fcb-b941-6e465eedd909\" style=\"background-color:blue; width:0%\">&nbsp;</div>\n",
       "            </div>\n",
       "            <label id=\"b839ff75-0edc-4ba8-a525-69b33b8a3609\" style=\"padding-left: 10px;\" text = \"\"/>\n",
       "            "
      ],
      "text/plain": [
       "<IPython.core.display.HTML object>"
      ]
     },
     "metadata": {},
     "output_type": "display_data"
    },
    {
     "name": "stdout",
     "output_type": "stream",
     "text": [
      "C\n",
      "          sumsquare_error          aic         bic  kl_div\n",
      "powerlaw         0.005852  1159.569850 -109.611619     inf\n",
      "exponpow         0.005912  1189.099821 -109.457543     inf\n",
      "expon            0.005975  1222.140589 -112.006269     inf\n",
      "rayleigh         0.006174  1202.714096 -111.514978     inf\n",
      "cauchy           0.006177  1294.109475 -111.507573     inf\n"
     ]
    },
    {
     "data": {
      "image/png": "[encoded data removed]",
      "text/plain": [
       "<Figure size 432x288 with 1 Axes>"
      ]
     },
     "metadata": {},
     "output_type": "display_data"
    },
    {
     "data": {
      "text/html": [
       "\n",
       "            <div style=\"float: left; border: 1px solid black; width:500px\">\n",
       "              <div id=\"0d7bff45-4792-4add-af25-75f40ca77aef\" style=\"background-color:blue; width:0%\">&nbsp;</div>\n",
       "            </div>\n",
       "            <label id=\"ee922ad2-882a-444e-a2c0-304c77365360\" style=\"padding-left: 10px;\" text = \"\"/>\n",
       "            "
      ],
      "text/plain": [
       "<IPython.core.display.HTML object>"
      ]
     },
     "metadata": {},
     "output_type": "display_data"
    },
    {
     "name": "stdout",
     "output_type": "stream",
     "text": [
      "B\n",
      "          sumsquare_error          aic         bic  kl_div\n",
      "powerlaw         0.005852  1159.569850 -109.611619     inf\n",
      "exponpow         0.005912  1189.099821 -109.457543     inf\n",
      "expon            0.005975  1222.140589 -112.006269     inf\n",
      "rayleigh         0.006174  1202.714096 -111.514978     inf\n",
      "cauchy           0.006177  1294.109475 -111.507573     inf\n"
     ]
    },
    {
     "data": {
      "image/png": "[encoded data removed]",
      "text/plain": [
       "<Figure size 432x288 with 1 Axes>"
      ]
     },
     "metadata": {},
     "output_type": "display_data"
    },
    {
     "data": {
      "text/html": [
       "\n",
       "            <div style=\"float: left; border: 1px solid black; width:500px\">\n",
       "              <div id=\"115c7ad4-e1b4-41ef-a376-921047c489ed\" style=\"background-color:blue; width:0%\">&nbsp;</div>\n",
       "            </div>\n",
       "            <label id=\"160981b7-b7dd-4793-998c-c6296d11e4a5\" style=\"padding-left: 10px;\" text = \"\"/>\n",
       "            "
      ],
      "text/plain": [
       "<IPython.core.display.HTML object>"
      ]
     },
     "metadata": {},
     "output_type": "display_data"
    },
    {
     "name": "stdout",
     "output_type": "stream",
     "text": [
      "NOWGT\n",
      "          sumsquare_error          aic         bic  kl_div\n",
      "powerlaw         0.005852  1159.569850 -109.611619     inf\n",
      "exponpow         0.005912  1189.099821 -109.457543     inf\n",
      "expon            0.005975  1222.140589 -112.006269     inf\n",
      "rayleigh         0.006174  1202.714096 -111.514978     inf\n",
      "cauchy           0.006177  1294.109475 -111.507573     inf\n"
     ]
    },
    {
     "data": {
      "image/png": "[encoded data removed]",
      "text/plain": [
       "<Figure size 432x288 with 1 Axes>"
      ]
     },
     "metadata": {},
     "output_type": "display_data"
    },
    {
     "data": {
      "text/html": [
       "\n",
       "            <div style=\"float: left; border: 1px solid black; width:500px\">\n",
       "              <div id=\"9ffa8198-1644-4e37-8744-102d6e6b319d\" style=\"background-color:blue; width:0%\">&nbsp;</div>\n",
       "            </div>\n",
       "            <label id=\"191e3641-3243-4353-b59c-f178dd4623ed\" style=\"padding-left: 10px;\" text = \"\"/>\n",
       "            "
      ],
      "text/plain": [
       "<IPython.core.display.HTML object>"
      ]
     },
     "metadata": {},
     "output_type": "display_data"
    },
    {
     "name": "stdout",
     "output_type": "stream",
     "text": [
      "G\n",
      "          sumsquare_error          aic         bic  kl_div\n",
      "powerlaw         0.005852  1159.569850 -109.611619     inf\n",
      "exponpow         0.005912  1189.099821 -109.457543     inf\n",
      "expon            0.005975  1222.140589 -112.006269     inf\n",
      "rayleigh         0.006174  1202.714096 -111.514978     inf\n",
      "cauchy           0.006177  1294.109475 -111.507573     inf\n"
     ]
    },
    {
     "data": {
      "image/png": "[encoded data removed]",
      "text/plain": [
       "<Figure size 432x288 with 1 Axes>"
      ]
     },
     "metadata": {},
     "output_type": "display_data"
    }
   ],
   "source": [
    "# Arrival\n",
    "\n",
    "dist = arr_df['DIST'].values\n",
    "f_arrival_total = Fitter(dist, distributions = get_common_distributions(), timeout = 100)\n",
    "f_arrival_total.fit()\n",
    "print('Arrival Total Distribution')\n",
    "print(f_total.summary())\n",
    "\n",
    "weight_class = arr_df['AC'].unique()[:-1]\n",
    "\n",
    "arrival_distribution = {}\n",
    "\n",
    "for clss in weight_class:    \n",
    "    temp_df = arr_df[arr_df['AC'] == f'{clss}']\n",
    "    dist = temp_df['DIST'].values\n",
    "    arrival_distribution[clss] = Fitter(dist, distributions = get_common_distributions(), timeout = 100)\n",
    "    arrival_distribution[clss].fit()\n",
    "    print(clss)\n",
    "    print(f.summary())\n",
    "    plt.show()"
   ]
  },
  {
   "cell_type": "code",
   "execution_count": 116,
   "id": "fe27aa65",
   "metadata": {
    "ExecuteTime": {
     "end_time": "2021-08-13T07:32:16.130249Z",
     "start_time": "2021-08-13T07:32:12.364048Z"
    },
    "collapsed": true
   },
   "outputs": [
    {
     "data": {
      "text/html": [
       "\n",
       "            <div style=\"float: left; border: 1px solid black; width:500px\">\n",
       "              <div id=\"03dcdc37-0e6a-40c5-b673-5e5279faa204\" style=\"background-color:blue; width:0%\">&nbsp;</div>\n",
       "            </div>\n",
       "            <label id=\"f39927f0-572f-45ff-b80d-75745879479a\" style=\"padding-left: 10px;\" text = \"\"/>\n",
       "            "
      ],
      "text/plain": [
       "<IPython.core.display.HTML object>"
      ]
     },
     "metadata": {},
     "output_type": "display_data"
    },
    {
     "name": "stdout",
     "output_type": "stream",
     "text": [
      "Arrival Total Distribution\n",
      "          sumsquare_error           aic           bic  kl_div\n",
      "rayleigh         0.000003  31943.398749 -83613.455283     inf\n",
      "cauchy           0.000005   2439.030256 -81414.765704     inf\n",
      "norm             0.000007  43594.996269 -79896.576577     inf\n",
      "expon            0.000016   4219.192645 -76539.738827     inf\n",
      "exponpow         0.000018  12103.985233 -76102.218784     inf\n"
     ]
    },
    {
     "data": {
      "text/html": [
       "\n",
       "            <div style=\"float: left; border: 1px solid black; width:500px\">\n",
       "              <div id=\"695816e7-31d0-40bf-b2c9-d223784b2cd2\" style=\"background-color:blue; width:0%\">&nbsp;</div>\n",
       "            </div>\n",
       "            <label id=\"65f8e6d5-64ee-433e-b1cf-f2151d326ef5\" style=\"padding-left: 10px;\" text = \"\"/>\n",
       "            "
      ],
      "text/plain": [
       "<IPython.core.display.HTML object>"
      ]
     },
     "metadata": {},
     "output_type": "display_data"
    },
    {
     "name": "stdout",
     "output_type": "stream",
     "text": [
      "A\n",
      "          sumsquare_error           aic           bic  kl_div\n",
      "cauchy           0.000006   2455.279362 -30669.489051     inf\n",
      "expon            0.000006   4632.680258 -30522.418908     inf\n",
      "rayleigh         0.000010  21658.922669 -29734.391037     inf\n",
      "exponpow         0.000011   6733.232849 -29602.026175     inf\n",
      "norm             0.000017  24991.126981 -28917.898524     inf\n"
     ]
    },
    {
     "data": {
      "text/html": [
       "\n",
       "            <div style=\"float: left; border: 1px solid black; width:500px\">\n",
       "              <div id=\"d4fcce39-f499-44f3-bb45-71ed5a9f7314\" style=\"background-color:blue; width:0%\">&nbsp;</div>\n",
       "            </div>\n",
       "            <label id=\"54b43a89-eb8a-4d88-9df3-dd177058e65b\" style=\"padding-left: 10px;\" text = \"\"/>\n",
       "            "
      ],
      "text/plain": [
       "<IPython.core.display.HTML object>"
      ]
     },
     "metadata": {},
     "output_type": "display_data"
    },
    {
     "name": "stdout",
     "output_type": "stream",
     "text": [
      "C\n",
      "          sumsquare_error          aic           bic  kl_div\n",
      "gamma            0.000012  1852.662733 -41265.391736     inf\n",
      "norm             0.000021  2397.349707 -40117.166658     inf\n",
      "rayleigh         0.000022  1925.823499 -39938.954304     inf\n",
      "cauchy           0.000042  1602.134601 -38576.139338     inf\n",
      "expon            0.000220  1494.352841 -34977.664664     inf\n"
     ]
    },
    {
     "data": {
      "text/html": [
       "\n",
       "            <div style=\"float: left; border: 1px solid black; width:500px\">\n",
       "              <div id=\"aa7cdb24-2c99-4126-a309-e48148415aca\" style=\"background-color:blue; width:0%\">&nbsp;</div>\n",
       "            </div>\n",
       "            <label id=\"87b1cca7-858d-4cc7-adaa-f661cb077fbd\" style=\"padding-left: 10px;\" text = \"\"/>\n",
       "            "
      ],
      "text/plain": [
       "<IPython.core.display.HTML object>"
      ]
     },
     "metadata": {},
     "output_type": "display_data"
    },
    {
     "name": "stdout",
     "output_type": "stream",
     "text": [
      "B\n",
      "          sumsquare_error          aic         bic  kl_div\n",
      "gamma            0.000185  1531.532550 -983.366578     inf\n",
      "rayleigh         0.000191  1574.812458 -985.239115     inf\n",
      "norm             0.000201  1624.393377 -981.166868     inf\n",
      "cauchy           0.000201  1583.992397 -981.104355     inf\n",
      "expon            0.000223  1495.220366 -973.251962     inf\n"
     ]
    },
    {
     "data": {
      "text/html": [
       "\n",
       "            <div style=\"float: left; border: 1px solid black; width:500px\">\n",
       "              <div id=\"dac46812-84f1-43f1-82a5-754287ccdccb\" style=\"background-color:blue; width:0%\">&nbsp;</div>\n",
       "            </div>\n",
       "            <label id=\"53a28364-dfd0-4ae5-a6c7-a919433b1424\" style=\"padding-left: 10px;\" text = \"\"/>\n",
       "            "
      ],
      "text/plain": [
       "<IPython.core.display.HTML object>"
      ]
     },
     "metadata": {},
     "output_type": "display_data"
    },
    {
     "name": "stdout",
     "output_type": "stream",
     "text": [
      "NOWGT\n",
      "          sumsquare_error          aic          bic  kl_div\n",
      "chi2             0.000620  1302.171861 -1081.988425     inf\n",
      "gamma            0.000620  1302.171873 -1081.988425     inf\n",
      "cauchy           0.000621  1362.512849 -1086.378279     inf\n",
      "rayleigh         0.000653  1289.085875 -1081.720499     inf\n",
      "norm             0.000680  1325.567660 -1077.956558     inf\n"
     ]
    },
    {
     "data": {
      "text/html": [
       "\n",
       "            <div style=\"float: left; border: 1px solid black; width:500px\">\n",
       "              <div id=\"de87a34c-529c-4e18-bd8f-cd454b6bea14\" style=\"background-color:blue; width:0%\">&nbsp;</div>\n",
       "            </div>\n",
       "            <label id=\"3b2604f8-6cc0-4e65-9867-00a2c0337fff\" style=\"padding-left: 10px;\" text = \"\"/>\n",
       "            "
      ],
      "text/plain": [
       "<IPython.core.display.HTML object>"
      ]
     },
     "metadata": {},
     "output_type": "display_data"
    },
    {
     "name": "stdout",
     "output_type": "stream",
     "text": [
      "G\n",
      "          sumsquare_error          aic         bic  kl_div\n",
      "powerlaw         0.005852  1159.569850 -109.611619     inf\n",
      "exponpow         0.005912  1189.099821 -109.457543     inf\n",
      "expon            0.005975  1222.140589 -112.006269     inf\n",
      "rayleigh         0.006174  1202.714096 -111.514978     inf\n",
      "cauchy           0.006177  1294.109475 -111.507573     inf\n"
     ]
    },
    {
     "data": {
      "image/png": "[encoded data removed]",
      "text/plain": [
       "<Figure size 432x288 with 1 Axes>"
      ]
     },
     "metadata": {},
     "output_type": "display_data"
    }
   ],
   "source": [
    "\"\"\"# Arrival\n",
    "\n",
    "dist = arr_df['DIST'].values\n",
    "f_total = Fitter(dist, distributions = get_common_distributions(), timeout = 100)\n",
    "f_total.fit()\n",
    "print('Arrival Total Distribution')\n",
    "print(f_total.summary())\n",
    "\n",
    "weight_class = arr_df['AC'].unique()[:-1]\n",
    "\n",
    "for clss in weight_class:\n",
    "    temp_df = arr_df[arr_df['AC'] == f'{clss}']\n",
    "    dist = temp_df['DIST'].values\n",
    "    f = Fitter(dist, distributions = get_common_distributions(), timeout = 100)\n",
    "    f.fit()\n",
    "    print(clss)\n",
    "    print(f.summary())\"\"\""
   ]
  },
  {
   "cell_type": "code",
   "execution_count": 73,
   "id": "d5067eb5",
   "metadata": {
    "ExecuteTime": {
     "end_time": "2021-08-12T12:47:12.884209Z",
     "start_time": "2021-08-12T12:35:59.958287Z"
    },
    "collapsed": true
   },
   "outputs": [
    {
     "data": {
      "text/html": [
       "\n",
       "            <div style=\"float: left; border: 1px solid black; width:500px\">\n",
       "              <div id=\"8649bc52-7db4-4538-a5b2-fbf9f8d672da\" style=\"background-color:blue; width:0%\">&nbsp;</div>\n",
       "            </div>\n",
       "            <label id=\"0f17a394-7d17-426c-b0e3-03a641ae522a\" style=\"padding-left: 10px;\" text = \"\"/>\n",
       "            "
      ],
      "text/plain": [
       "<IPython.core.display.HTML object>"
      ]
     },
     "metadata": {},
     "output_type": "display_data"
    },
    {
     "name": "stdout",
     "output_type": "stream",
     "text": [
      "Departure Total Distribution\n",
      "          sumsquare_error          aic           bic  kl_div\n",
      "lognorm      8.569776e-07  1747.426618 -88100.407343     inf\n",
      "gamma        8.842735e-07  1748.186071 -87976.242926     inf\n",
      "norm         1.415326e-06  1728.892975 -86121.946810     inf\n",
      "cauchy       2.305677e-06  1705.485125 -84189.408642     inf\n",
      "powerlaw     1.640334e-05  1570.201362 -76411.167398     inf\n"
     ]
    },
    {
     "data": {
      "text/html": [
       "\n",
       "            <div style=\"float: left; border: 1px solid black; width:500px\">\n",
       "              <div id=\"cc17ba96-f45a-4174-b32a-46461fe25ee9\" style=\"background-color:blue; width:0%\">&nbsp;</div>\n",
       "            </div>\n",
       "            <label id=\"57ca4b60-6a4d-497f-8729-f552c2c3ce46\" style=\"padding-left: 10px;\" text = \"\"/>\n",
       "            "
      ],
      "text/plain": [
       "<IPython.core.display.HTML object>"
      ]
     },
     "metadata": {},
     "output_type": "display_data"
    },
    {
     "name": "stdout",
     "output_type": "stream",
     "text": [
      "A\n",
      "          sumsquare_error          aic           bic  kl_div\n",
      "gamma            0.000001  1661.393374 -32662.900234     inf\n",
      "lognorm          0.000001  1661.153182 -32660.507064     inf\n",
      "norm             0.000001  1658.382488 -32658.739227     inf\n",
      "chi2             0.000001  1664.953115 -32614.323008     inf\n",
      "rayleigh         0.000003          inf -31447.765136     inf\n"
     ]
    },
    {
     "data": {
      "text/html": [
       "\n",
       "            <div style=\"float: left; border: 1px solid black; width:500px\">\n",
       "              <div id=\"a5f45ea6-4198-4bea-a949-1244c1b98e0f\" style=\"background-color:blue; width:0%\">&nbsp;</div>\n",
       "            </div>\n",
       "            <label id=\"0a0f30c4-7505-4edf-b90d-0d3a594c438d\" style=\"padding-left: 10px;\" text = \"\"/>\n",
       "            "
      ],
      "text/plain": [
       "<IPython.core.display.HTML object>"
      ]
     },
     "metadata": {},
     "output_type": "display_data"
    },
    {
     "name": "stdout",
     "output_type": "stream",
     "text": [
      "C\n",
      "         sumsquare_error          aic           bic  kl_div\n",
      "lognorm         0.000001  1769.403991 -45863.140863     inf\n",
      "gamma           0.000001  1761.378775 -45820.197554     inf\n",
      "norm            0.000002  1756.661492 -45797.671037     inf\n",
      "cauchy          0.000004  1677.291052 -43486.598339     inf\n",
      "uniform         0.000029  1524.396751 -39371.405300     inf\n"
     ]
    },
    {
     "data": {
      "text/html": [
       "\n",
       "            <div style=\"float: left; border: 1px solid black; width:500px\">\n",
       "              <div id=\"6e4a7eb9-d3d8-47f4-a3b0-5d670eb51c71\" style=\"background-color:blue; width:0%\">&nbsp;</div>\n",
       "            </div>\n",
       "            <label id=\"053a58cb-ac08-45de-b5f8-4837bc49d280\" style=\"padding-left: 10px;\" text = \"\"/>\n",
       "            "
      ],
      "text/plain": [
       "<IPython.core.display.HTML object>"
      ]
     },
     "metadata": {},
     "output_type": "display_data"
    },
    {
     "name": "stdout",
     "output_type": "stream",
     "text": [
      "NOWGT\n",
      "          sumsquare_error          aic          bic  kl_div\n",
      "norm             0.000042  1528.751566 -1286.556716     inf\n",
      "gamma            0.000043  1530.607687 -1281.479505     inf\n",
      "chi2             0.000043  1530.251777 -1280.859564     inf\n",
      "rayleigh         0.000045          inf -1280.732121     inf\n",
      "cauchy           0.000048  1577.594722 -1276.090012     inf\n"
     ]
    },
    {
     "data": {
      "text/html": [
       "\n",
       "            <div style=\"float: left; border: 1px solid black; width:500px\">\n",
       "              <div id=\"5cf0ec19-f6b3-497c-9ff0-87a06e7017cd\" style=\"background-color:blue; width:0%\">&nbsp;</div>\n",
       "            </div>\n",
       "            <label id=\"45d18eaf-1a8d-458d-9d6e-59163e16a03c\" style=\"padding-left: 10px;\" text = \"\"/>\n",
       "            "
      ],
      "text/plain": [
       "<IPython.core.display.HTML object>"
      ]
     },
     "metadata": {},
     "output_type": "display_data"
    },
    {
     "name": "stdout",
     "output_type": "stream",
     "text": [
      "B\n",
      "          sumsquare_error          aic          bic  kl_div\n",
      "chi2             0.000078  1556.175894 -1035.084867     inf\n",
      "gamma            0.000078  1556.175894 -1035.084867     inf\n",
      "cauchy           0.000078  1602.127196 -1038.857671     inf\n",
      "norm             0.000081  1581.818606 -1036.471221     inf\n",
      "rayleigh         0.000087          inf -1030.648335     inf\n"
     ]
    },
    {
     "data": {
      "text/html": [
       "\n",
       "            <div style=\"float: left; border: 1px solid black; width:500px\">\n",
       "              <div id=\"f41ee70d-7e03-4bbc-bb52-c2c3688e121b\" style=\"background-color:blue; width:0%\">&nbsp;</div>\n",
       "            </div>\n",
       "            <label id=\"2f5d7258-6a09-4cf7-92dc-972b4c59d31d\" style=\"padding-left: 10px;\" text = \"\"/>\n",
       "            "
      ],
      "text/plain": [
       "<IPython.core.display.HTML object>"
      ]
     },
     "metadata": {},
     "output_type": "display_data"
    },
    {
     "name": "stdout",
     "output_type": "stream",
     "text": [
      "G\n",
      "          sumsquare_error          aic         bic  kl_div\n",
      "chi2             0.000273  1499.570830 -155.564443     inf\n",
      "gamma            0.000273  1499.379299 -155.563920     inf\n",
      "norm             0.000273  1497.240193 -158.269471     inf\n",
      "cauchy           0.000276  1558.023877 -158.117909     inf\n",
      "rayleigh         0.000278  1487.812276 -158.035107     inf\n"
     ]
    },
    {
     "data": {
      "image/png": "[encoded data removed]",
      "text/plain": [
       "<Figure size 432x288 with 1 Axes>"
      ]
     },
     "metadata": {},
     "output_type": "display_data"
    }
   ],
   "source": [
    "# Departure\n",
    "\n",
    "dist = dep_df['DIST'].values\n",
    "f = Fitter(dist, distributions = get_common_distributions(), timeout = 100)\n",
    "f.fit()\n",
    "print('Departure Total Distribution')\n",
    "print(f.summary())\n",
    "\n",
    "weight_class = np.delete(dep_df['AC'].unique(), 3)    # remove nan\n",
    "\n",
    "for clss in weight_class:\n",
    "    temp_df = dep_df[dep_df['AC'] == f'{clss}']\n",
    "    dist = temp_df['DIST'].values\n",
    "    f = Fitter(dist, distributions = get_common_distributions(), timeout = 100)\n",
    "    f.fit()\n",
    "    print(clss)\n",
    "    print(f.summary())"
   ]
  },
  {
   "cell_type": "code",
   "execution_count": 75,
   "id": "e9705167",
   "metadata": {
    "ExecuteTime": {
     "end_time": "2021-08-13T07:17:08.047360Z",
     "start_time": "2021-08-13T07:17:07.490003Z"
    }
   },
   "outputs": [
    {
     "name": "stdout",
     "output_type": "stream",
     "text": [
      "          sumsquare_error          aic         bic  kl_div\n",
      "powerlaw         0.005852  1159.569850 -109.611619     inf\n",
      "exponpow         0.005912  1189.099821 -109.457543     inf\n",
      "expon            0.005975  1222.140589 -112.006269     inf\n",
      "rayleigh         0.006174  1202.714096 -111.514978     inf\n",
      "cauchy           0.006177  1294.109475 -111.507573     inf\n"
     ]
    },
    {
     "data": {
      "image/png": "[encoded data removed]",
      "text/plain": [
       "<Figure size 432x288 with 1 Axes>"
      ]
     },
     "metadata": {},
     "output_type": "display_data"
    }
   ],
   "source": [
    "print(f.summary())"
   ]
  },
  {
   "cell_type": "code",
   "execution_count": null,
   "id": "8b5e89ea",
   "metadata": {},
   "outputs": [],
   "source": []
  },
  {
   "cell_type": "code",
   "execution_count": null,
   "id": "270e0148",
   "metadata": {},
   "outputs": [],
   "source": []
  },
  {
   "cell_type": "code",
   "execution_count": null,
   "id": "fc71e590",
   "metadata": {},
   "outputs": [],
   "source": []
  },
  {
   "cell_type": "code",
   "execution_count": null,
   "id": "db93cff2",
   "metadata": {},
   "outputs": [],
   "source": []
  },
  {
   "cell_type": "code",
   "execution_count": null,
   "id": "448888cc",
   "metadata": {},
   "outputs": [],
   "source": []
  },
  {
   "cell_type": "markdown",
   "id": "441453c2",
   "metadata": {},
   "source": [
    "### Wheel On/Off"
   ]
  },
  {
   "cell_type": "code",
   "execution_count": null,
   "id": "43862641",
   "metadata": {
    "ExecuteTime": {
     "end_time": "2021-08-10T08:35:01.615201Z",
     "start_time": "2021-08-10T08:34:54.283372Z"
    }
   },
   "outputs": [],
   "source": [
    "# south\n",
    "\n",
    "fig, axs = plt.subplots(5,5, figsize=(50, 50), squeeze = False)\n",
    "\n",
    "for i, dep_category in enumerate(AC_cat):\n",
    "    temp_dep = dep_df_south[dep_df_south['AC'] == f'{dep_category}']\n",
    "    for j, arr_category in enumerate(AC_cat):\n",
    "        temp_arr = arr_df_south[arr_df_south['AC'] == f'{arr_category}']\n",
    "        sns.histplot(ax = axs[j, 4-i], data = temp_dep, x = \"DIST\", kde = True, color = 'navy')\n",
    "        sns.histplot(ax = axs[j, 4-i], data = temp_arr, x = \"DIST\", kde = True, color = 'r')\n",
    "        axs[j, 4-i].axvline(np.mean(temp_dep['DIST']), color='crimson', linestyle = '--', linewidth = 2)\n",
    "        axs[j, 4-i].axvline(np.mean(temp_arr['DIST']), color='crimson', linestyle = '--', linewidth = 2)\n",
    "        axs[j, 4-i].set_title(f'Dep : {dep_category} - Arr : {arr_category}')\n",
    "fig.suptitle('Southflow Wheel On/Off with A/C Weight Class', fontsize = 80)\n",
    "plt.savefig(save_dir + 'south_Wheel.png', bbox_inches='tight', pad_inches=1)\n",
    "# hue = 'RWY' 넣으면 rwy에 따라서도 볼 수 있음 -> 보기 좋지는 않음"
   ]
  },
  {
   "cell_type": "code",
   "execution_count": null,
   "id": "34deef16",
   "metadata": {
    "ExecuteTime": {
     "end_time": "2021-08-10T08:35:20.001533Z",
     "start_time": "2021-08-10T08:35:09.803007Z"
    }
   },
   "outputs": [],
   "source": [
    "# north\n",
    "\n",
    "fig, axs = plt.subplots(5,5, figsize=(50, 50))\n",
    "\n",
    "for i, dep_category in enumerate(AC_cat):\n",
    "    temp_dep = dep_df_north[dep_df_north['AC'] == f'{dep_category}']\n",
    "    for j, arr_category in enumerate(AC_cat):\n",
    "        temp_arr = arr_df_north[arr_df_north['AC'] == f'{arr_category}']\n",
    "        sns.histplot(ax = axs[j, 4-i], data = temp_dep, x = \"DIST\", kde = True, color = 'navy')\n",
    "        sns.histplot(ax = axs[j, 4-i], data = temp_arr, x = \"DIST\", kde = True, color = 'r')\n",
    "        axs[j, 4-i].axvline(np.mean(temp_dep['DIST']), color='crimson', linestyle = '--', linewidth = 2)\n",
    "        axs[j, 4-i].axvline(np.mean(temp_arr['DIST']), color='crimson', linestyle = '--', linewidth = 2)\n",
    "        axs[j, 4-i].set_title(f'Dep : {dep_category} - Arr : {arr_category}')\n",
    "fig.suptitle('Northflow Wheel On/Off with A/C Weight Class', fontsize = 80)\n",
    "plt.savefig(save_dir + 'north_Wheel.png', bbox_inches='tight', pad_inches=1)\n",
    "\n",
    "# hue = 'RWY' 넣으면 rwy에 따라서도 볼 수 있음 -> 보기 좋지는 않음"
   ]
  },
  {
   "cell_type": "markdown",
   "id": "8fdeac11",
   "metadata": {},
   "source": [
    "### Runway Occupancy Time"
   ]
  },
  {
   "cell_type": "code",
   "execution_count": null,
   "id": "1070a08a",
   "metadata": {
    "ExecuteTime": {
     "end_time": "2021-08-10T08:35:36.018475Z",
     "start_time": "2021-08-10T08:35:35.991864Z"
    }
   },
   "outputs": [],
   "source": [
    "def _freetime_(arr_df, dep_df):\n",
    "\n",
    "    # 33L/15R, 33R/15L에 대한 항공기\n",
    "    rightrwy_arr = arr_df[(arr_df['RWY'] == 1) | (arr_df['RWY'] == 2) | (arr_df['RWY'] == 4) | (arr_df['RWY'] == 5)].loc[:,'ROT1':'ROT2']\n",
    "    rightrwy_dep = dep_df[(dep_df['RWY'] == 1) | (dep_df['RWY'] == 2) | (dep_df['RWY'] == 4) | (dep_df['RWY'] == 5)].loc[:,'ROT1':'ROT2']\n",
    "\n",
    "\n",
    "    # total Runway Occupancy Time\n",
    "    totalROT = rightrwy_arr.append(rightrwy_dep).reset_index(drop = True) # totalROT\n",
    "    totalROT['ROT2'] = totalROT['ROT2'].sort_values(ignore_index = True)\n",
    "    totalROT['ROT1'] = totalROT['ROT1'].sort_values(ignore_index = True)\n",
    "\n",
    "\n",
    "    # Occupied Time\n",
    "    occupiedTime = pd.DataFrame(totalROT.iloc[0,:]).T\n",
    "    occupiedTime.columns = ['ROT1', 'ROT2']\n",
    "    nInterval = 0\n",
    "\n",
    "    for i in range(1,len(totalROT)):\n",
    "        if occupiedTime['ROT2'][nInterval] >= totalROT['ROT1'][i]:\n",
    "            if occupiedTime['ROT2'][nInterval] < totalROT['ROT2'][i]:\n",
    "                occupiedTime['ROT2'][nInterval] = totalROT['ROT2'][i]\n",
    "        else:\n",
    "            occupiedTime = occupiedTime.append(pd.DataFrame(np.zeros((1,2)), columns = ['ROT1', 'ROT2']))\n",
    "            nInterval = nInterval + 1\n",
    "            occupiedTime.iloc[nInterval, :] = totalROT.iloc[i,:]\n",
    "            occupiedTime = occupiedTime.reset_index(drop = True)\n",
    "\n",
    "    occupiedTime['ROT1'] = occupiedTime['ROT1'].apply(datenum_to_datetime)\n",
    "    occupiedTime['ROT2'] = occupiedTime['ROT2'].apply(datenum_to_datetime)\n",
    "\n",
    "\n",
    "    # freetime dataframe init\n",
    "    freeTimeDuration = pd.DataFrame(np.zeros((nInterval, 1)))\n",
    "    freeTimeDay = pd.DataFrame(np.zeros((nInterval, 1)))\n",
    "    freeTimeHour = pd.DataFrame(np.zeros((nInterval, 1)))\n",
    "\n",
    "    for i in range(1,nInterval+1):\n",
    "        freeTimeDuration.iloc[i-1,0] = (occupiedTime['ROT1'][i] - occupiedTime['ROT2'][i-1]).seconds\n",
    "        freeTimeDay.iloc[i-1,0] = occupiedTime['ROT2'][i-1].day\n",
    "        freeTimeHour.iloc[i-1,0] = occupiedTime['ROT2'][i-1].hour\n",
    "\n",
    "    temp_freeTimeTot = pd.DataFrame(np.zeros((24, int(freeTimeDay.max()-freeTimeDay.min()+1))))\n",
    "    temp_freeTimeNum = pd.DataFrame(np.zeros((24, int(freeTimeDay.max()-freeTimeDay.min()+1))))\n",
    "    temp_freeTimeMean = pd.DataFrame(np.zeros((24, int(freeTimeDay.max()-freeTimeDay.min()+1))))\n",
    "    temp_freeTimeStd = pd.DataFrame(np.zeros((24, int(freeTimeDay.max()-freeTimeDay.min()+1))))\n",
    "    temp_freeTimeString = pd.DataFrame(np.zeros((24, int(freeTimeDay.max()-freeTimeDay.min()+1))))\n",
    "\n",
    "    # freetime dataframe\n",
    "    freeTimeNext = 0\n",
    "    for j in range(int(freeTimeDay.min()), int(freeTimeDay.max())+1):\n",
    "        for i in range(1,25):\n",
    "            temp_freeTimeString.iloc[i-1, int(j-freeTimeDay.min()[0])] = i-1\n",
    "            ind = freeTimeDay[(freeTimeDay[0] == j)&(freeTimeHour[0] == i-1)].index\n",
    "            temp_freeTimeNum.iloc[i-1, int(j-freeTimeDay.min()[0])] = len(ind)\n",
    "\n",
    "            if len(ind) == 0:\n",
    "                freeTimeNext = 0\n",
    "                continue\n",
    "            if freeTimeNext != 0:\n",
    "                ft = pd.concat([pd.DataFrame([freeTimeNext]), freeTimeDuration.loc[ind]])\n",
    "                freeTimeNext = 0\n",
    "            else:\n",
    "                ft = freeTimeDuration.loc[ind]\n",
    "\n",
    "            if occupiedTime.iloc[ind[-1]+1, 0].hour != i-1:\n",
    "                year = occupiedTime.iloc[ind[-1], 1].year\n",
    "                month = occupiedTime.iloc[ind[-1], 1].month\n",
    "                day = occupiedTime.iloc[ind[-1], 1].day\n",
    "                if i == 24:\n",
    "                    day = day + 1\n",
    "                    i = 0\n",
    "                    freeTimeNext = (ft.iloc[-1,0] - (datetime(year, month, day, i,0) - occupiedTime.iloc[ind[-1],1]).seconds)\n",
    "                    ft.iloc[-1,0] = ft.iloc[-1,0] - freeTimeNext\n",
    "                else:\n",
    "                    freeTimeNext = (ft.iloc[-1,0] - (datetime(year, month, day, i,0) - occupiedTime.iloc[ind[-1],1]).seconds)\n",
    "                    ft.iloc[-1,0] = ft.iloc[-1,0] - freeTimeNext\n",
    "\n",
    "            temp_freeTimeTot.iloc[i-1, int(j-freeTimeDay.min()[0])] = sum(ft[0]/60)\n",
    "            temp_freeTimeMean.iloc[i-1, int(j-freeTimeDay.min()[0])] = np.mean(ft[0]/60)\n",
    "            temp_freeTimeStd.iloc[i-1, int(j-freeTimeDay.min()[0])] = np.std(ft[0]/60)\n",
    "            temp_freetime_df = pd.concat([temp_freeTimeString, temp_freeTimeTot, temp_freeTimeNum, temp_freeTimeMean, temp_freeTimeStd], axis = 1)\n",
    "            temp_freetime_df.columns = list(range(35))\n",
    "\n",
    "    # concat dataframe\n",
    "    temp_freetime = pd.DataFrame()\n",
    "    for j in range(0,35,7):\n",
    "        temp = pd.concat([temp_freetime_df[i] for i in temp_freetime_df.columns[j:j+7]]).reset_index(drop = True)\n",
    "        temp_freetime = pd.concat([temp_freetime, pd.DataFrame(temp)], axis = 1)\n",
    "    temp_freetime.columns = ['Time', 'Total', 'Num', 'Mean', 'Std']\n",
    "    \n",
    "    return temp_freetime"
   ]
  },
  {
   "cell_type": "code",
   "execution_count": null,
   "id": "482e8b40",
   "metadata": {
    "ExecuteTime": {
     "end_time": "2021-08-10T08:40:27.361528Z",
     "start_time": "2021-08-10T08:39:44.327210Z"
    }
   },
   "outputs": [],
   "source": [
    "# 전체 데이터로 freetime만들기 -> 원하는 weight class에 맞는 데이터만 뽑아서 freetime 만들기\n",
    "# south, north 구분 없음 -> dep_df_south 등으로 바꾸면 할 수 있음 \n",
    "\n",
    "day = int(input('Select date [22-28] : '))\n",
    "\n",
    "fig, axs = plt.subplots(5,5, figsize=(50, 50), squeeze = False)\n",
    "\n",
    "for i, dep_category in enumerate(AC_cat):\n",
    "    temp_dep_df = dep_df[dep_df['AC'] == f'{dep_category}']\n",
    "    for j, arr_category in enumerate(AC_cat):\n",
    "        temp_arr_df = arr_df[arr_df['AC'] == f'{arr_category}']\n",
    "        \n",
    "        temp_df = _freetime_(temp_arr_df, temp_dep_df)\n",
    "        temp_df = temp_df[(day - 22) * 24 : ((day - 21)) * 24]\n",
    "        axs[j, 4-i].bar(temp_df['Time'], temp_df['Mean'], color='navy', alpha = 0.9)\n",
    "        axs[j, 4-i].errorbar(temp_df['Time'], temp_df['Mean'], yerr = temp_df['Std'], fmt='1r', capsize=3)\n",
    "        axs[j, 4-i].axhline(np.mean(temp_df['Mean'].iloc[4:]), xmin = 1/6, color='g', linestyle = '--', linewidth = 2)    # 04-24시 평균 수평선\n",
    "        axs[j, 4-i].annotate(np.round(np.mean(temp_df['Mean'].iloc[4:]),1), xy = (24, np.mean(temp_df['Mean'].iloc[4:])), xytext = (25, np.mean(temp_df['Mean'].iloc[4:])))\n",
    "        # sns.barplot(ax = axs[j, 4-i], x = \"Time\", y = \"Mean\", data = temp_df)\n",
    "        axs[j, 4-i].set_title(f'Dep : {dep_category} - Arr : {arr_category}')\n",
    "fig.suptitle(f'Dec{day}th Runway Freetime paired with Weight Class', fontsize = 80)\n",
    "plt.savefig(save_dir + f'Dec{day}_rwyFree.png', bbox_inches='tight', pad_inches=1)"
   ]
  },
  {
   "cell_type": "code",
   "execution_count": null,
   "id": "d81b4765",
   "metadata": {
    "ExecuteTime": {
     "end_time": "2021-08-10T08:40:31.769889Z",
     "start_time": "2021-08-10T08:40:28.074563Z"
    }
   },
   "outputs": [],
   "source": [
    "plt.figsize = (30,30)\n",
    "total_df = _freetime_(arr_df, dep_df)\n",
    "total_df = total_df[(day - 22) * 24 : ((day - 21)) * 24]\n",
    "plt.bar(total_df['Time'], total_df['Mean'], color='navy', alpha = 0.9)\n",
    "plt.errorbar(total_df['Time'], total_df['Mean'], yerr = total_df['Std'], fmt='1r', capsize=3)\n",
    "plt.axhline(np.mean(total_df['Mean'].iloc[4:]), xmin = 1/6, color='g', linestyle = '--', linewidth = 2)    # 04-24시 평균 수평선\n",
    "plt.annotate(np.round(np.mean(total_df['Mean'].iloc[4:]),1), xy = (24, np.mean(total_df['Mean'].iloc[4:])), xytext = (25, np.mean(total_df['Mean'].iloc[4:])))\n",
    "plt.savefig(save_dir + f'Dec{day}_rwyFreeTotal.png', bbox_inches='tight', pad_inches=1)"
   ]
  },
  {
   "cell_type": "markdown",
   "id": "0ae34503",
   "metadata": {},
   "source": [
    "***\n",
    "***\n",
    "***\n",
    "## METAR"
   ]
  },
  {
   "cell_type": "code",
   "execution_count": null,
   "id": "28495606",
   "metadata": {
    "ExecuteTime": {
     "end_time": "2021-08-07T06:25:54.000607Z",
     "start_time": "2021-08-07T06:25:53.986606Z"
    }
   },
   "outputs": [],
   "source": [
    "metar_df = pd.read_csv(f'../input/metar_20191222-20191228.csv', index_col=False, header = 0)\n",
    "metar_df['IssueTime'] = pd.to_datetime(metar_df['IssueTime'])"
   ]
  },
  {
   "cell_type": "code",
   "execution_count": null,
   "id": "6f6ffa0b",
   "metadata": {
    "ExecuteTime": {
     "end_time": "2021-08-07T06:25:54.173937Z",
     "start_time": "2021-08-07T06:25:54.149649Z"
    }
   },
   "outputs": [],
   "source": [
    "dep_df['DensityAltitude'] = 0\n",
    "dep_df['Headwind'] = 0\n",
    "dep_df['Wet'] = 0"
   ]
  },
  {
   "cell_type": "code",
   "execution_count": null,
   "id": "571b8861",
   "metadata": {
    "ExecuteTime": {
     "end_time": "2021-08-07T06:25:54.856546Z",
     "start_time": "2021-08-07T06:25:54.316820Z"
    }
   },
   "outputs": [],
   "source": [
    "for i in range(len(metar_df)-1):\n",
    "    dep_df.loc[dep_df['Time'] >= metar_df['IssueTime'][i], 'DensityAltitude'] = metar_df['DensityAltitude'][i]\n",
    "    dep_df.loc[dep_df['Time'] >= metar_df['IssueTime'][i], 'Headwind'] = metar_df['Headwind'][i]\n",
    "    dep_df.loc[dep_df['Time'] >= metar_df['IssueTime'][i], 'Wet'] = metar_df['Wet'][i]"
   ]
  },
  {
   "cell_type": "code",
   "execution_count": null,
   "id": "191ad204",
   "metadata": {
    "ExecuteTime": {
     "end_time": "2021-08-07T06:25:54.979999Z",
     "start_time": "2021-08-07T06:25:54.966547Z"
    }
   },
   "outputs": [],
   "source": [
    "dep_df_north = dep_df[dep_df['RWY'] <= 3]\n",
    "dep_df_south = dep_df[dep_df['RWY'] > 3]\n",
    "dep_df_north.loc[:,'AC'] = dep_df_north['AC'].map(mapping)\n",
    "dep_df_south.loc[:,'AC'] = dep_df_south['AC'].map(mapping)"
   ]
  },
  {
   "cell_type": "code",
   "execution_count": null,
   "id": "2eb0230d",
   "metadata": {
    "ExecuteTime": {
     "end_time": "2021-08-07T06:25:55.152146Z",
     "start_time": "2021-08-07T06:25:55.108538Z"
    }
   },
   "outputs": [],
   "source": [
    "dep_df_north.describe()"
   ]
  },
  {
   "cell_type": "code",
   "execution_count": null,
   "id": "483f4775",
   "metadata": {
    "ExecuteTime": {
     "end_time": "2021-08-07T06:25:55.280035Z",
     "start_time": "2021-08-07T06:25:55.249989Z"
    }
   },
   "outputs": [],
   "source": [
    "dep_df_south.describe()"
   ]
  },
  {
   "cell_type": "markdown",
   "id": "82d9085d",
   "metadata": {},
   "source": [
    "### Density Altitude"
   ]
  },
  {
   "cell_type": "markdown",
   "id": "400353f8",
   "metadata": {},
   "source": [
    "DA는 Northflow, South flow 모두 max -900 정도로 낮은 DA를 보임 -> 50% 지점에서 나누어도 큰 의미 없음"
   ]
  },
  {
   "cell_type": "code",
   "execution_count": null,
   "id": "b8b6b7a6",
   "metadata": {
    "ExecuteTime": {
     "end_time": "2021-08-07T06:25:55.389616Z",
     "start_time": "2021-08-07T06:25:55.375000Z"
    }
   },
   "outputs": [],
   "source": [
    "dep_df_north_highDA = dep_df_north[dep_df_north['DensityAltitude'] >= -1866.010659]\n",
    "dep_df_north_lowDA = dep_df_north[dep_df_north['DensityAltitude'] < -1866.010659]\n",
    "dep_df_south_highDA = dep_df_south[dep_df_south['DensityAltitude'] >= -1866.010659]\n",
    "dep_df_south_lowDA = dep_df_south[dep_df_south['DensityAltitude'] < -1866.010659]"
   ]
  },
  {
   "cell_type": "code",
   "execution_count": null,
   "id": "55a4147d",
   "metadata": {
    "ExecuteTime": {
     "end_time": "2021-08-07T06:25:57.353833Z",
     "start_time": "2021-08-07T06:25:55.519636Z"
    }
   },
   "outputs": [],
   "source": [
    "plt.figure(figsize=(15, 15))\n",
    "\n",
    "plt.subplot(2,2,1)\n",
    "plt.axvline(np.mean(dep_df_north_highDA['DIST']), color='crimson', linestyle = '--', linewidth = 2)\n",
    "sns.histplot(data = dep_df_north_highDA, x=\"DIST\", kde=True, hue=\"RWY\", multiple='layer')\n",
    "plt.annotate(round(np.mean(dep_df_north_highDA['DIST'])), \n",
    "             xy = (np.mean(dep_df_north_highDA['DIST']), 10),\n",
    "             xytext = (np.mean(dep_df_north_highDA['DIST']), 0))\n",
    "plt.legend(labels = labels1)\n",
    "plt.title('dep_df_north_highDA')\n",
    "\n",
    "plt.subplot(2,2,2)\n",
    "plt.axvline(np.mean(dep_df_north_lowDA['DIST']), color='crimson', linestyle = '--', linewidth = 2)\n",
    "sns.histplot(data = dep_df_north_lowDA, x=\"DIST\", kde=True, hue=\"RWY\", multiple='layer')\n",
    "plt.annotate(round(np.mean(dep_df_north_lowDA['DIST'])), \n",
    "             xy = (np.mean(dep_df_north_lowDA['DIST']), 10),\n",
    "             xytext = (np.mean(dep_df_north_lowDA['DIST']), 0))\n",
    "plt.legend(labels = labels1)\n",
    "plt.title('dep_df_north_lowDA')\n",
    "\n",
    "plt.subplot(2,2,3)\n",
    "plt.axvline(np.mean(dep_df_south_highDA['DIST']), color='crimson', linestyle = '--', linewidth = 2)\n",
    "sns.histplot(data = dep_df_south_highDA, x=\"DIST\", kde=True, hue=\"RWY\", multiple='layer')\n",
    "plt.annotate(round(np.mean(dep_df_south_highDA['DIST'])), \n",
    "             xy = (np.mean(dep_df_south_highDA['DIST']), 10),\n",
    "             xytext = (np.mean(dep_df_south_highDA['DIST']), 0))\n",
    "plt.legend(labels = labels2)\n",
    "plt.title('dep_df_south_highDA')\n",
    "\n",
    "plt.subplot(2,2,4)\n",
    "plt.axvline(np.mean(dep_df_south_lowDA['DIST']), color='crimson', linestyle = '--', linewidth = 2)\n",
    "sns.histplot(data = dep_df_south_lowDA, x=\"DIST\", kde=True, hue=\"RWY\", multiple='layer')\n",
    "plt.annotate(round(np.mean(dep_df_south_lowDA['DIST'])), \n",
    "             xy = (np.mean(dep_df_south_lowDA['DIST']), 10),\n",
    "             xytext = (np.mean(dep_df_south_lowDA['DIST']), 0))\n",
    "plt.legend(labels = labels2)\n",
    "plt.title('dep_df_south_lowDA')\n",
    "\n",
    "plt.savefig(save_dir + 'densityaltitude_dist.png', bbox_inches='tight', pad_inches=1)"
   ]
  },
  {
   "cell_type": "markdown",
   "id": "d14ccba0",
   "metadata": {},
   "source": [
    "### Headwind"
   ]
  },
  {
   "cell_type": "code",
   "execution_count": null,
   "id": "95ec2418",
   "metadata": {
    "ExecuteTime": {
     "end_time": "2021-08-07T06:25:57.494327Z",
     "start_time": "2021-08-07T06:25:57.480794Z"
    }
   },
   "outputs": [],
   "source": [
    "# 10kts기준\n",
    "\n",
    "dep_df_north_highHW = dep_df_north[dep_df_north['Headwind'] >= 10]\n",
    "dep_df_north_lowHW = dep_df_north[dep_df_north['Headwind'] < 10]\n",
    "dep_df_south_highHW = dep_df_south[dep_df_south['Headwind'] >= 10]\n",
    "dep_df_south_lowHW = dep_df_south[dep_df_south['Headwind'] < 10]"
   ]
  },
  {
   "cell_type": "code",
   "execution_count": null,
   "id": "2c78cd4c",
   "metadata": {
    "ExecuteTime": {
     "end_time": "2021-08-07T06:25:59.483878Z",
     "start_time": "2021-08-07T06:25:57.642654Z"
    }
   },
   "outputs": [],
   "source": [
    "plt.figure(figsize=(15, 15))\n",
    "\n",
    "plt.subplot(2,2,1)\n",
    "plt.axvline(np.mean(dep_df_north_highHW['DIST']), color='crimson', linestyle = '--', linewidth = 2)\n",
    "sns.histplot(data = dep_df_north_highHW, x=\"DIST\", kde=True, hue=\"RWY\", multiple='layer')\n",
    "plt.annotate(round(np.mean(dep_df_north_highHW['DIST'])), \n",
    "             xy = (np.mean(dep_df_north_highHW['DIST']), 10),\n",
    "             xytext = (np.mean(dep_df_north_highHW['DIST']), 0))\n",
    "plt.legend(labels = labels1)\n",
    "plt.title('dep_df_north_highHW')\n",
    "\n",
    "plt.subplot(2,2,2)\n",
    "plt.axvline(np.mean(dep_df_north_lowHW['DIST']), color='crimson', linestyle = '--', linewidth = 2)\n",
    "sns.histplot(data = dep_df_north_lowHW, x=\"DIST\", kde=True, hue=\"RWY\", multiple='layer')\n",
    "plt.annotate(round(np.mean(dep_df_north_lowHW['DIST'])), \n",
    "             xy = (np.mean(dep_df_north_lowHW['DIST']), 10),\n",
    "             xytext = (np.mean(dep_df_north_lowHW['DIST']), 0))\n",
    "plt.legend(labels = labels1)\n",
    "plt.title('dep_df_north_lowHW')\n",
    "\n",
    "plt.subplot(2,2,3)\n",
    "plt.axvline(np.mean(dep_df_south_highHW['DIST']), color='crimson', linestyle = '--', linewidth = 2)\n",
    "sns.histplot(data = dep_df_south_highHW, x=\"DIST\", kde=True, hue=\"RWY\", multiple='layer')\n",
    "plt.annotate(round(np.mean(dep_df_south_highHW['DIST'])), \n",
    "             xy = (np.mean(dep_df_south_highHW['DIST']), 10),\n",
    "             xytext = (np.mean(dep_df_south_highHW['DIST']), 0))\n",
    "plt.legend(labels = labels2)\n",
    "plt.title('dep_df_south_highHW')\n",
    "\n",
    "plt.subplot(2,2,4)\n",
    "plt.axvline(np.mean(dep_df_south_lowHW['DIST']), color='crimson', linestyle = '--', linewidth = 2)\n",
    "sns.histplot(data = dep_df_south_lowHW, x=\"DIST\", kde=True, hue=\"RWY\", multiple='layer')\n",
    "plt.annotate(round(np.mean(dep_df_south_lowHW['DIST'])), \n",
    "             xy = (np.mean(dep_df_south_lowHW['DIST']), 10),\n",
    "             xytext = (np.mean(dep_df_south_lowHW['DIST']), 0))\n",
    "plt.legend(labels = labels2)\n",
    "plt.title('dep_df_south_lowHW')\n",
    "\n",
    "plt.savefig(save_dir + 'headwind_dist.png', bbox_inches='tight', pad_inches=1)"
   ]
  },
  {
   "cell_type": "markdown",
   "id": "7daa18d3",
   "metadata": {},
   "source": [
    "### Runway Condition"
   ]
  },
  {
   "cell_type": "code",
   "execution_count": null,
   "id": "583a03e5",
   "metadata": {
    "ExecuteTime": {
     "end_time": "2021-08-07T06:25:59.640511Z",
     "start_time": "2021-08-07T06:25:59.626512Z"
    }
   },
   "outputs": [],
   "source": [
    "dep_df_north_Wet= dep_df_north[dep_df_north['Wet'] == 1]\n",
    "dep_df_north_notWet = dep_df_north[dep_df_north['Wet'] == 0]\n",
    "dep_df_south_Wet = dep_df_south[dep_df_south['Wet'] == 1]\n",
    "dep_df_south_notWet = dep_df_south[dep_df_south['Wet'] == 0]"
   ]
  },
  {
   "cell_type": "code",
   "execution_count": null,
   "id": "e85aaab5",
   "metadata": {
    "ExecuteTime": {
     "end_time": "2021-08-07T06:26:01.724023Z",
     "start_time": "2021-08-07T06:25:59.800713Z"
    }
   },
   "outputs": [],
   "source": [
    "plt.figure(figsize=(15, 15))\n",
    "\n",
    "plt.subplot(2,2,1)\n",
    "plt.axvline(np.mean(dep_df_north_Wet['DIST']), color='crimson', linestyle = '--', linewidth = 2)\n",
    "sns.histplot(data = dep_df_north_Wet, x=\"DIST\", kde=True, hue=\"RWY\", multiple='layer')\n",
    "plt.annotate(round(np.mean(dep_df_north_Wet['DIST'])), \n",
    "             xy = (np.mean(dep_df_north_Wet['DIST']), 10),\n",
    "             xytext = (np.mean(dep_df_north_Wet['DIST']), 0))\n",
    "plt.legend(labels = labels1)\n",
    "plt.title('dep_df_north_Wet')\n",
    "\n",
    "plt.subplot(2,2,2)\n",
    "plt.axvline(np.mean(dep_df_north_notWet['DIST']), color='crimson', linestyle = '--', linewidth = 2)\n",
    "sns.histplot(data = dep_df_north_notWet, x=\"DIST\", kde=True, hue=\"RWY\", multiple='layer')\n",
    "plt.annotate(round(np.mean(dep_df_north_notWet['DIST'])), \n",
    "             xy = (np.mean(dep_df_north_notWet['DIST']), 10),\n",
    "             xytext = (np.mean(dep_df_north_notWet['DIST']), 0))\n",
    "plt.legend(labels = labels1)\n",
    "plt.title('dep_df_north_notWet')\n",
    "\n",
    "plt.subplot(2,2,3)\n",
    "plt.axvline(np.mean(dep_df_south_Wet['DIST']), color='crimson', linestyle = '--', linewidth = 2)\n",
    "sns.histplot(data = dep_df_south_Wet, x=\"DIST\", kde=True, hue=\"RWY\", multiple='layer')\n",
    "plt.annotate(round(np.mean(dep_df_south_Wet['DIST'])), \n",
    "             xy = (np.mean(dep_df_south_Wet['DIST']), 10),\n",
    "             xytext = (np.mean(dep_df_south_Wet['DIST']), 0))\n",
    "plt.legend(labels = labels2)\n",
    "plt.title('dep_df_south_Wet')\n",
    "\n",
    "plt.subplot(2,2,4)\n",
    "plt.axvline(np.mean(dep_df_south_notWet['DIST']), color='crimson', linestyle = '--', linewidth = 2)\n",
    "sns.histplot(data = dep_df_south_notWet, x=\"DIST\", kde=True, hue=\"RWY\", multiple='layer')\n",
    "plt.annotate(round(np.mean(dep_df_south_notWet['DIST'])), \n",
    "             xy = (np.mean(dep_df_south_notWet['DIST']), 10),\n",
    "             xytext = (np.mean(dep_df_south_notWet['DIST']), 0))\n",
    "plt.legend(labels = labels2)\n",
    "plt.title('dep_df_south_Wet')\n",
    "\n",
    "plt.savefig(save_dir + 'rwycondition_dist.png', bbox_inches='tight', pad_inches=1)"
   ]
  },
  {
   "cell_type": "markdown",
   "id": "1a37201a",
   "metadata": {},
   "source": [
    "## ML??"
   ]
  },
  {
   "cell_type": "code",
   "execution_count": null,
   "id": "3ed17e60",
   "metadata": {
    "ExecuteTime": {
     "end_time": "2021-08-07T06:26:01.909881Z",
     "start_time": "2021-08-07T06:26:01.879995Z"
    }
   },
   "outputs": [],
   "source": [
    "dep_df_north"
   ]
  },
  {
   "cell_type": "code",
   "execution_count": null,
   "id": "2b95d756",
   "metadata": {},
   "outputs": [],
   "source": [
    "# ground speed를 가져오면 도움이 될까?"
   ]
  },
  {
   "cell_type": "markdown",
   "id": "a7257cf8",
   "metadata": {},
   "source": [
    "## Sensitivity Analysis"
   ]
  },
  {
   "cell_type": "code",
   "execution_count": null,
   "id": "379d01b4",
   "metadata": {
    "ExecuteTime": {
     "end_time": "2021-08-07T06:35:50.087923Z",
     "start_time": "2021-08-07T06:35:50.076398Z"
    }
   },
   "outputs": [],
   "source": [
    "import statistics"
   ]
  },
  {
   "cell_type": "code",
   "execution_count": null,
   "id": "b51361f3",
   "metadata": {
    "ExecuteTime": {
     "end_time": "2021-08-07T06:36:31.783796Z",
     "start_time": "2021-08-07T06:36:31.761808Z"
    }
   },
   "outputs": [],
   "source": [
    "for i in list(set(dep_df_north['AC'].values))[1:]:\n",
    "    print(f'{str(i)} : ' , statistics.stdev(dep_df_north[dep_df_north['AC'] == i]['DIST']))    # 무게별로 sd\n"
   ]
  },
  {
   "cell_type": "code",
   "execution_count": null,
   "id": "cbdff7ed",
   "metadata": {
    "ExecuteTime": {
     "end_time": "2021-08-07T06:27:05.260857Z",
     "start_time": "2021-08-07T06:27:04.898461Z"
    }
   },
   "outputs": [],
   "source": [
    "sns.scatterplot(data=dep_df_north, x=\"Headwind\", y=\"DIST\", hue = 'AC')"
   ]
  }
 ],
 "metadata": {
  "kernelspec": {
   "display_name": "Python 3",
   "language": "python",
   "name": "python3"
  },
  "language_info": {
   "codemirror_mode": {
    "name": "ipython",
    "version": 3
   },
   "file_extension": ".py",
   "mimetype": "text/x-python",
   "name": "python",
   "nbconvert_exporter": "python",
   "pygments_lexer": "ipython3",
   "version": "3.8.10"
  },
  "toc": {
   "base_numbering": 1,
   "nav_menu": {},
   "number_sections": true,
   "sideBar": true,
   "skip_h1_title": false,
   "title_cell": "Table of Contents",
   "title_sidebar": "Contents",
   "toc_cell": false,
   "toc_position": {
    "height": "calc(100% - 180px)",
    "left": "10px",
    "top": "150px",
    "width": "212.475px"
   },
   "toc_section_display": true,
   "toc_window_display": true
  },
  "varInspector": {
   "cols": {
    "lenName": 16,
    "lenType": 16,
    "lenVar": 40
   },
   "kernels_config": {
    "python": {
     "delete_cmd_postfix": "",
     "delete_cmd_prefix": "del ",
     "library": "var_list.py",
     "varRefreshCmd": "print(var_dic_list())"
    },
    "r": {
     "delete_cmd_postfix": ") ",
     "delete_cmd_prefix": "rm(",
     "library": "var_list.r",
     "varRefreshCmd": "cat(var_dic_list()) "
    }
   },
   "types_to_exclude": [
    "module",
    "function",
    "builtin_function_or_method",
    "instance",
    "_Feature"
   ],
   "window_display": false
  }
 },
 "nbformat": 4,
 "nbformat_minor": 5
}
