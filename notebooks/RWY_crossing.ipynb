{
 "cells": [
  {
   "cell_type": "code",
   "execution_count": null,
   "id": "f31b0c23",
   "metadata": {
    "ExecuteTime": {
     "end_time": "2021-08-13T09:48:23.360098Z",
     "start_time": "2021-08-13T09:48:23.345098Z"
    }
   },
   "outputs": [],
   "source": [
    "import pandas as pd\n",
    "import numpy as np\n",
    "import matplotlib.pyplot as plt\n",
    "import warnings\n",
    "import re\n",
    "import math\n",
    "import seaborn as sns\n",
    "import scipy.stats as stats\n",
    "from datetime import datetime, timedelta, date\n",
    "from fitter import Fitter, get_common_distributions, get_distributions"
   ]
  },
  {
   "cell_type": "code",
   "execution_count": null,
   "id": "1e008cb5",
   "metadata": {
    "ExecuteTime": {
     "end_time": "2021-08-13T09:16:05.031125Z",
     "start_time": "2021-08-13T09:16:05.016791Z"
    }
   },
   "outputs": [],
   "source": [
    "# options\n",
    "pd.set_option('max_columns',100)\n",
    "warnings.simplefilter('ignore')\n",
    "plt.style.use('seaborn-whitegrid')"
   ]
  },
  {
   "cell_type": "code",
   "execution_count": null,
   "id": "25fb6f8f",
   "metadata": {
    "ExecuteTime": {
     "end_time": "2021-08-13T09:16:05.078626Z",
     "start_time": "2021-08-13T09:16:05.064895Z"
    }
   },
   "outputs": [],
   "source": [
    "save_dir = '../result/notebook/'"
   ]
  },
  {
   "cell_type": "markdown",
   "id": "f29cf4cb",
   "metadata": {},
   "source": [
    "# 내꺼"
   ]
  },
  {
   "cell_type": "code",
   "execution_count": null,
   "id": "cb18586d",
   "metadata": {
    "ExecuteTime": {
     "end_time": "2021-08-12T07:59:37.800651Z",
     "start_time": "2021-08-12T07:59:37.786489Z"
    }
   },
   "outputs": [],
   "source": [
    "# initialize\n",
    "absolute_difference = lambda datalist : abs(datalist - pressure_altitude)\n",
    "\n",
    "to = pd.DataFrame()\n",
    "ld = pd.DataFrame()\n",
    "others = pd.DataFrame()"
   ]
  },
  {
   "cell_type": "code",
   "execution_count": null,
   "id": "bae39666",
   "metadata": {
    "ExecuteTime": {
     "end_time": "2021-08-12T07:59:38.578513Z",
     "start_time": "2021-08-12T07:59:37.850488Z"
    }
   },
   "outputs": [],
   "source": [
    "# load data\n",
    "daterange = pd.date_range(start='12/21/2019 15:00', end='12/28/2019 14:00', freq='1H').strftime('%Y%m%d_%H%M%S')  # Zulu time\n",
    "dff = pd.DataFrame()\n",
    "\n",
    "for i in range(12,14):\n",
    "    date = daterange[i]\n",
    "    print(date)\n",
    "    df = pd.read_csv(f'../input/MLAT/tp1_{date}_Cat20.ast_Mlat.csv', index_col=False, header = 1)\n",
    "    dff = pd.concat([dff, df])\n",
    "\n",
    "# 여기서 date를 concat하면 같은 c/s인 항공기가 있어서 안 좋을 것 같음 -> 가장 큰 for loop으로 쓰기\n",
    "# for date in daterange:\n",
    "#    df = pd.read_csv(f'../input/tp1_{i}_Cat20.ast_Mlat.csv', index_col=False, header = 1)"
   ]
  },
  {
   "cell_type": "code",
   "execution_count": null,
   "id": "c13f15e4",
   "metadata": {
    "ExecuteTime": {
     "end_time": "2021-08-12T07:59:44.940100Z",
     "start_time": "2021-08-12T07:59:38.976730Z"
    }
   },
   "outputs": [],
   "source": [
    "# calculate pressure altitude\n",
    "\n",
    "current_pressure = float(input('Current pressure : '))\n",
    "fe_m = 7\n",
    "msl_ft = 145366.45 * (1 - (current_pressure/1013.25)**0.190284)\n",
    "msl_m = msl_ft * 0.3048\n",
    "pressure_altitude = msl_m + fe_m\n",
    "print('RKSI Field Elevation : 7 m')\n",
    "print(f'Pressure Altitude : {pressure_altitude} m')"
   ]
  },
  {
   "cell_type": "code",
   "execution_count": null,
   "id": "c8b5be5e",
   "metadata": {
    "ExecuteTime": {
     "end_time": "2021-08-12T07:59:46.343000Z",
     "start_time": "2021-08-12T07:59:45.086108Z"
    }
   },
   "outputs": [],
   "source": [
    "# Wheel On/Off 지점 찾기\n",
    "\n",
    "ident = np.unique(df['ModeSIdent'].values).tolist()\n",
    "\n",
    "\n",
    "for i in ident:\n",
    "    # c/s별로 wheel on/off 지점인 데이터만 넣기\n",
    "    temp_df = df[df['ModeSIdent'] == i]\n",
    "    temp_df['BAlt'] = temp_df['BAlt'].replace('----', 10000).astype(float)         # '----'값은 의미없도록 10000으로 바꿈\n",
    "    temp_altitude_list = temp_df['BAlt']\n",
    "    temp_closest_value = min(temp_altitude_list, key = absolute_difference)        # absolute_difference 으로 가장 가까운 값 찾기\n",
    "    temp_df = temp_df[temp_df['BAlt'] == temp_closest_value]\n",
    "    \n",
    "    # ops로 arr / dep나누기\n",
    "    if temp_df['GroudSpeed'].iloc[0] < temp_df['GroudSpeed'].iloc[-1]:\n",
    "        temp_df['ops'] = 'departure'\n",
    "    elif temp_df['GroudSpeed'].iloc[0] > temp_df['GroudSpeed'].iloc[-1]:\n",
    "        temp_df['ops'] = 'arrival'\n",
    "    else:\n",
    "        temp_df['ops'] = 'others'\n",
    "    \n",
    "    # arr / dep 각각 저장 - # landing은 0, takeoff는 -1로 해야함\n",
    "    if abs(temp_df['BAlt'].iloc[0] - pressure_altitude) > 100:    # 너무 큰 이상한 것은 버림\n",
    "        others = others.append(temp_df)\n",
    "    elif (temp_df['ops'].iloc[0] == 'departure') & (temp_df['GroudSpeed'].iloc[-1] > 50):    \n",
    "        to = to.append(temp_df.iloc[-1,:])    \n",
    "    elif (temp_df['ops'].iloc[0] == 'arrival') & (temp_df['GroudSpeed'].iloc[0] > 50):\n",
    "        ld = ld.append(temp_df.iloc[0,:])\n",
    "    else:\n",
    "        others = others.append(temp_df)"
   ]
  },
  {
   "cell_type": "code",
   "execution_count": null,
   "id": "bf6e89fa",
   "metadata": {
    "ExecuteTime": {
     "end_time": "2021-08-06T07:00:22.786406Z",
     "start_time": "2021-08-06T07:00:22.042323Z"
    }
   },
   "outputs": [],
   "source": [
    "base_map = plt.imread('../data/map.png')\n",
    "BBox = (126.3940, 126.4743, 37.4414, 37.4856)\n",
    "\n",
    "fig, ax = plt.subplots(figsize = (25,20))\n",
    "ax.scatter(to['Longitude'], to['Latitude'], alpha= 0.6, c='b', s=15, marker = 'o')\n",
    "ax.scatter(ld['Longitude'], ld['Latitude'], alpha= 0.6, c='r', s=15, marker = 'x')\n",
    "ax.set_xlim(BBox[0],BBox[1])\n",
    "ax.set_ylim(BBox[2],BBox[3])\n",
    "ax.imshow(base_map, zorder = 0, extent = BBox, aspect= 'equal')"
   ]
  },
  {
   "cell_type": "markdown",
   "id": "a2ffcd6d",
   "metadata": {},
   "source": [
    "### Go Around 찾기"
   ]
  },
  {
   "cell_type": "code",
   "execution_count": null,
   "id": "90306c8f",
   "metadata": {
    "ExecuteTime": {
     "end_time": "2021-08-12T07:59:38.834485Z",
     "start_time": "2021-08-12T07:59:38.726495Z"
    }
   },
   "outputs": [],
   "source": [
    "dff[dff['ModeSIdent']  == 'AAR131']"
   ]
  },
  {
   "cell_type": "markdown",
   "id": "a0769e1e",
   "metadata": {},
   "source": [
    "\n",
    "\n",
    "# 교수님 데이터"
   ]
  },
  {
   "cell_type": "code",
   "execution_count": null,
   "id": "95e7b01a",
   "metadata": {
    "ExecuteTime": {
     "end_time": "2021-08-13T09:17:08.438722Z",
     "start_time": "2021-08-13T09:17:08.420571Z"
    }
   },
   "outputs": [],
   "source": [
    "def datenum_to_datetime(datenum):\n",
    "    \"\"\"\n",
    "    Convert Matlab datenum into Python datetime.\n",
    "    :param datenum: Date in datenum format\n",
    "    :return:        Datetime object corresponding to datenum.\n",
    "    \"\"\"\n",
    "    days = datenum % 1\n",
    "    hours = days % 1 * 24\n",
    "    minutes = hours % 1 * 60\n",
    "    seconds = minutes % 1 * 60\n",
    "    return datetime.fromordinal(int(datenum)) \\\n",
    "           + timedelta(days=int(days)) \\\n",
    "           + timedelta(hours=int(hours)) \\\n",
    "           + timedelta(minutes=int(minutes)) \\\n",
    "           + timedelta(seconds=round(seconds)) \\\n",
    "           - timedelta(days=366)"
   ]
  },
  {
   "cell_type": "code",
   "execution_count": null,
   "id": "2c6acf3f",
   "metadata": {
    "ExecuteTime": {
     "end_time": "2021-08-13T09:17:08.564629Z",
     "start_time": "2021-08-13T09:17:08.547530Z"
    }
   },
   "outputs": [],
   "source": [
    "# RWY : '33L', '33R', 34, '15R', '15L', 16  -->>  1-3 : Northflow / 4-6 : Southflow\n",
    "\n",
    "columns = ['Time', 'Callsign', 'AC', 'Lat', 'Lon', 'RWY', 'DIST', 'ROT1', 'ROT2']"
   ]
  },
  {
   "cell_type": "code",
   "execution_count": null,
   "id": "eac00023",
   "metadata": {
    "ExecuteTime": {
     "end_time": "2021-08-13T09:17:08.753225Z",
     "start_time": "2021-08-13T09:17:08.688562Z"
    }
   },
   "outputs": [],
   "source": [
    "arr_df = pd.read_csv(f'../input/arr_data.csv', index_col=False, header = 0)\n",
    "dep_df = pd.read_csv(f'../input/dep_data.csv', index_col=False, header = 0)\n",
    "freetime_df = pd.read_csv(f'../input/freetime.csv', index_col=False, header = 0)"
   ]
  },
  {
   "cell_type": "code",
   "execution_count": null,
   "id": "c234f289",
   "metadata": {
    "ExecuteTime": {
     "end_time": "2021-08-13T09:17:10.703216Z",
     "start_time": "2021-08-13T09:17:08.967316Z"
    }
   },
   "outputs": [],
   "source": [
    "arr_df.columns = columns\n",
    "dep_df.columns = columns\n",
    "arr_df['Time']= pd.to_datetime(arr_df['Time'])\n",
    "dep_df['Time']= pd.to_datetime(dep_df['Time'])"
   ]
  },
  {
   "cell_type": "code",
   "execution_count": null,
   "id": "9a40a8a5",
   "metadata": {
    "ExecuteTime": {
     "end_time": "2021-08-13T09:17:10.893663Z",
     "start_time": "2021-08-13T09:17:10.866318Z"
    }
   },
   "outputs": [],
   "source": [
    "arr_df_north = arr_df[arr_df['RWY'] <= 3]\n",
    "dep_df_north = dep_df[dep_df['RWY'] <= 3]\n",
    "arr_df_south = arr_df[arr_df['RWY'] > 3]\n",
    "dep_df_south = dep_df[dep_df['RWY'] > 3]"
   ]
  },
  {
   "cell_type": "code",
   "execution_count": null,
   "id": "322ef99f",
   "metadata": {
    "ExecuteTime": {
     "end_time": "2021-08-13T09:17:11.190471Z",
     "start_time": "2021-08-13T09:17:11.162470Z"
    }
   },
   "outputs": [],
   "source": [
    "freetime = pd.DataFrame()\n",
    "for j in range(0,35,7):\n",
    "    temp = pd.concat([freetime_df[i] for i in freetime_df.columns[j:j+7]]).reset_index(drop = True)\n",
    "    freetime = pd.concat([freetime, pd.DataFrame(temp)], axis = 1)\n",
    "freetime.columns = ['Time', 'Total', 'Num', 'Mean', 'Std']"
   ]
  },
  {
   "cell_type": "markdown",
   "id": "97d6b549",
   "metadata": {},
   "source": [
    "## Scatter on the map"
   ]
  },
  {
   "cell_type": "code",
   "execution_count": null,
   "id": "9581d798",
   "metadata": {
    "ExecuteTime": {
     "end_time": "2021-08-12T05:32:03.556173Z",
     "start_time": "2021-08-12T05:32:03.507719Z"
    }
   },
   "outputs": [],
   "source": [
    "base_map = plt.imread('../data/map.png')\n",
    "BBox = (126.3940, 126.4743, 37.4414, 37.4856)"
   ]
  },
  {
   "cell_type": "code",
   "execution_count": null,
   "id": "25c74a4d",
   "metadata": {
    "ExecuteTime": {
     "end_time": "2021-08-09T05:25:44.349280Z",
     "start_time": "2021-08-09T05:25:42.742758Z"
    }
   },
   "outputs": [],
   "source": [
    "# North flow\n",
    "\n",
    "fig, ax = plt.subplots(figsize = (25,20))\n",
    "ax.scatter(dep_df_north['Lon'], dep_df_north['Lat'], alpha= 0.6, c='b', s=30, marker = 'o', label = 'Departure')\n",
    "ax.scatter(arr_df_north['Lon'], arr_df_north['Lat'], alpha= 0.6, c='r', s=30, marker = 'x', label = 'Arrival')\n",
    "ax.set_xlim(BBox[0],BBox[1])\n",
    "ax.set_ylim(BBox[2],BBox[3])\n",
    "ax.legend(fontsize=20)\n",
    "ax.imshow(base_map, zorder = 0, extent = BBox, aspect= 'equal')\n",
    "\n",
    "plt.savefig(save_dir + 'northflow.png', bbox_inches='tight', pad_inches=1)"
   ]
  },
  {
   "cell_type": "code",
   "execution_count": null,
   "id": "5b95f992",
   "metadata": {
    "ExecuteTime": {
     "end_time": "2021-08-09T05:25:51.494470Z",
     "start_time": "2021-08-09T05:25:50.000181Z"
    }
   },
   "outputs": [],
   "source": [
    "# South flow\n",
    "fig, ax = plt.subplots(figsize = (25,20))\n",
    "ax.scatter(dep_df_south['Lon'], dep_df_south['Lat'], alpha= 0.6, c='b', s=30, marker = 'o', label = 'Departure')\n",
    "ax.scatter(arr_df_south['Lon'], arr_df_south['Lat'], alpha= 0.6, c='r', s=30, marker = 'x', label = 'Arrival')\n",
    "ax.set_xlim(BBox[0],BBox[1])\n",
    "ax.set_ylim(BBox[2],BBox[3])\n",
    "ax.legend(fontsize=20)\n",
    "ax.imshow(base_map, zorder = 0, extent = BBox, aspect= 'equal')\n",
    "\n",
    "plt.savefig(save_dir + 'southflow.png', bbox_inches='tight', pad_inches=1)"
   ]
  },
  {
   "cell_type": "code",
   "execution_count": null,
   "id": "145243bf",
   "metadata": {
    "ExecuteTime": {
     "end_time": "2021-08-10T08:34:04.801438Z",
     "start_time": "2021-08-10T08:34:02.393442Z"
    }
   },
   "outputs": [],
   "source": [
    "plt.figure(figsize=(15, 15))\n",
    "\n",
    "# northflow\n",
    "plt.subplot(2,1,1)\n",
    "sns.histplot(data = arr_df_north, x=\"DIST\", kde=True, hue=\"RWY\", multiple='layer', bins = 50)\n",
    "plt.annotate(round(np.mean(arr_df_north['DIST'])), \n",
    "             xy = (np.mean(arr_df_north['DIST']), 10),\n",
    "             xytext = (np.mean(arr_df_north['DIST']), 0))\n",
    "\n",
    "plt.subplot(2,1,1)\n",
    "sns.histplot(data = dep_df_north, x=\"DIST\", kde=True, hue=\"RWY\", multiple='layer', bins = 50)\n",
    "plt.annotate(round(np.mean(dep_df_north['DIST'])), \n",
    "             xy = (np.mean(dep_df_north['DIST']), 10),\n",
    "             xytext = (np.mean(dep_df_north['DIST']), 0))\n",
    "plt.legend(labels = [ '33L', '33R', '34', '33L', '33R', '34'])\n",
    "plt.axvline(np.mean(arr_df_north['DIST']), color='crimson', linestyle = '--', linewidth = 2, label = 'mean')\n",
    "plt.axvline(np.mean(dep_df_north['DIST']), color='crimson', linestyle = '--', linewidth = 2, label = 'mean')\n",
    "plt.title('North')\n",
    "\n",
    "\n",
    "# southflow\n",
    "plt.subplot(2,1,2)\n",
    "sns.histplot(data = arr_df_south, x=\"DIST\", kde=True, hue=\"RWY\", multiple='layer', bins = 50)\n",
    "plt.annotate(round(np.mean(arr_df_south['DIST'])), \n",
    "             xy = (np.mean(arr_df_south['DIST']), 10),\n",
    "             xytext = (np.mean(arr_df_south['DIST']), 0))\n",
    "\n",
    "plt.subplot(2,1,2)\n",
    "sns.histplot(data = dep_df_south, x=\"DIST\", kde=True, hue=\"RWY\", multiple='layer', bins = 50)\n",
    "plt.annotate(round(np.mean(dep_df_south['DIST'])), \n",
    "             xy = (np.mean(dep_df_south['DIST']), 10),\n",
    "             xytext = (np.mean(dep_df_south['DIST']), 0))\n",
    "plt.legend(labels = ['15R', '15L', '16', '15R', '15L', '16'])\n",
    "plt.axvline(np.mean(arr_df_south['DIST']), color='crimson', linestyle = '--', linewidth = 2, label = 'mean')\n",
    "plt.axvline(np.mean(dep_df_south['DIST']), color='crimson', linestyle = '--', linewidth = 2, label = 'mean')\n",
    "plt.title('South')\n",
    "\n",
    "plt.savefig(save_dir + 'entire_dist.png', bbox_inches='tight', pad_inches=1)"
   ]
  },
  {
   "cell_type": "markdown",
   "id": "bddf3645",
   "metadata": {},
   "source": [
    "***\n",
    "***\n",
    "***\n",
    "\n",
    "## Aircraft Weight Class"
   ]
  },
  {
   "cell_type": "markdown",
   "id": "41ce3d63",
   "metadata": {},
   "source": [
    "payload를 알 수 있다면 gross weight으로 적용하고, 더 정확할 듯"
   ]
  },
  {
   "cell_type": "markdown",
   "id": "f1597080",
   "metadata": {},
   "source": [
    "<b>FAA Order JO 7360.1E Aircraft Type Designators</b> <br>\n",
    "RECAT 2.0 Wake Category apdx.B <br>\n",
    "\n",
    "(1) Category A – Upper Heavy Aircraft <br>\n",
    "(2) Category B – Lower Heavy Aircraft <br>\n",
    "(3) Category C – Upper Large Aircraft <br>\n",
    "(4) Category D – Lower Large Aircraft <br>\n",
    "(5) Category E – Small Plus aircraft with a maximum takeoff weight of more than 15,400 pounds up to 41,000 pounds <br>\n",
    "(6) Category F – Small aircraft with a maximum takeoff weight of 15,400 pounds or less <br>\n",
    "(7) Category G – Heavy aircraft not included in Category A or B <br>"
   ]
  },
  {
   "cell_type": "code",
   "execution_count": null,
   "id": "4077a0d9",
   "metadata": {
    "ExecuteTime": {
     "end_time": "2021-08-13T09:17:16.017303Z",
     "start_time": "2021-08-13T09:17:16.008304Z"
    }
   },
   "outputs": [],
   "source": [
    "# dep_df_south['AC'].value_counts()\n",
    "\n",
    "mapping = {'B738':'C', 'A321':'C', 'A333':'A', 'A320':'C', 'B772':'A', 'B77W':'A', 'B744':'A',\n",
    "           'B748':'A', 'A359':'A', 'B739':'C', 'A332':'A', 'B789':'A', 'A21N':'C', 'B763':'B',\n",
    "           'B773':'A', 'B77L':'A', 'B737':'C', 'B788':'A', 'A20N':'C', 'A319':'C', 'B787':'A',\n",
    "           'A339':'G', 'B767':'B', 'MD11':'B', 'B78X':'G', 'A306':'C', 'B747':'A', 'A330':'A', \n",
    "           'B752':'C', 'B777':'A', 'A124':'G', 'A388':'NOWGT', 'A380':'NOWGT'}"
   ]
  },
  {
   "cell_type": "code",
   "execution_count": null,
   "id": "9cf25c24",
   "metadata": {
    "ExecuteTime": {
     "end_time": "2021-08-13T09:17:16.269894Z",
     "start_time": "2021-08-13T09:17:16.263257Z"
    }
   },
   "outputs": [],
   "source": [
    "AC_cat = ['NOWGT', 'A', 'B', 'G', 'C']"
   ]
  },
  {
   "cell_type": "code",
   "execution_count": null,
   "id": "af281827",
   "metadata": {
    "ExecuteTime": {
     "end_time": "2021-08-13T09:17:16.539063Z",
     "start_time": "2021-08-13T09:17:16.510772Z"
    }
   },
   "outputs": [],
   "source": [
    "# 기종에서 무게 구분으로 바꾸기\n",
    "dep_df_north.loc[:,'AC'] = dep_df_north['AC'].map(mapping)\n",
    "dep_df_south.loc[:,'AC'] = dep_df_south['AC'].map(mapping)\n",
    "arr_df_north.loc[:,'AC'] = arr_df_north['AC'].map(mapping)\n",
    "arr_df_south.loc[:,'AC'] = arr_df_south['AC'].map(mapping)\n",
    "arr_df.loc[:,'AC'] = arr_df['AC'].map(mapping)\n",
    "dep_df.loc[:,'AC'] = dep_df['AC'].map(mapping)"
   ]
  },
  {
   "cell_type": "markdown",
   "id": "1405cda1",
   "metadata": {},
   "source": [
    "### Distribution fitting"
   ]
  },
  {
   "cell_type": "code",
   "execution_count": null,
   "id": "3c8cb743",
   "metadata": {
    "ExecuteTime": {
     "end_time": "2021-08-13T09:17:19.544238Z",
     "start_time": "2021-08-13T09:17:17.927976Z"
    }
   },
   "outputs": [],
   "source": [
    "sns.displot(data = arr_df, x = \"DIST\", kde = True, color = 'r', kind=\"hist\", bins = 100, aspect = 1.5)\n",
    "sns.displot(data = dep_df, x = \"DIST\", kde = True, color = 'b', kind=\"hist\", bins = 100, aspect = 1.5)"
   ]
  },
  {
   "cell_type": "code",
   "execution_count": null,
   "id": "c20f849b",
   "metadata": {},
   "outputs": [],
   "source": []
  },
  {
   "cell_type": "code",
   "execution_count": null,
   "id": "2b7595f7",
   "metadata": {},
   "outputs": [],
   "source": []
  },
  {
   "cell_type": "code",
   "execution_count": null,
   "id": "c232a03e",
   "metadata": {},
   "outputs": [],
   "source": []
  },
  {
   "cell_type": "code",
   "execution_count": null,
   "id": "7cacbea2",
   "metadata": {},
   "outputs": [],
   "source": []
  },
  {
   "cell_type": "code",
   "execution_count": null,
   "id": "f37ef6fa",
   "metadata": {
    "ExecuteTime": {
     "end_time": "2021-08-13T09:19:41.673340Z",
     "start_time": "2021-08-13T09:19:31.009857Z"
    },
    "scrolled": false
   },
   "outputs": [],
   "source": [
    "# Arrival\n",
    "\n",
    "dist = arr_df['DIST'].values\n",
    "f_arrival_total = Fitter(dist, distributions = get_common_distributions(), timeout = 100)\n",
    "f_arrival_total.fit()\n",
    "print('Arrival Total Distribution')\n",
    "print(f_arrival_total.summary())\n",
    "plt.show()\n",
    "\n",
    "weight_class = arr_df['AC'].unique()[:-1]\n",
    "\n",
    "arrival_distribution = {}\n",
    "\n",
    "for clss in weight_class:    \n",
    "    temp_df = arr_df[arr_df['AC'] == f'{clss}']\n",
    "    dist = temp_df['DIST'].values\n",
    "    arrival_distribution[clss] = Fitter(dist, distributions = get_common_distributions(), timeout = 100)\n",
    "    arrival_distribution[clss].fit()\n",
    "    print(clss)\n",
    "    print(arrival_distribution[clss].summary())\n",
    "    plt.show()"
   ]
  },
  {
   "cell_type": "code",
   "execution_count": null,
   "id": "d5067eb5",
   "metadata": {
    "ExecuteTime": {
     "end_time": "2021-08-13T09:22:02.343931Z",
     "start_time": "2021-08-13T09:21:50.828254Z"
    },
    "scrolled": false
   },
   "outputs": [],
   "source": [
    "# Departure\n",
    "\n",
    "dist = dep_df['DIST'].values\n",
    "f_departure_total = Fitter(dist, distributions = get_common_distributions(), timeout = 100)\n",
    "f_departure_total.fit()\n",
    "print('Departure Total Distribution')\n",
    "print(f_departure_total.summary())\n",
    "plt.show()\n",
    "\n",
    "weight_class = np.delete(dep_df['AC'].unique(), 3)    # remove nan\n",
    "\n",
    "departure_distribution = {}\n",
    "\n",
    "for clss in weight_class:    \n",
    "    temp_df = dep_df[dep_df['AC'] == f'{clss}']\n",
    "    dist = temp_df['DIST'].values\n",
    "    departure_distribution[clss] = Fitter(dist, distributions = get_common_distributions(), timeout = 100)\n",
    "    departure_distribution[clss].fit()\n",
    "    print(clss)\n",
    "    print(departure_distribution[clss].summary())\n",
    "    plt.show()\n",
    "\n",
    "\"\"\"\n",
    "# Departure\n",
    "\n",
    "dist = dep_df['DIST'].values\n",
    "f = Fitter(dist, distributions = get_common_distributions(), timeout = 100)\n",
    "f.fit()\n",
    "print('Departure Total Distribution')\n",
    "print(f.summary())\n",
    "\n",
    "weight_class = np.delete(dep_df['AC'].unique(), 3)    # remove nan\n",
    "\n",
    "for clss in weight_class:\n",
    "    temp_df = dep_df[dep_df['AC'] == f'{clss}']\n",
    "    dist = temp_df['DIST'].values\n",
    "    f = Fitter(dist, distributions = get_common_distributions(), timeout = 100)\n",
    "    f.fit()\n",
    "    print(clss)\n",
    "    print(f.summary())\"\"\""
   ]
  },
  {
   "cell_type": "code",
   "execution_count": null,
   "id": "c5c9a086",
   "metadata": {
    "ExecuteTime": {
     "end_time": "2021-08-13T11:01:03.838927Z",
     "start_time": "2021-08-13T11:01:03.520902Z"
    }
   },
   "outputs": [],
   "source": [
    "# f_departure_total  /  departure_distribution['key']  /  f_arrival_total  /  arrival_distribution['key']\n",
    "# 'A', 'C', 'NOWGT', 'B', 'G'\n",
    "\n",
    "# show result\n",
    "print(f_departure_total.summary())\n",
    "#print(arrival_distribution['A'].summary())\n",
    "plt.show()\n",
    "\n",
    "# get parameters\n",
    "f_departure_total.fitted_param['norm']\n",
    "#arrival_distribution['A'].fitted_param[\"rayleigh\"]    # arrival_distribution['A'].get_best(method = 'sumsquare_error')"
   ]
  },
  {
   "cell_type": "code",
   "execution_count": null,
   "id": "643b2e64",
   "metadata": {
    "ExecuteTime": {
     "end_time": "2021-08-13T09:46:13.155430Z",
     "start_time": "2021-08-13T09:46:13.138427Z"
    }
   },
   "outputs": [],
   "source": [
    "print(f_departure_total.fitted_param[\"norm\"])\n",
    "\n",
    "\n",
    "print(departure_distribution['NOWGT'].fitted_param[\"norm\"])\n",
    "print(departure_distribution['A'].fitted_param[\"norm\"])\n",
    "print(departure_distribution['B'].fitted_param[\"norm\"])\n",
    "print(departure_distribution['G'].fitted_param[\"norm\"])\n",
    "print(departure_distribution['C'].fitted_param[\"norm\"])\n"
   ]
  },
  {
   "cell_type": "code",
   "execution_count": null,
   "id": "edbce44e",
   "metadata": {
    "ExecuteTime": {
     "end_time": "2021-08-13T11:03:09.469433Z",
     "start_time": "2021-08-13T11:03:09.443437Z"
    }
   },
   "outputs": [],
   "source": [
    "# ANOVA\n",
    "F_statistic, pVal = stats.f_oneway(arr_df[arr_df['AC'] == 'A']['DIST'],\n",
    "                                   arr_df[arr_df['AC'] == 'B']['DIST'],\n",
    "                                   arr_df[arr_df['AC'] == 'C']['DIST'],\n",
    "                                   arr_df[arr_df['AC'] == 'G']['DIST'],\n",
    "                                   arr_df[arr_df['AC'] == 'NOWGT']['DIST'],\n",
    "                                  )\n",
    "\n",
    "print('result : F={0:.1f}, p={1:.5f}'.format(F_statistic, pVal))"
   ]
  },
  {
   "cell_type": "code",
   "execution_count": null,
   "id": "e9f91658",
   "metadata": {
    "ExecuteTime": {
     "end_time": "2021-08-13T09:49:28.753228Z",
     "start_time": "2021-08-13T09:49:28.632228Z"
    }
   },
   "outputs": [],
   "source": [
    "mu = 1808.65969437491\n",
    "variance = 366.58176065603374\n",
    "sigma = math.sqrt(variance)\n",
    "x = np.linspace(mu - 3*sigma, mu + 3*sigma, 100)\n",
    "plt.plot(x, stats.norm.pdf(x, mu, sigma))\n",
    "plt.show()"
   ]
  },
  {
   "cell_type": "markdown",
   "id": "441453c2",
   "metadata": {},
   "source": [
    "### Wheel On/Off"
   ]
  },
  {
   "cell_type": "code",
   "execution_count": null,
   "id": "43862641",
   "metadata": {
    "ExecuteTime": {
     "end_time": "2021-08-10T08:35:01.615201Z",
     "start_time": "2021-08-10T08:34:54.283372Z"
    }
   },
   "outputs": [],
   "source": [
    "# south\n",
    "\n",
    "fig, axs = plt.subplots(5,5, figsize=(50, 50), squeeze = False)\n",
    "\n",
    "for i, dep_category in enumerate(AC_cat):\n",
    "    temp_dep = dep_df_south[dep_df_south['AC'] == f'{dep_category}']\n",
    "    for j, arr_category in enumerate(AC_cat):\n",
    "        temp_arr = arr_df_south[arr_df_south['AC'] == f'{arr_category}']\n",
    "        sns.histplot(ax = axs[j, 4-i], data = temp_dep, x = \"DIST\", kde = True, color = 'navy')\n",
    "        sns.histplot(ax = axs[j, 4-i], data = temp_arr, x = \"DIST\", kde = True, color = 'r')\n",
    "        axs[j, 4-i].axvline(np.mean(temp_dep['DIST']), color='crimson', linestyle = '--', linewidth = 2)\n",
    "        axs[j, 4-i].axvline(np.mean(temp_arr['DIST']), color='crimson', linestyle = '--', linewidth = 2)\n",
    "        axs[j, 4-i].set_title(f'Dep : {dep_category} - Arr : {arr_category}')\n",
    "fig.suptitle('Southflow Wheel On/Off with A/C Weight Class', fontsize = 80)\n",
    "plt.savefig(save_dir + 'south_Wheel.png', bbox_inches='tight', pad_inches=1)\n",
    "# hue = 'RWY' 넣으면 rwy에 따라서도 볼 수 있음 -> 보기 좋지는 않음"
   ]
  },
  {
   "cell_type": "code",
   "execution_count": null,
   "id": "34deef16",
   "metadata": {
    "ExecuteTime": {
     "end_time": "2021-08-10T08:35:20.001533Z",
     "start_time": "2021-08-10T08:35:09.803007Z"
    }
   },
   "outputs": [],
   "source": [
    "# north\n",
    "\n",
    "fig, axs = plt.subplots(5,5, figsize=(50, 50))\n",
    "\n",
    "for i, dep_category in enumerate(AC_cat):\n",
    "    temp_dep = dep_df_north[dep_df_north['AC'] == f'{dep_category}']\n",
    "    for j, arr_category in enumerate(AC_cat):\n",
    "        temp_arr = arr_df_north[arr_df_north['AC'] == f'{arr_category}']\n",
    "        sns.histplot(ax = axs[j, 4-i], data = temp_dep, x = \"DIST\", kde = True, color = 'navy')\n",
    "        sns.histplot(ax = axs[j, 4-i], data = temp_arr, x = \"DIST\", kde = True, color = 'r')\n",
    "        axs[j, 4-i].axvline(np.mean(temp_dep['DIST']), color='crimson', linestyle = '--', linewidth = 2)\n",
    "        axs[j, 4-i].axvline(np.mean(temp_arr['DIST']), color='crimson', linestyle = '--', linewidth = 2)\n",
    "        axs[j, 4-i].set_title(f'Dep : {dep_category} - Arr : {arr_category}')\n",
    "fig.suptitle('Northflow Wheel On/Off with A/C Weight Class', fontsize = 80)\n",
    "plt.savefig(save_dir + 'north_Wheel.png', bbox_inches='tight', pad_inches=1)\n",
    "\n",
    "# hue = 'RWY' 넣으면 rwy에 따라서도 볼 수 있음 -> 보기 좋지는 않음"
   ]
  },
  {
   "cell_type": "markdown",
   "id": "8fdeac11",
   "metadata": {},
   "source": [
    "### Runway Occupancy Time"
   ]
  },
  {
   "cell_type": "code",
   "execution_count": null,
   "id": "1070a08a",
   "metadata": {
    "ExecuteTime": {
     "end_time": "2021-08-10T08:35:36.018475Z",
     "start_time": "2021-08-10T08:35:35.991864Z"
    }
   },
   "outputs": [],
   "source": [
    "def _freetime_(arr_df, dep_df):\n",
    "\n",
    "    # 33L/15R, 33R/15L에 대한 항공기\n",
    "    rightrwy_arr = arr_df[(arr_df['RWY'] == 1) | (arr_df['RWY'] == 2) | (arr_df['RWY'] == 4) | (arr_df['RWY'] == 5)].loc[:,'ROT1':'ROT2']\n",
    "    rightrwy_dep = dep_df[(dep_df['RWY'] == 1) | (dep_df['RWY'] == 2) | (dep_df['RWY'] == 4) | (dep_df['RWY'] == 5)].loc[:,'ROT1':'ROT2']\n",
    "\n",
    "\n",
    "    # total Runway Occupancy Time\n",
    "    totalROT = rightrwy_arr.append(rightrwy_dep).reset_index(drop = True) # totalROT\n",
    "    totalROT['ROT2'] = totalROT['ROT2'].sort_values(ignore_index = True)\n",
    "    totalROT['ROT1'] = totalROT['ROT1'].sort_values(ignore_index = True)\n",
    "\n",
    "\n",
    "    # Occupied Time\n",
    "    occupiedTime = pd.DataFrame(totalROT.iloc[0,:]).T\n",
    "    occupiedTime.columns = ['ROT1', 'ROT2']\n",
    "    nInterval = 0\n",
    "\n",
    "    for i in range(1,len(totalROT)):\n",
    "        if occupiedTime['ROT2'][nInterval] >= totalROT['ROT1'][i]:\n",
    "            if occupiedTime['ROT2'][nInterval] < totalROT['ROT2'][i]:\n",
    "                occupiedTime['ROT2'][nInterval] = totalROT['ROT2'][i]\n",
    "        else:\n",
    "            occupiedTime = occupiedTime.append(pd.DataFrame(np.zeros((1,2)), columns = ['ROT1', 'ROT2']))\n",
    "            nInterval = nInterval + 1\n",
    "            occupiedTime.iloc[nInterval, :] = totalROT.iloc[i,:]\n",
    "            occupiedTime = occupiedTime.reset_index(drop = True)\n",
    "\n",
    "    occupiedTime['ROT1'] = occupiedTime['ROT1'].apply(datenum_to_datetime)\n",
    "    occupiedTime['ROT2'] = occupiedTime['ROT2'].apply(datenum_to_datetime)\n",
    "\n",
    "\n",
    "    # freetime dataframe init\n",
    "    freeTimeDuration = pd.DataFrame(np.zeros((nInterval, 1)))\n",
    "    freeTimeDay = pd.DataFrame(np.zeros((nInterval, 1)))\n",
    "    freeTimeHour = pd.DataFrame(np.zeros((nInterval, 1)))\n",
    "\n",
    "    for i in range(1,nInterval+1):\n",
    "        freeTimeDuration.iloc[i-1,0] = (occupiedTime['ROT1'][i] - occupiedTime['ROT2'][i-1]).seconds\n",
    "        freeTimeDay.iloc[i-1,0] = occupiedTime['ROT2'][i-1].day\n",
    "        freeTimeHour.iloc[i-1,0] = occupiedTime['ROT2'][i-1].hour\n",
    "\n",
    "    temp_freeTimeTot = pd.DataFrame(np.zeros((24, int(freeTimeDay.max()-freeTimeDay.min()+1))))\n",
    "    temp_freeTimeNum = pd.DataFrame(np.zeros((24, int(freeTimeDay.max()-freeTimeDay.min()+1))))\n",
    "    temp_freeTimeMean = pd.DataFrame(np.zeros((24, int(freeTimeDay.max()-freeTimeDay.min()+1))))\n",
    "    temp_freeTimeStd = pd.DataFrame(np.zeros((24, int(freeTimeDay.max()-freeTimeDay.min()+1))))\n",
    "    temp_freeTimeString = pd.DataFrame(np.zeros((24, int(freeTimeDay.max()-freeTimeDay.min()+1))))\n",
    "\n",
    "    # freetime dataframe\n",
    "    freeTimeNext = 0\n",
    "    for j in range(int(freeTimeDay.min()), int(freeTimeDay.max())+1):\n",
    "        for i in range(1,25):\n",
    "            temp_freeTimeString.iloc[i-1, int(j-freeTimeDay.min()[0])] = i-1\n",
    "            ind = freeTimeDay[(freeTimeDay[0] == j)&(freeTimeHour[0] == i-1)].index\n",
    "            temp_freeTimeNum.iloc[i-1, int(j-freeTimeDay.min()[0])] = len(ind)\n",
    "\n",
    "            if len(ind) == 0:\n",
    "                freeTimeNext = 0\n",
    "                continue\n",
    "            if freeTimeNext != 0:\n",
    "                ft = pd.concat([pd.DataFrame([freeTimeNext]), freeTimeDuration.loc[ind]])\n",
    "                freeTimeNext = 0\n",
    "            else:\n",
    "                ft = freeTimeDuration.loc[ind]\n",
    "\n",
    "            if occupiedTime.iloc[ind[-1]+1, 0].hour != i-1:\n",
    "                year = occupiedTime.iloc[ind[-1], 1].year\n",
    "                month = occupiedTime.iloc[ind[-1], 1].month\n",
    "                day = occupiedTime.iloc[ind[-1], 1].day\n",
    "                if i == 24:\n",
    "                    day = day + 1\n",
    "                    i = 0\n",
    "                    freeTimeNext = (ft.iloc[-1,0] - (datetime(year, month, day, i,0) - occupiedTime.iloc[ind[-1],1]).seconds)\n",
    "                    ft.iloc[-1,0] = ft.iloc[-1,0] - freeTimeNext\n",
    "                else:\n",
    "                    freeTimeNext = (ft.iloc[-1,0] - (datetime(year, month, day, i,0) - occupiedTime.iloc[ind[-1],1]).seconds)\n",
    "                    ft.iloc[-1,0] = ft.iloc[-1,0] - freeTimeNext\n",
    "\n",
    "            temp_freeTimeTot.iloc[i-1, int(j-freeTimeDay.min()[0])] = sum(ft[0]/60)\n",
    "            temp_freeTimeMean.iloc[i-1, int(j-freeTimeDay.min()[0])] = np.mean(ft[0]/60)\n",
    "            temp_freeTimeStd.iloc[i-1, int(j-freeTimeDay.min()[0])] = np.std(ft[0]/60)\n",
    "            temp_freetime_df = pd.concat([temp_freeTimeString, temp_freeTimeTot, temp_freeTimeNum, temp_freeTimeMean, temp_freeTimeStd], axis = 1)\n",
    "            temp_freetime_df.columns = list(range(35))\n",
    "\n",
    "    # concat dataframe\n",
    "    temp_freetime = pd.DataFrame()\n",
    "    for j in range(0,35,7):\n",
    "        temp = pd.concat([temp_freetime_df[i] for i in temp_freetime_df.columns[j:j+7]]).reset_index(drop = True)\n",
    "        temp_freetime = pd.concat([temp_freetime, pd.DataFrame(temp)], axis = 1)\n",
    "    temp_freetime.columns = ['Time', 'Total', 'Num', 'Mean', 'Std']\n",
    "    \n",
    "    return temp_freetime"
   ]
  },
  {
   "cell_type": "code",
   "execution_count": null,
   "id": "482e8b40",
   "metadata": {
    "ExecuteTime": {
     "end_time": "2021-08-10T08:40:27.361528Z",
     "start_time": "2021-08-10T08:39:44.327210Z"
    }
   },
   "outputs": [],
   "source": [
    "# 전체 데이터로 freetime만들기 -> 원하는 weight class에 맞는 데이터만 뽑아서 freetime 만들기\n",
    "# south, north 구분 없음 -> dep_df_south 등으로 바꾸면 할 수 있음 \n",
    "\n",
    "day = int(input('Select date [22-28] : '))\n",
    "\n",
    "fig, axs = plt.subplots(5,5, figsize=(50, 50), squeeze = False)\n",
    "\n",
    "for i, dep_category in enumerate(AC_cat):\n",
    "    temp_dep_df = dep_df[dep_df['AC'] == f'{dep_category}']\n",
    "    for j, arr_category in enumerate(AC_cat):\n",
    "        temp_arr_df = arr_df[arr_df['AC'] == f'{arr_category}']\n",
    "        \n",
    "        temp_df = _freetime_(temp_arr_df, temp_dep_df)\n",
    "        temp_df = temp_df[(day - 22) * 24 : ((day - 21)) * 24]\n",
    "        axs[j, 4-i].bar(temp_df['Time'], temp_df['Mean'], color='navy', alpha = 0.9)\n",
    "        axs[j, 4-i].errorbar(temp_df['Time'], temp_df['Mean'], yerr = temp_df['Std'], fmt='1r', capsize=3)\n",
    "        axs[j, 4-i].axhline(np.mean(temp_df['Mean'].iloc[4:]), xmin = 1/6, color='g', linestyle = '--', linewidth = 2)    # 04-24시 평균 수평선\n",
    "        axs[j, 4-i].annotate(np.round(np.mean(temp_df['Mean'].iloc[4:]),1), xy = (24, np.mean(temp_df['Mean'].iloc[4:])), xytext = (25, np.mean(temp_df['Mean'].iloc[4:])))\n",
    "        # sns.barplot(ax = axs[j, 4-i], x = \"Time\", y = \"Mean\", data = temp_df)\n",
    "        axs[j, 4-i].set_title(f'Dep : {dep_category} - Arr : {arr_category}')\n",
    "fig.suptitle(f'Dec{day}th Runway Freetime paired with Weight Class', fontsize = 80)\n",
    "plt.savefig(save_dir + f'Dec{day}_rwyFree.png', bbox_inches='tight', pad_inches=1)"
   ]
  },
  {
   "cell_type": "code",
   "execution_count": null,
   "id": "d81b4765",
   "metadata": {
    "ExecuteTime": {
     "end_time": "2021-08-10T08:40:31.769889Z",
     "start_time": "2021-08-10T08:40:28.074563Z"
    }
   },
   "outputs": [],
   "source": [
    "plt.figsize = (30,30)\n",
    "total_df = _freetime_(arr_df, dep_df)\n",
    "total_df = total_df[(day - 22) * 24 : ((day - 21)) * 24]\n",
    "plt.bar(total_df['Time'], total_df['Mean'], color='navy', alpha = 0.9)\n",
    "plt.errorbar(total_df['Time'], total_df['Mean'], yerr = total_df['Std'], fmt='1r', capsize=3)\n",
    "plt.axhline(np.mean(total_df['Mean'].iloc[4:]), xmin = 1/6, color='g', linestyle = '--', linewidth = 2)    # 04-24시 평균 수평선\n",
    "plt.annotate(np.round(np.mean(total_df['Mean'].iloc[4:]),1), xy = (24, np.mean(total_df['Mean'].iloc[4:])), xytext = (25, np.mean(total_df['Mean'].iloc[4:])))\n",
    "plt.savefig(save_dir + f'Dec{day}_rwyFreeTotal.png', bbox_inches='tight', pad_inches=1)"
   ]
  },
  {
   "cell_type": "markdown",
   "id": "0ae34503",
   "metadata": {},
   "source": [
    "***\n",
    "***\n",
    "***\n",
    "## METAR"
   ]
  },
  {
   "cell_type": "code",
   "execution_count": null,
   "id": "28495606",
   "metadata": {
    "ExecuteTime": {
     "end_time": "2021-08-07T06:25:54.000607Z",
     "start_time": "2021-08-07T06:25:53.986606Z"
    }
   },
   "outputs": [],
   "source": [
    "metar_df = pd.read_csv(f'../input/metar_20191222-20191228.csv', index_col=False, header = 0)\n",
    "metar_df['IssueTime'] = pd.to_datetime(metar_df['IssueTime'])"
   ]
  },
  {
   "cell_type": "code",
   "execution_count": null,
   "id": "6f6ffa0b",
   "metadata": {
    "ExecuteTime": {
     "end_time": "2021-08-07T06:25:54.173937Z",
     "start_time": "2021-08-07T06:25:54.149649Z"
    }
   },
   "outputs": [],
   "source": [
    "dep_df['DensityAltitude'] = 0\n",
    "dep_df['Headwind'] = 0\n",
    "dep_df['Wet'] = 0"
   ]
  },
  {
   "cell_type": "code",
   "execution_count": null,
   "id": "571b8861",
   "metadata": {
    "ExecuteTime": {
     "end_time": "2021-08-07T06:25:54.856546Z",
     "start_time": "2021-08-07T06:25:54.316820Z"
    }
   },
   "outputs": [],
   "source": [
    "for i in range(len(metar_df)-1):\n",
    "    dep_df.loc[dep_df['Time'] >= metar_df['IssueTime'][i], 'DensityAltitude'] = metar_df['DensityAltitude'][i]\n",
    "    dep_df.loc[dep_df['Time'] >= metar_df['IssueTime'][i], 'Headwind'] = metar_df['Headwind'][i]\n",
    "    dep_df.loc[dep_df['Time'] >= metar_df['IssueTime'][i], 'Wet'] = metar_df['Wet'][i]"
   ]
  },
  {
   "cell_type": "code",
   "execution_count": null,
   "id": "191ad204",
   "metadata": {
    "ExecuteTime": {
     "end_time": "2021-08-07T06:25:54.979999Z",
     "start_time": "2021-08-07T06:25:54.966547Z"
    }
   },
   "outputs": [],
   "source": [
    "dep_df_north = dep_df[dep_df['RWY'] <= 3]\n",
    "dep_df_south = dep_df[dep_df['RWY'] > 3]\n",
    "dep_df_north.loc[:,'AC'] = dep_df_north['AC'].map(mapping)\n",
    "dep_df_south.loc[:,'AC'] = dep_df_south['AC'].map(mapping)"
   ]
  },
  {
   "cell_type": "code",
   "execution_count": null,
   "id": "2eb0230d",
   "metadata": {
    "ExecuteTime": {
     "end_time": "2021-08-07T06:25:55.152146Z",
     "start_time": "2021-08-07T06:25:55.108538Z"
    }
   },
   "outputs": [],
   "source": [
    "dep_df_north.describe()"
   ]
  },
  {
   "cell_type": "code",
   "execution_count": null,
   "id": "483f4775",
   "metadata": {
    "ExecuteTime": {
     "end_time": "2021-08-07T06:25:55.280035Z",
     "start_time": "2021-08-07T06:25:55.249989Z"
    }
   },
   "outputs": [],
   "source": [
    "dep_df_south.describe()"
   ]
  },
  {
   "cell_type": "markdown",
   "id": "82d9085d",
   "metadata": {},
   "source": [
    "### Density Altitude"
   ]
  },
  {
   "cell_type": "markdown",
   "id": "400353f8",
   "metadata": {},
   "source": [
    "DA는 Northflow, South flow 모두 max -900 정도로 낮은 DA를 보임 -> 50% 지점에서 나누어도 큰 의미 없음"
   ]
  },
  {
   "cell_type": "code",
   "execution_count": null,
   "id": "b8b6b7a6",
   "metadata": {
    "ExecuteTime": {
     "end_time": "2021-08-07T06:25:55.389616Z",
     "start_time": "2021-08-07T06:25:55.375000Z"
    }
   },
   "outputs": [],
   "source": [
    "dep_df_north_highDA = dep_df_north[dep_df_north['DensityAltitude'] >= -1866.010659]\n",
    "dep_df_north_lowDA = dep_df_north[dep_df_north['DensityAltitude'] < -1866.010659]\n",
    "dep_df_south_highDA = dep_df_south[dep_df_south['DensityAltitude'] >= -1866.010659]\n",
    "dep_df_south_lowDA = dep_df_south[dep_df_south['DensityAltitude'] < -1866.010659]"
   ]
  },
  {
   "cell_type": "code",
   "execution_count": null,
   "id": "55a4147d",
   "metadata": {
    "ExecuteTime": {
     "end_time": "2021-08-07T06:25:57.353833Z",
     "start_time": "2021-08-07T06:25:55.519636Z"
    }
   },
   "outputs": [],
   "source": [
    "plt.figure(figsize=(15, 15))\n",
    "\n",
    "plt.subplot(2,2,1)\n",
    "plt.axvline(np.mean(dep_df_north_highDA['DIST']), color='crimson', linestyle = '--', linewidth = 2)\n",
    "sns.histplot(data = dep_df_north_highDA, x=\"DIST\", kde=True, hue=\"RWY\", multiple='layer')\n",
    "plt.annotate(round(np.mean(dep_df_north_highDA['DIST'])), \n",
    "             xy = (np.mean(dep_df_north_highDA['DIST']), 10),\n",
    "             xytext = (np.mean(dep_df_north_highDA['DIST']), 0))\n",
    "plt.legend(labels = labels1)\n",
    "plt.title('dep_df_north_highDA')\n",
    "\n",
    "plt.subplot(2,2,2)\n",
    "plt.axvline(np.mean(dep_df_north_lowDA['DIST']), color='crimson', linestyle = '--', linewidth = 2)\n",
    "sns.histplot(data = dep_df_north_lowDA, x=\"DIST\", kde=True, hue=\"RWY\", multiple='layer')\n",
    "plt.annotate(round(np.mean(dep_df_north_lowDA['DIST'])), \n",
    "             xy = (np.mean(dep_df_north_lowDA['DIST']), 10),\n",
    "             xytext = (np.mean(dep_df_north_lowDA['DIST']), 0))\n",
    "plt.legend(labels = labels1)\n",
    "plt.title('dep_df_north_lowDA')\n",
    "\n",
    "plt.subplot(2,2,3)\n",
    "plt.axvline(np.mean(dep_df_south_highDA['DIST']), color='crimson', linestyle = '--', linewidth = 2)\n",
    "sns.histplot(data = dep_df_south_highDA, x=\"DIST\", kde=True, hue=\"RWY\", multiple='layer')\n",
    "plt.annotate(round(np.mean(dep_df_south_highDA['DIST'])), \n",
    "             xy = (np.mean(dep_df_south_highDA['DIST']), 10),\n",
    "             xytext = (np.mean(dep_df_south_highDA['DIST']), 0))\n",
    "plt.legend(labels = labels2)\n",
    "plt.title('dep_df_south_highDA')\n",
    "\n",
    "plt.subplot(2,2,4)\n",
    "plt.axvline(np.mean(dep_df_south_lowDA['DIST']), color='crimson', linestyle = '--', linewidth = 2)\n",
    "sns.histplot(data = dep_df_south_lowDA, x=\"DIST\", kde=True, hue=\"RWY\", multiple='layer')\n",
    "plt.annotate(round(np.mean(dep_df_south_lowDA['DIST'])), \n",
    "             xy = (np.mean(dep_df_south_lowDA['DIST']), 10),\n",
    "             xytext = (np.mean(dep_df_south_lowDA['DIST']), 0))\n",
    "plt.legend(labels = labels2)\n",
    "plt.title('dep_df_south_lowDA')\n",
    "\n",
    "plt.savefig(save_dir + 'densityaltitude_dist.png', bbox_inches='tight', pad_inches=1)"
   ]
  },
  {
   "cell_type": "markdown",
   "id": "d14ccba0",
   "metadata": {},
   "source": [
    "### Headwind"
   ]
  },
  {
   "cell_type": "code",
   "execution_count": null,
   "id": "95ec2418",
   "metadata": {
    "ExecuteTime": {
     "end_time": "2021-08-07T06:25:57.494327Z",
     "start_time": "2021-08-07T06:25:57.480794Z"
    }
   },
   "outputs": [],
   "source": [
    "# 10kts기준\n",
    "\n",
    "dep_df_north_highHW = dep_df_north[dep_df_north['Headwind'] >= 10]\n",
    "dep_df_north_lowHW = dep_df_north[dep_df_north['Headwind'] < 10]\n",
    "dep_df_south_highHW = dep_df_south[dep_df_south['Headwind'] >= 10]\n",
    "dep_df_south_lowHW = dep_df_south[dep_df_south['Headwind'] < 10]"
   ]
  },
  {
   "cell_type": "code",
   "execution_count": null,
   "id": "2c78cd4c",
   "metadata": {
    "ExecuteTime": {
     "end_time": "2021-08-07T06:25:59.483878Z",
     "start_time": "2021-08-07T06:25:57.642654Z"
    }
   },
   "outputs": [],
   "source": [
    "plt.figure(figsize=(15, 15))\n",
    "\n",
    "plt.subplot(2,2,1)\n",
    "plt.axvline(np.mean(dep_df_north_highHW['DIST']), color='crimson', linestyle = '--', linewidth = 2)\n",
    "sns.histplot(data = dep_df_north_highHW, x=\"DIST\", kde=True, hue=\"RWY\", multiple='layer')\n",
    "plt.annotate(round(np.mean(dep_df_north_highHW['DIST'])), \n",
    "             xy = (np.mean(dep_df_north_highHW['DIST']), 10),\n",
    "             xytext = (np.mean(dep_df_north_highHW['DIST']), 0))\n",
    "plt.legend(labels = labels1)\n",
    "plt.title('dep_df_north_highHW')\n",
    "\n",
    "plt.subplot(2,2,2)\n",
    "plt.axvline(np.mean(dep_df_north_lowHW['DIST']), color='crimson', linestyle = '--', linewidth = 2)\n",
    "sns.histplot(data = dep_df_north_lowHW, x=\"DIST\", kde=True, hue=\"RWY\", multiple='layer')\n",
    "plt.annotate(round(np.mean(dep_df_north_lowHW['DIST'])), \n",
    "             xy = (np.mean(dep_df_north_lowHW['DIST']), 10),\n",
    "             xytext = (np.mean(dep_df_north_lowHW['DIST']), 0))\n",
    "plt.legend(labels = labels1)\n",
    "plt.title('dep_df_north_lowHW')\n",
    "\n",
    "plt.subplot(2,2,3)\n",
    "plt.axvline(np.mean(dep_df_south_highHW['DIST']), color='crimson', linestyle = '--', linewidth = 2)\n",
    "sns.histplot(data = dep_df_south_highHW, x=\"DIST\", kde=True, hue=\"RWY\", multiple='layer')\n",
    "plt.annotate(round(np.mean(dep_df_south_highHW['DIST'])), \n",
    "             xy = (np.mean(dep_df_south_highHW['DIST']), 10),\n",
    "             xytext = (np.mean(dep_df_south_highHW['DIST']), 0))\n",
    "plt.legend(labels = labels2)\n",
    "plt.title('dep_df_south_highHW')\n",
    "\n",
    "plt.subplot(2,2,4)\n",
    "plt.axvline(np.mean(dep_df_south_lowHW['DIST']), color='crimson', linestyle = '--', linewidth = 2)\n",
    "sns.histplot(data = dep_df_south_lowHW, x=\"DIST\", kde=True, hue=\"RWY\", multiple='layer')\n",
    "plt.annotate(round(np.mean(dep_df_south_lowHW['DIST'])), \n",
    "             xy = (np.mean(dep_df_south_lowHW['DIST']), 10),\n",
    "             xytext = (np.mean(dep_df_south_lowHW['DIST']), 0))\n",
    "plt.legend(labels = labels2)\n",
    "plt.title('dep_df_south_lowHW')\n",
    "\n",
    "plt.savefig(save_dir + 'headwind_dist.png', bbox_inches='tight', pad_inches=1)"
   ]
  },
  {
   "cell_type": "markdown",
   "id": "7daa18d3",
   "metadata": {},
   "source": [
    "### Runway Condition"
   ]
  },
  {
   "cell_type": "code",
   "execution_count": null,
   "id": "583a03e5",
   "metadata": {
    "ExecuteTime": {
     "end_time": "2021-08-07T06:25:59.640511Z",
     "start_time": "2021-08-07T06:25:59.626512Z"
    }
   },
   "outputs": [],
   "source": [
    "dep_df_north_Wet= dep_df_north[dep_df_north['Wet'] == 1]\n",
    "dep_df_north_notWet = dep_df_north[dep_df_north['Wet'] == 0]\n",
    "dep_df_south_Wet = dep_df_south[dep_df_south['Wet'] == 1]\n",
    "dep_df_south_notWet = dep_df_south[dep_df_south['Wet'] == 0]"
   ]
  },
  {
   "cell_type": "code",
   "execution_count": null,
   "id": "e85aaab5",
   "metadata": {
    "ExecuteTime": {
     "end_time": "2021-08-07T06:26:01.724023Z",
     "start_time": "2021-08-07T06:25:59.800713Z"
    }
   },
   "outputs": [],
   "source": [
    "plt.figure(figsize=(15, 15))\n",
    "\n",
    "plt.subplot(2,2,1)\n",
    "plt.axvline(np.mean(dep_df_north_Wet['DIST']), color='crimson', linestyle = '--', linewidth = 2)\n",
    "sns.histplot(data = dep_df_north_Wet, x=\"DIST\", kde=True, hue=\"RWY\", multiple='layer')\n",
    "plt.annotate(round(np.mean(dep_df_north_Wet['DIST'])), \n",
    "             xy = (np.mean(dep_df_north_Wet['DIST']), 10),\n",
    "             xytext = (np.mean(dep_df_north_Wet['DIST']), 0))\n",
    "plt.legend(labels = labels1)\n",
    "plt.title('dep_df_north_Wet')\n",
    "\n",
    "plt.subplot(2,2,2)\n",
    "plt.axvline(np.mean(dep_df_north_notWet['DIST']), color='crimson', linestyle = '--', linewidth = 2)\n",
    "sns.histplot(data = dep_df_north_notWet, x=\"DIST\", kde=True, hue=\"RWY\", multiple='layer')\n",
    "plt.annotate(round(np.mean(dep_df_north_notWet['DIST'])), \n",
    "             xy = (np.mean(dep_df_north_notWet['DIST']), 10),\n",
    "             xytext = (np.mean(dep_df_north_notWet['DIST']), 0))\n",
    "plt.legend(labels = labels1)\n",
    "plt.title('dep_df_north_notWet')\n",
    "\n",
    "plt.subplot(2,2,3)\n",
    "plt.axvline(np.mean(dep_df_south_Wet['DIST']), color='crimson', linestyle = '--', linewidth = 2)\n",
    "sns.histplot(data = dep_df_south_Wet, x=\"DIST\", kde=True, hue=\"RWY\", multiple='layer')\n",
    "plt.annotate(round(np.mean(dep_df_south_Wet['DIST'])), \n",
    "             xy = (np.mean(dep_df_south_Wet['DIST']), 10),\n",
    "             xytext = (np.mean(dep_df_south_Wet['DIST']), 0))\n",
    "plt.legend(labels = labels2)\n",
    "plt.title('dep_df_south_Wet')\n",
    "\n",
    "plt.subplot(2,2,4)\n",
    "plt.axvline(np.mean(dep_df_south_notWet['DIST']), color='crimson', linestyle = '--', linewidth = 2)\n",
    "sns.histplot(data = dep_df_south_notWet, x=\"DIST\", kde=True, hue=\"RWY\", multiple='layer')\n",
    "plt.annotate(round(np.mean(dep_df_south_notWet['DIST'])), \n",
    "             xy = (np.mean(dep_df_south_notWet['DIST']), 10),\n",
    "             xytext = (np.mean(dep_df_south_notWet['DIST']), 0))\n",
    "plt.legend(labels = labels2)\n",
    "plt.title('dep_df_south_Wet')\n",
    "\n",
    "plt.savefig(save_dir + 'rwycondition_dist.png', bbox_inches='tight', pad_inches=1)"
   ]
  },
  {
   "cell_type": "markdown",
   "id": "1a37201a",
   "metadata": {},
   "source": [
    "## ML??"
   ]
  },
  {
   "cell_type": "code",
   "execution_count": null,
   "id": "3ed17e60",
   "metadata": {
    "ExecuteTime": {
     "end_time": "2021-08-07T06:26:01.909881Z",
     "start_time": "2021-08-07T06:26:01.879995Z"
    }
   },
   "outputs": [],
   "source": [
    "dep_df_north"
   ]
  },
  {
   "cell_type": "code",
   "execution_count": null,
   "id": "2b95d756",
   "metadata": {},
   "outputs": [],
   "source": [
    "# ground speed를 가져오면 도움이 될까?"
   ]
  },
  {
   "cell_type": "markdown",
   "id": "a7257cf8",
   "metadata": {},
   "source": [
    "## Sensitivity Analysis"
   ]
  },
  {
   "cell_type": "code",
   "execution_count": null,
   "id": "379d01b4",
   "metadata": {
    "ExecuteTime": {
     "end_time": "2021-08-07T06:35:50.087923Z",
     "start_time": "2021-08-07T06:35:50.076398Z"
    }
   },
   "outputs": [],
   "source": [
    "import statistics"
   ]
  },
  {
   "cell_type": "code",
   "execution_count": null,
   "id": "b51361f3",
   "metadata": {
    "ExecuteTime": {
     "end_time": "2021-08-07T06:36:31.783796Z",
     "start_time": "2021-08-07T06:36:31.761808Z"
    }
   },
   "outputs": [],
   "source": [
    "for i in list(set(dep_df_north['AC'].values))[1:]:\n",
    "    print(f'{str(i)} : ' , statistics.stdev(dep_df_north[dep_df_north['AC'] == i]['DIST']))    # 무게별로 sd\n"
   ]
  },
  {
   "cell_type": "code",
   "execution_count": null,
   "id": "cbdff7ed",
   "metadata": {
    "ExecuteTime": {
     "end_time": "2021-08-07T06:27:05.260857Z",
     "start_time": "2021-08-07T06:27:04.898461Z"
    }
   },
   "outputs": [],
   "source": [
    "sns.scatterplot(data=dep_df_north, x=\"Headwind\", y=\"DIST\", hue = 'AC')"
   ]
  }
 ],
 "metadata": {
  "kernelspec": {
   "display_name": "Python 3",
   "language": "python",
   "name": "python3"
  },
  "language_info": {
   "codemirror_mode": {
    "name": "ipython",
    "version": 3
   },
   "file_extension": ".py",
   "mimetype": "text/x-python",
   "name": "python",
   "nbconvert_exporter": "python",
   "pygments_lexer": "ipython3",
   "version": "3.8.10"
  },
  "toc": {
   "base_numbering": 1,
   "nav_menu": {},
   "number_sections": true,
   "sideBar": true,
   "skip_h1_title": false,
   "title_cell": "Table of Contents",
   "title_sidebar": "Contents",
   "toc_cell": false,
   "toc_position": {
    "height": "calc(100% - 180px)",
    "left": "10px",
    "top": "150px",
    "width": "212.475px"
   },
   "toc_section_display": true,
   "toc_window_display": true
  },
  "varInspector": {
   "cols": {
    "lenName": 16,
    "lenType": 16,
    "lenVar": 40
   },
   "kernels_config": {
    "python": {
     "delete_cmd_postfix": "",
     "delete_cmd_prefix": "del ",
     "library": "var_list.py",
     "varRefreshCmd": "print(var_dic_list())"
    },
    "r": {
     "delete_cmd_postfix": ") ",
     "delete_cmd_prefix": "rm(",
     "library": "var_list.r",
     "varRefreshCmd": "cat(var_dic_list()) "
    }
   },
   "types_to_exclude": [
    "module",
    "function",
    "builtin_function_or_method",
    "instance",
    "_Feature"
   ],
   "window_display": false
  }
 },
 "nbformat": 4,
 "nbformat_minor": 5
}
