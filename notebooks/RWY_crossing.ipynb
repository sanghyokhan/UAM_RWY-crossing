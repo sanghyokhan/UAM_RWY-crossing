{
 "cells": [
  {
   "cell_type": "code",
   "execution_count": 3,
   "id": "f31b0c23",
   "metadata": {
    "ExecuteTime": {
     "end_time": "2021-08-03T10:27:12.412686Z",
     "start_time": "2021-08-03T10:27:12.393539Z"
    }
   },
   "outputs": [],
   "source": [
    "import pandas as pd\n",
    "import numpy as np\n"
   ]
  },
  {
   "cell_type": "code",
   "execution_count": 20,
   "id": "bae39666",
   "metadata": {
    "ExecuteTime": {
     "end_time": "2021-08-03T10:29:40.922512Z",
     "start_time": "2021-08-03T10:29:40.490894Z"
    }
   },
   "outputs": [],
   "source": [
    "df = pd.read_csv('../input/tp1_20191221_150000_Cat20.ast_Mlat.csv', index_col=False, header = 1)"
   ]
  },
  {
   "cell_type": "code",
   "execution_count": 22,
   "id": "c0e6e179",
   "metadata": {
    "ExecuteTime": {
     "end_time": "2021-08-03T10:29:56.178069Z",
     "start_time": "2021-08-03T10:29:56.091613Z"
    }
   },
   "outputs": [
    {
     "name": "stdout",
     "output_type": "stream",
     "text": [
      "<class 'pandas.core.frame.DataFrame'>\n",
      "RangeIndex: 63996 entries, 0 to 63995\n",
      "Data columns (total 28 columns):\n",
      " #   Column        Non-Null Count  Dtype  \n",
      "---  ------        --------------  -----  \n",
      " 0   #Type         63996 non-null  object \n",
      " 1   TimeGet       63996 non-null  object \n",
      " 2   TimeStamp     63996 non-null  object \n",
      " 3   Index         63996 non-null  int64  \n",
      " 4   Hour          63996 non-null  int64  \n",
      " 5   Min           63996 non-null  int64  \n",
      " 6   Sec           63996 non-null  int64  \n",
      " 7   Latitude      63996 non-null  float64\n",
      " 8   Longitude     63996 non-null  float64\n",
      " 9   BAlt          63996 non-null  object \n",
      " 10  MeasuredFL    63996 non-null  object \n",
      " 11  GroudSpeed    63996 non-null  float64\n",
      " 12  TrackAngle    63996 non-null  float64\n",
      " 13  Mode3A        63996 non-null  object \n",
      " 14  ModeSIdent    63996 non-null  object \n",
      " 15  TimeOfDay     63996 non-null  int64  \n",
      " 16  TrackNo       63996 non-null  int64  \n",
      " 17  X(m)          63996 non-null  float64\n",
      " 18  Y(m)          63996 non-null  float64\n",
      " 19  SpeedX(m/s)   63996 non-null  float64\n",
      " 20  SpeedY(m/s)   63996 non-null  float64\n",
      " 21  VRate(m/s)    63996 non-null  object \n",
      " 22  AccelX(m/s2)  63996 non-null  object \n",
      " 23  AccelY(m/s2)  63996 non-null  object \n",
      " 24  SAC           63996 non-null  int64  \n",
      " 25  SIC           63996 non-null  int64  \n",
      " 26  CODE          63996 non-null  object \n",
      " 27  FDPCallSign   63996 non-null  object \n",
      "dtypes: float64(8), int64(8), object(12)\n",
      "memory usage: 13.7+ MB\n"
     ]
    }
   ],
   "source": [
    "df.info()"
   ]
  },
  {
   "cell_type": "code",
   "execution_count": null,
   "id": "c98fae11",
   "metadata": {},
   "outputs": [],
   "source": []
  }
 ],
 "metadata": {
  "kernelspec": {
   "display_name": "Python 3",
   "language": "python",
   "name": "python3"
  },
  "language_info": {
   "codemirror_mode": {
    "name": "ipython",
    "version": 3
   },
   "file_extension": ".py",
   "mimetype": "text/x-python",
   "name": "python",
   "nbconvert_exporter": "python",
   "pygments_lexer": "ipython3",
   "version": "3.8.10"
  },
  "toc": {
   "base_numbering": 1,
   "nav_menu": {},
   "number_sections": true,
   "sideBar": true,
   "skip_h1_title": false,
   "title_cell": "Table of Contents",
   "title_sidebar": "Contents",
   "toc_cell": false,
   "toc_position": {},
   "toc_section_display": true,
   "toc_window_display": false
  },
  "varInspector": {
   "cols": {
    "lenName": 16,
    "lenType": 16,
    "lenVar": 40
   },
   "kernels_config": {
    "python": {
     "delete_cmd_postfix": "",
     "delete_cmd_prefix": "del ",
     "library": "var_list.py",
     "varRefreshCmd": "print(var_dic_list())"
    },
    "r": {
     "delete_cmd_postfix": ") ",
     "delete_cmd_prefix": "rm(",
     "library": "var_list.r",
     "varRefreshCmd": "cat(var_dic_list()) "
    }
   },
   "types_to_exclude": [
    "module",
    "function",
    "builtin_function_or_method",
    "instance",
    "_Feature"
   ],
   "window_display": false
  }
 },
 "nbformat": 4,
 "nbformat_minor": 5
}
