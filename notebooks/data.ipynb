{
 "cells": [
  {
   "cell_type": "code",
   "execution_count": null,
   "id": "24bd32ef",
   "metadata": {},
   "outputs": [],
   "source": [
    "import pandas as pd\n",
    "import numpy as np\n",
    "import matplotlib.pyplot as plt\n",
    "import warnings\n",
    "from datetime import datetime"
   ]
  },
  {
   "cell_type": "markdown",
   "id": "878fe108",
   "metadata": {},
   "source": [
    "## Flightplan"
   ]
  },
  {
   "cell_type": "code",
   "execution_count": null,
   "id": "f303b39e",
   "metadata": {},
   "outputs": [],
   "source": [
    "arr_df = pd.DataFrame()\n",
    "dep_df = pd.DataFrame()"
   ]
  },
  {
   "cell_type": "code",
   "execution_count": null,
   "id": "1c150e72",
   "metadata": {},
   "outputs": [],
   "source": [
    "daterange = pd.date_range(start='12/22/2019', end='12/28/2019').strftime('%Y%m%d')"
   ]
  },
  {
   "cell_type": "code",
   "execution_count": null,
   "id": "cbe9d322",
   "metadata": {},
   "outputs": [],
   "source": [
    "for date in daterange.tolist():\n",
    "    arr = pd.read_excel(f'../data/flightplan/arr_{date}.xlsx', header = 0)\n",
    "    dep = pd.read_excel(f'../data/flightplan/dep_{date}.xlsx', header = 0)\n",
    "    datee = datetime.strptime(date,'%Y%m%d').strftime('%Y-%m-%d')\n",
    "    arr['SDT'] = datee\n",
    "    dep['SDT'] = datee\n",
    "    arr_df = pd.concat([arr_df, arr])\n",
    "    dep_df = pd.concat([dep_df, dep])"
   ]
  },
  {
   "cell_type": "code",
   "execution_count": null,
   "id": "fa0e57c0",
   "metadata": {},
   "outputs": [],
   "source": [
    "arr_df = arr_df.drop('Seq', axis = 1)\n",
    "dep_df = dep_df.drop('Seq', axis = 1)"
   ]
  },
  {
   "cell_type": "code",
   "execution_count": null,
   "id": "dd420d94",
   "metadata": {},
   "outputs": [],
   "source": [
    "arr_df.to_csv('../input/arr_fp_20191222-20191228.csv')\n",
    "dep_df.to_csv('../input/dep_fp_20191222-20191228.csv')"
   ]
  },
  {
   "cell_type": "code",
   "execution_count": null,
   "id": "209ac632",
   "metadata": {},
   "outputs": [],
   "source": [
    "# ACDM하고 데이터를 합칠 수 있을까?? -> 활주로 정보 넣기\n",
    "# Traj0501 = io.loadmat(data_file)\n"
   ]
  },
  {
   "cell_type": "markdown",
   "id": "c7d89b5d",
   "metadata": {},
   "source": [
    "## Takeoff Distance"
   ]
  },
  {
   "cell_type": "markdown",
   "id": "79d8eb0c",
   "metadata": {
    "ExecuteTime": {
     "end_time": "2021-08-05T08:16:33.159586Z",
     "start_time": "2021-08-05T08:16:33.141292Z"
    }
   },
   "source": [
    "T/O Distance \n",
    "\n",
    "- OAT, Pressure Altitude <br>\n",
    "\t-> METAR에서 가져올 수 있을 듯\n",
    "\t-> Density Altitude를 구하고 변수로 넣기\n",
    "\n",
    "- Gross Weight <br>\n",
    "\t-> 이게 애매하단 말이지...\n",
    "\t-> 기종 별로는 할 수 있음\n",
    "\n",
    "- Wind components <br>\n",
    "\t-> METAR에서 가져오기\n",
    "\t-> Headwind, Tailwind 성분만 가지고 하기\n",
    "\n",
    "- RWY condition <br>\n",
    "\t-> METAR에서 가져오기\n",
    "\t-> Wet rwy \n",
    "\t-> RWY slope는 rksi = 0\n",
    "\n",
    "\n",
    "*** T/O speed varies with T/O Weight"
   ]
  },
  {
   "cell_type": "code",
   "execution_count": null,
   "id": "1f663227",
   "metadata": {},
   "outputs": [],
   "source": [
    "metar_data"
   ]
  },
  {
   "cell_type": "code",
   "execution_count": null,
   "id": "bc56a1ed",
   "metadata": {},
   "outputs": [],
   "source": []
  },
  {
   "cell_type": "code",
   "execution_count": null,
   "id": "06079c32",
   "metadata": {},
   "outputs": [],
   "source": []
  }
 ],
 "metadata": {
  "kernelspec": {
   "display_name": "Python 3",
   "language": "python",
   "name": "python3"
  },
  "language_info": {
   "codemirror_mode": {
    "name": "ipython",
    "version": 3
   },
   "file_extension": ".py",
   "mimetype": "text/x-python",
   "name": "python",
   "nbconvert_exporter": "python",
   "pygments_lexer": "ipython3",
   "version": "3.8.10"
  },
  "toc": {
   "base_numbering": 1,
   "nav_menu": {},
   "number_sections": true,
   "sideBar": true,
   "skip_h1_title": false,
   "title_cell": "Table of Contents",
   "title_sidebar": "Contents",
   "toc_cell": false,
   "toc_position": {},
   "toc_section_display": true,
   "toc_window_display": false
  },
  "varInspector": {
   "cols": {
    "lenName": 16,
    "lenType": 16,
    "lenVar": 40
   },
   "kernels_config": {
    "python": {
     "delete_cmd_postfix": "",
     "delete_cmd_prefix": "del ",
     "library": "var_list.py",
     "varRefreshCmd": "print(var_dic_list())"
    },
    "r": {
     "delete_cmd_postfix": ") ",
     "delete_cmd_prefix": "rm(",
     "library": "var_list.r",
     "varRefreshCmd": "cat(var_dic_list()) "
    }
   },
   "types_to_exclude": [
    "module",
    "function",
    "builtin_function_or_method",
    "instance",
    "_Feature"
   ],
   "window_display": false
  }
 },
 "nbformat": 4,
 "nbformat_minor": 5
}
