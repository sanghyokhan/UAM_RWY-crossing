{
 "cells": [
  {
   "cell_type": "code",
   "execution_count": 1,
   "id": "e2f33700",
   "metadata": {
    "ExecuteTime": {
     "end_time": "2021-08-05T10:36:59.495132Z",
     "start_time": "2021-08-05T10:36:58.631132Z"
    }
   },
   "outputs": [],
   "source": [
    "import pandas as pd\n",
    "import numpy as np\n",
    "import matplotlib.pyplot as plt\n",
    "import warnings\n",
    "from datetime import datetime\n",
    "import re\n",
    "import warnings\n",
    "import math"
   ]
  },
  {
   "cell_type": "code",
   "execution_count": 2,
   "id": "657c9cc1",
   "metadata": {
    "ExecuteTime": {
     "end_time": "2021-08-05T10:36:59.575149Z",
     "start_time": "2021-08-05T10:36:59.565180Z"
    }
   },
   "outputs": [],
   "source": [
    "warnings.simplefilter('ignore')"
   ]
  },
  {
   "cell_type": "markdown",
   "id": "3b5860f0",
   "metadata": {},
   "source": [
    "## Flightplan"
   ]
  },
  {
   "cell_type": "code",
   "execution_count": null,
   "id": "ea5719be",
   "metadata": {},
   "outputs": [],
   "source": [
    "arr_df = pd.DataFrame()\n",
    "dep_df = pd.DataFrame()"
   ]
  },
  {
   "cell_type": "code",
   "execution_count": null,
   "id": "7fb38990",
   "metadata": {},
   "outputs": [],
   "source": [
    "daterange = pd.date_range(start='12/22/2019', end='12/28/2019').strftime('%Y%m%d')"
   ]
  },
  {
   "cell_type": "code",
   "execution_count": null,
   "id": "c4416e4a",
   "metadata": {},
   "outputs": [],
   "source": [
    "for date in daterange.tolist():\n",
    "    arr = pd.read_excel(f'../data/flightplan/arr_{date}.xlsx', header = 0)\n",
    "    dep = pd.read_excel(f'../data/flightplan/dep_{date}.xlsx', header = 0)\n",
    "    datee = datetime.strptime(date,'%Y%m%d').strftime('%Y-%m-%d')\n",
    "    arr['SDT'] = datee\n",
    "    dep['SDT'] = datee\n",
    "    arr_df = pd.concat([arr_df, arr])\n",
    "    dep_df = pd.concat([dep_df, dep])"
   ]
  },
  {
   "cell_type": "code",
   "execution_count": null,
   "id": "4b4db7e2",
   "metadata": {},
   "outputs": [],
   "source": [
    "arr_df = arr_df.drop('Seq', axis = 1)\n",
    "dep_df = dep_df.drop('Seq', axis = 1)"
   ]
  },
  {
   "cell_type": "code",
   "execution_count": null,
   "id": "574f9afe",
   "metadata": {},
   "outputs": [],
   "source": [
    "arr_df.to_csv('../input/arr_fp_20191222-20191228.csv')\n",
    "dep_df.to_csv('../input/dep_fp_20191222-20191228.csv')"
   ]
  },
  {
   "cell_type": "code",
   "execution_count": null,
   "id": "76dc1b75",
   "metadata": {},
   "outputs": [],
   "source": [
    "# ACDM하고 데이터를 합칠 수 있을까?? -> 활주로 정보 넣기\n",
    "# Traj0501 = io.loadmat(data_file)\n"
   ]
  },
  {
   "cell_type": "markdown",
   "id": "9fe8f258",
   "metadata": {},
   "source": [
    "## Takeoff Distance"
   ]
  },
  {
   "cell_type": "markdown",
   "id": "47f40fc7",
   "metadata": {
    "ExecuteTime": {
     "end_time": "2021-08-05T08:16:33.159586Z",
     "start_time": "2021-08-05T08:16:33.141292Z"
    }
   },
   "source": [
    "T/O Distance \n",
    "\n",
    "- OAT, Pressure Altitude <br>\n",
    "\t-> METAR에서 가져올 수 있을 듯\n",
    "\t-> Density Altitude를 구하고 변수로 넣기\n",
    "\n",
    "- Gross Weight <br>\n",
    "\t-> 이게 애매하단 말이지...\n",
    "\t-> 기종 별로는 할 수 있음\n",
    "\n",
    "- Wind components <br>\n",
    "\t-> METAR에서 가져오기\n",
    "\t-> Headwind, Tailwind 성분만 가지고 하기\n",
    "\n",
    "- RWY condition <br>\n",
    "\t-> METAR에서 가져오기\n",
    "\t-> Wet rwy \n",
    "\t-> RWY slope는 rksi = 0\n",
    "\n",
    "\n",
    "*** T/O speed varies with T/O Weight"
   ]
  },
  {
   "cell_type": "markdown",
   "id": "e57f9ab9",
   "metadata": {},
   "source": [
    "### METAR"
   ]
  },
  {
   "cell_type": "code",
   "execution_count": 3,
   "id": "14e6a13b",
   "metadata": {
    "ExecuteTime": {
     "end_time": "2021-08-05T10:37:04.156329Z",
     "start_time": "2021-08-05T10:37:03.228758Z"
    }
   },
   "outputs": [],
   "source": [
    "metar_data = pd.read_excel('../data/METAR_20191222-20191228.xlsx', header = 0)"
   ]
  },
  {
   "cell_type": "code",
   "execution_count": 4,
   "id": "c4716490",
   "metadata": {
    "ExecuteTime": {
     "end_time": "2021-08-05T10:37:05.367344Z",
     "start_time": "2021-08-05T10:37:05.266462Z"
    }
   },
   "outputs": [],
   "source": [
    "# pressure column만들기\n",
    "\n",
    "metar_data['Pres'] = np.zeros(len(metar_data))\n",
    "pattern_pres = 'Q[0-9][0-9][0-9][0-9]'\n",
    "\n",
    "for i in range(len(metar_data)):\n",
    "    pres = re.search(pattern_pres, metar_data['Original Message'][i])\n",
    "    metar_data['Pres'][i] = int(pres.group()[1:])"
   ]
  },
  {
   "cell_type": "code",
   "execution_count": 5,
   "id": "affd9478",
   "metadata": {
    "ExecuteTime": {
     "end_time": "2021-08-05T10:37:05.820006Z",
     "start_time": "2021-08-05T10:37:05.713014Z"
    }
   },
   "outputs": [],
   "source": [
    "# dewpoint column 만들기\n",
    "\n",
    "metar_data['Due'] = np.zeros(len(metar_data))\n",
    "pattern_due = '/..[0-9]|/.[0-9]'\n",
    "\n",
    "for i in range(len(metar_data)):\n",
    "    due = re.search(pattern_due, metar_data['Original Message'][i])\n",
    "    if due.group()[1] == 'M':\n",
    "        due = int(due.group()[2:]) * (-1)\n",
    "    else:\n",
    "        due = int(due.group()[1:])\n",
    "        \n",
    "    metar_data['Due'][i] = due"
   ]
  },
  {
   "cell_type": "code",
   "execution_count": 6,
   "id": "8269ce3a",
   "metadata": {
    "ExecuteTime": {
     "end_time": "2021-08-05T10:37:06.167518Z",
     "start_time": "2021-08-05T10:37:06.052570Z"
    }
   },
   "outputs": [],
   "source": [
    "# density altitude 계산하기\n",
    "\n",
    "metar_data['DA'] = np.zeros(len(metar_data))\n",
    "fe = 7    # field elevation in meters\n",
    "\n",
    "for i in range(len(metar_data)):\n",
    "    pres = metar_data['Pres'][i]\n",
    "    temp = metar_data['Temp'][i]\n",
    "    due = metar_data['Due'][i]\n",
    "\n",
    "    # station pressure (https://www.weather.gov/media/epz/wxcalc/stationPressure.pdf)\n",
    "    station_pressure_inHg = pres * 0.0295300  * (((288 - (0.0065 * fe))/288)**(5.2561))\n",
    "    station_pressure_mil = station_pressure_inHg * 33.8639\n",
    "\n",
    "    # density altitude (https://www.weather.gov/media/epz/wxcalc/densityAltitude.pdf)\n",
    "    vapor_pressure = 6.11 * (10 **((7.5 * due) / (237.7 + due)))\n",
    "    tv_kelvin = (temp + 273.15) / (1 - ((vapor_pressure / station_pressure_mil) * (1 - 0.622)))  # Kelvin\n",
    "    tv_rankine = (tv_kelvin * 9 / 5)\n",
    "    da = 145366 * ( 1 - ((17.326 * station_pressure_mil * 0.029530 / tv_rankine )**(0.235)))\n",
    "    \n",
    "    metar_data['DA'][i] = da\n"
   ]
  },
  {
   "cell_type": "code",
   "execution_count": 7,
   "id": "b29056f5",
   "metadata": {
    "ExecuteTime": {
     "end_time": "2021-08-05T10:37:06.745792Z",
     "start_time": "2021-08-05T10:37:06.492159Z"
    }
   },
   "outputs": [],
   "source": [
    "# Headwind Components - 아마 바람 방향 바뀌면 바로 활주로 방향 바꾸니까 그냥 cos 때리자\n",
    "\n",
    "# rksi rwy15,16 true bearing = 144.66 degree\n",
    "\n",
    "metar_data['Headwind'] = np.zeros(len(metar_data))\n",
    "metar_data['Crosswind'] = np.zeros(len(metar_data))\n",
    "\n",
    "pattern_wind = '[0-9]...[0-9]KT'\n",
    "\n",
    "for i in range(len(metar_data)):\n",
    "    wind = re.search(pattern_wind, metar_data['Original Message'][i])\n",
    "    metar_data['WD'][i] = int(wind.group()[0:3])\n",
    "    deg = metar_data['WD'][i] - 144.66\n",
    "    headwind = metar_data['WS'][i] * np.cos(deg * math.pi/180)\n",
    "    crosswind = metar_data['WS'][i] * np.sin(deg * math.pi/180)\n",
    "    metar_data['Headwind'][i] = headwind\n",
    "    metar_data['Crosswind'][i] = abs(crosswind)"
   ]
  },
  {
   "cell_type": "code",
   "execution_count": 8,
   "id": "6d96ccea",
   "metadata": {
    "ExecuteTime": {
     "end_time": "2021-08-05T10:37:06.952038Z",
     "start_time": "2021-08-05T10:37:06.930024Z"
    }
   },
   "outputs": [],
   "source": [
    "# Wet Runway\n",
    "# 현천을 표시 안한 METAR가 많네...\n",
    "# 비, 눈 오면 wet으로 1로 넣기 ...... dz는?? \n",
    "\n",
    "metar_data['Wet'] = np.zeros(len(metar_data))\n",
    "pattern_wc = 'CAVOK|NSW|TS|DZ|RA|SN|SG|IC|PL|GR|GS|BR|FG|FU|VA|DU|SA|HZ|SQ|FC|SS|DS'\n",
    "\n",
    "for i in range(len(metar_data)):\n",
    "    wc = re.search(pattern_wc, metar_data['Original Message'][i])\n",
    "    # metar_data['Wet'][i] = wc.group()\n"
   ]
  },
  {
   "cell_type": "code",
   "execution_count": null,
   "id": "2e7caf48",
   "metadata": {},
   "outputs": [],
   "source": []
  },
  {
   "cell_type": "code",
   "execution_count": null,
   "id": "8f04b1b5",
   "metadata": {},
   "outputs": [],
   "source": []
  },
  {
   "cell_type": "code",
   "execution_count": null,
   "id": "13497fde",
   "metadata": {},
   "outputs": [],
   "source": []
  },
  {
   "cell_type": "code",
   "execution_count": null,
   "id": "ee64c549",
   "metadata": {},
   "outputs": [],
   "source": []
  },
  {
   "cell_type": "code",
   "execution_count": 10,
   "id": "49e2a08b",
   "metadata": {
    "ExecuteTime": {
     "end_time": "2021-08-05T10:37:23.820969Z",
     "start_time": "2021-08-05T10:37:23.786940Z"
    }
   },
   "outputs": [],
   "source": [
    "metar_data.to_csv('../input/metar_20191222-20191228.csv')"
   ]
  },
  {
   "cell_type": "code",
   "execution_count": null,
   "id": "5d6e3258",
   "metadata": {
    "ExecuteTime": {
     "end_time": "2021-08-05T09:16:04.441171Z",
     "start_time": "2021-08-05T09:16:04.426164Z"
    }
   },
   "outputs": [],
   "source": [
    "# DA in feets\n",
    "\n",
    "\"\"\"\n",
    "pres = 1016.2552\n",
    "temp = 24\n",
    "due = 23\n",
    "fe = 17\n",
    "\n",
    "# station pressure (https://www.weather.gov/media/epz/wxcalc/stationPressure.pdf)\n",
    "station_pressure_inHg = pres * 0.0295300  * (((288 - (0.0065 * fe))/288)**(5.2561))\n",
    "station_pressure_mil = station_pressure_inHg * 33.8639\n",
    "\n",
    "# density altitude (https://www.weather.gov/media/epz/wxcalc/densityAltitude.pdf)\n",
    "vapor_pressure = 6.11 * (10 **((7.5 * due) / (237.7 + due)))\n",
    "tv_kelvin = (temp + 273.15) / (1 - ((vapor_pressure / station_pressure_mil) * (1 - 0.622)))  # Kelvin\n",
    "tv_rankine = (tv_kelvin * 9 / 5)\n",
    "da = 145366 * ( 1 - ((17.326 * station_pressure_mil * 0.029530 / tv_rankine )**(0.235)))\n",
    "\"\"\""
   ]
  }
 ],
 "metadata": {
  "kernelspec": {
   "display_name": "Python 3",
   "language": "python",
   "name": "python3"
  },
  "language_info": {
   "codemirror_mode": {
    "name": "ipython",
    "version": 3
   },
   "file_extension": ".py",
   "mimetype": "text/x-python",
   "name": "python",
   "nbconvert_exporter": "python",
   "pygments_lexer": "ipython3",
   "version": "3.8.10"
  },
  "toc": {
   "base_numbering": 1,
   "nav_menu": {},
   "number_sections": true,
   "sideBar": true,
   "skip_h1_title": false,
   "title_cell": "Table of Contents",
   "title_sidebar": "Contents",
   "toc_cell": false,
   "toc_position": {},
   "toc_section_display": true,
   "toc_window_display": false
  },
  "varInspector": {
   "cols": {
    "lenName": 16,
    "lenType": 16,
    "lenVar": 40
   },
   "kernels_config": {
    "python": {
     "delete_cmd_postfix": "",
     "delete_cmd_prefix": "del ",
     "library": "var_list.py",
     "varRefreshCmd": "print(var_dic_list())"
    },
    "r": {
     "delete_cmd_postfix": ") ",
     "delete_cmd_prefix": "rm(",
     "library": "var_list.r",
     "varRefreshCmd": "cat(var_dic_list()) "
    }
   },
   "types_to_exclude": [
    "module",
    "function",
    "builtin_function_or_method",
    "instance",
    "_Feature"
   ],
   "window_display": false
  }
 },
 "nbformat": 4,
 "nbformat_minor": 5
}
